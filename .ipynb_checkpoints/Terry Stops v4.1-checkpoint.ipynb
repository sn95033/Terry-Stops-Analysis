{
 "cells": [
  {
   "cell_type": "raw",
   "metadata": {},
   "source": []
  },
  {
   "cell_type": "markdown",
   "metadata": {},
   "source": [
    "## Seattle Terry Stops Final Project Submission\n",
    "\n",
    "* Student name: Rebecca Mih\n",
    "* Student pace: Part Time Online\n",
    "* Scheduled project review date/time: \n",
    "* Instructor name: James Irving\n",
    "* Blog post URL: \n",
    "\n",
    "\n",
    "* Data Source:  https://www.kaggle.com/city-of-seattle/seattle-terry-stops\n",
    "\n",
    "* Date of last update to the datasource: April 15, 2020\n",
    "\n",
    "\n",
    "* Key references:\n",
    "* https://assets.documentcloud.org/documents/6136893/SPDs-2019-Annual-Report-on-Stops-and-Detentions.pdf\n",
    "\n",
    "* https://www.seattletimes.com/seattle-news/crime/federal-monitor-finds-seattle-police-are-conducting-proper-stops-and-frisks/"
   ]
  },
  {
   "cell_type": "markdown",
   "metadata": {},
   "source": [
    "<div>\n",
    "<img src= \"Seattle Police Dept.jpg\"\n",
    "           width=200\"/>\n",
    "</div"
   ]
  },
  {
   "cell_type": "code",
   "execution_count": null,
   "metadata": {},
   "outputs": [],
   "source": []
  },
  {
   "cell_type": "markdown",
   "metadata": {},
   "source": [
    "\n",
    "## Background\n",
    "\n",
    "https://caselaw.findlaw.com/us-supreme-court/392/1.html\n",
    "\n",
    "This data represents records of police reported stops under Terry v. Ohio, 392 U.S. 1 (1968). Each row represents a unique stop.\n",
    "\n",
    " A Terry stop is a seizure under both state and federal law. A Terry stop is\n",
    "defined in policy as a brief, minimally intrusive seizure of a subject based upon\n",
    "**articulable reasonable suspicion (ARS) in order to investigate possible criminal activity.**\n",
    "The stop can apply to people as well as to vehicles. The subject of a Terry stop is\n",
    "**not** free to leave.\n",
    "\n",
    "Section 6.220 of the Seattle Police Department (SPD) Manual defines Reasonable Suspicion as:\n",
    "Specific, objective, articulable facts which, taken together with rational inferences, would\n",
    "create a  **well-founded suspicion that there is a substantial possibility that a subject has\n",
    "engaged, is engaging or is about to engage in criminal conduct.**\n",
    "\n",
    "- Each record contains perceived demographics of the subject, as reported by the officer making the stop and officer demographics as reported to the Seattle Police Department, for employment purposes.\n",
    "- Where available, data elements from the associated Computer Aided Dispatch (CAD) event (e.g. Call Type, Initial Call Type, Final Call Type) are included.\n",
    "\n",
    "\n",
    "## Notes on Concealed Weapons in the State of Washington\n",
    "\n",
    "WHAT ARE WASHINGTON’S CONCEALED CARRY LAWS?\n",
    "Open carry of a firearm is lawful without a permit in the state of Washington except, according to the law, “under circumstances, and at a time and place that either manifests an intent to intimidate another or that warrants alarm for the safety of other persons.”\n",
    "\n",
    "**However, open carry of a loaded handgun in a vehicle is legal only with a concealed pistol license. Open carry of a loaded long gun in a vehicle is illegal.**\n",
    "\n",
    "The criminal charge of “carrying a concealed firearm” happens in this state when someone carries a concealed firearm **without a concealed pistol license**. It does not matter if the weapon was discovered in the defendant’s home, vehicle, or on his or her person.\n",
    "\n",
    "## Objectives\n",
    "### Target:\n",
    "\n",
    "   * Identify Terry Stops which lead to Arrest or Prosecution (Binary Classification)\n",
    "    \n",
    "### Features:\n",
    "   * Location (Precinct)\n",
    "   * Day of the Week (Date)\n",
    "   * Shift (Time)\n",
    "   * Initial Call Type\n",
    "   * Final Call Type\n",
    "   * Stop Resolution\n",
    "   * Weapon type\n",
    "   * Officer Squad\n",
    "   * Age of officer\n",
    "   * Age of detainee\n",
    "    \n",
    "    \n",
    "### Optional Features:\n",
    "   * Race of officer\n",
    "   * Race of detainee\n",
    "   * Gender of officer\n",
    "   * Gender of detainee\n",
    "    \n",
    "   "
   ]
  },
  {
   "cell_type": "markdown",
   "metadata": {
    "heading_collapsed": true
   },
   "source": [
    "## Definition of Features Provided"
   ]
  },
  {
   "cell_type": "markdown",
   "metadata": {
    "hidden": true
   },
   "source": [
    "Column Names and descriptions provided in the SPD dataset  <br>\n",
    "* **Subject Age Group**\t\n",
    "Subject Age Group (10 year increments) as reported by the officer. <br><br>\n",
    "\n",
    "* **Subject ID**\t\n",
    "Key, generated daily, identifying unique subjects in the dataset using a character to character match of first name and last name. \"Null\" values indicate an \"anonymous\" or \"unidentified\" subject. Subjects of a Terry Stop are not required to present identification.  **Not Used** <br><br>\n",
    "\n",
    "* **GO / SC Num**\n",
    "General Offense or Street Check number, relating the Terry Stop to the parent report. This field may have a one to many relationship in the data. **Not Used** <br><br>\n",
    "\n",
    "* **Terry Stop ID**\n",
    "Key identifying unique Terry Stop reports.  **Not Used**\n",
    "<br><br>\n",
    "\n",
    "* **Stop Resolution**\n",
    "Resolution of the stop**One hot encoding** <br><br>\n",
    "\n",
    "* **Weapon Type**\t\n",
    "Type of weapon, if any, identified during a search or frisk of the subject. Indicates \"None\" if no weapons was found.  <br><br>\n",
    "\n",
    "* **Officer ID**\t\n",
    "Key identifying unique officers in the dataset.\n",
    "**Not Used** <br><br>\n",
    "\n",
    "* **Officer YOB**\t\n",
    "Year of birth, as reported by the officer.  <br><br>\n",
    "\n",
    "* **Officer Gender**\t\n",
    "Gender of the officer, as reported by the officer.\n",
    " <br><br>\n",
    "\n",
    "* **Officer Race**\t\n",
    "Race of the officer, as reported by the officer. <br><br>\n",
    "\n",
    "* **Subject Perceived Race**\t\n",
    "Perceived race of the subject, as reported by the officer. <br><br>\n",
    "\n",
    "* **Subject Perceived Gender**\t\n",
    "Perceived gender of the subject, as reported by the officer. <br><br>\n",
    "\n",
    "* **Reported Date**\t\n",
    "Date the report was filed in the Records Management System (RMS). Not necessarily the date the stop occurred but generally within 1 day.  <br><br>\n",
    "\n",
    "* **Reported Time**\t\n",
    "Time the stop was reported in the Records Management System (RMS). Not the time the stop occurred but generally within 10 hours.  <br><br>\n",
    "\n",
    "* **Initial Call Type**\t\n",
    "Initial classification of the call as assigned by 911.  <br><br>\n",
    "\n",
    "* **Final Call Type**\t\n",
    "Final classification of the call as assigned by the primary officer closing the event.  <br><br>\n",
    "\n",
    "* **Call Type**\t\n",
    "How the call was received by the communication center.\n",
    "\n",
    "* **Officer Squad**\t\n",
    "Functional squad assignment (not budget) of the officer as reported by the Data Analytics Platform (DAP). <br><br>\n",
    "\n",
    "* **Arrest Flag**\t\n",
    "Indicator of whether a \"physical arrest\" was made, of the subject, during the Terry Stop. Does not necessarily reflect a report of an arrest in the Records Management System (RMS). <br><br>\n",
    "\n",
    "* **Frisk Flag**\t\n",
    "Indicator of whether a \"frisk\" was conducted, by the officer, of the subject, during the Terry Stop. <br><br>\n",
    "\n",
    "* **Precinct**\t\n",
    "Precinct of the address associated with the underlying Computer Aided Dispatch (CAD) event. Not necessarily where the Terry Stop occurred. <br><br>\n",
    "\n",
    "* **Sector**\t\n",
    "Sector of the address associated with the underlying Computer Aided Dispatch (CAD) event. Not necessarily where the Terry Stop occurred. <br><br>\n",
    "\n",
    "* **Beat**\t\n",
    "Beat of the address associated with the underlying Computer Aided Dispatch (CAD) event. Not necessarily where the Terry Stop occurred. <br><br>"
   ]
  },
  {
   "cell_type": "markdown",
   "metadata": {
    "heading_collapsed": true
   },
   "source": [
    "## Analysis Workflow (OSEMN)"
   ]
  },
  {
   "cell_type": "markdown",
   "metadata": {
    "hidden": true
   },
   "source": [
    "1. **Obtain and Pre-process**\n",
    "    - [x] Import data\n",
    "    - [x] Remove unused columns\n",
    "    - [x] Check data size, NaNs, and # of non-null values which are not valid data \n",
    "    - [x] Clean up missing values by imputing values or dropping\n",
    "    - [x] Replace ? or other non-valid data by imputing values or dropping data\n",
    "    - [x] Check for duplicates and remove if appropriate\n",
    "    - [x] Change datatypes of columns as appropriate \n",
    "    - [x] Note which features are continuous and which are categorical<br><br>\n",
    "\n",
    "2. **Data Scoping**\n",
    "     - [x] Use value_counts() to identify dummy categories such as \"-\", or \"?\" for later re-mapping\n",
    "     - [x] Identify most common word data\n",
    "     - [x] Decide on which columns (features) to keep for further feature engineering\n",
    "   \n",
    "3. **Transformation of data (Feature Engineering)**\n",
    "    - [x] Re-bin categories to reduce noise\n",
    "    - [x] Re-map categories as needed\n",
    "    - [x] Engineer text data to extract common word information\n",
    "    - [x] Transform categoricals using 1-hot encoding or label encoding/\n",
    "    - [x] Perform log transformations on continuous variables (if applicable)\n",
    "    - [x] Normalize continuous variables\n",
    "    - [x] Use re-sampling if needed to balance the dataset <br> <br>\n",
    "    \n",
    "4. **Further Feature Selection**\n",
    "     - [x] Use .describe() and .hist() histograms\n",
    "     - [x] Identify outliers (based on auto-scaling of plots) and remove or inpute as needed\n",
    "     - [x] Perform visualizations on key features to understand  \n",
    "     - [x] Inspect feature correlations (Pearson correlation) to identify co-linear features**<br><br>\n",
    "\n",
    "5.  **Create a Vanilla Machine Learning Model**\n",
    "    - [x] Split into train and test data \n",
    "    - [x] Run the model\n",
    "    - [x] Review Quality indicators of the model <br><br>\n",
    "\n",
    "6. **Run more advanced models**\n",
    "    - [x] Compare the model quality\n",
    "    - [x] Choose one or more models for grid searching <br><br>\n",
    "    \n",
    "7. **Revise data inputs if needed to improve quality indicators**\n",
    "    - [x] By adding created features, and removing colinear features\n",
    "    - [x] By improving unbalanced datasets through oversampling or undersampling\n",
    "    - [x] by removing outliers through filters\n",
    "    - [x] through use of subject matter knowledge <br><br>\n",
    "    \n",
    "8. **Write the Report**\n",
    "    - [X] Explain key findings and recommended next steps\n",
    "\n"
   ]
  },
  {
   "cell_type": "markdown",
   "metadata": {},
   "source": [
    "## 1. Obtain and Pre-Process the Data"
   ]
  },
  {
   "cell_type": "markdown",
   "metadata": {},
   "source": [
    "1. **Obtain and Pre-process**\n",
    "    - [x] Import data\n",
    "    - [x] Remove unused columns\n",
    "    - [x] Check data size, NaNs, and # of non-null values which are not valid data \n",
    "    - [x] Clean up missing values by imputing values or dropping\n",
    "    - [x] Replace ? or other non-valid data by imputing values or dropping data\n",
    "    - [x] Check for duplicates and remove if appropriate\n",
    "    - [x] Change datatypes of columns as appropriate \n",
    "    - [x] Decide the target column, if not already decided\n",
    "    - [x] Determine if some data is not relevent to the question (drop columns or rows)\n",
    "    - [x] Note which features which will need to be re-mapped or encoded \n",
    "    - [x] Note which features might require feature engineering (example - date, time) <br><br>"
   ]
  },
  {
   "cell_type": "code",
   "execution_count": 1,
   "metadata": {},
   "outputs": [
    {
     "name": "stdout",
     "output_type": "stream",
     "text": [
      "fsds_1007219  v0.7.21 loaded.  Read the docs: https://fsds.readthedocs.io/en/latest/ \n"
     ]
    },
    {
     "data": {
      "text/html": [
       "<style  type=\"text/css\" >\n",
       "</style><table id=\"T_98709ca4_8cbc_11ea_9a10_5800e3d0a9a8\" ><caption>Loaded Packages and Handles</caption><thead>    <tr>        <th class=\"col_heading level0 col0\" >Handle</th>        <th class=\"col_heading level0 col1\" >Package</th>        <th class=\"col_heading level0 col2\" >Description</th>    </tr></thead><tbody>\n",
       "                <tr>\n",
       "                                <td id=\"T_98709ca4_8cbc_11ea_9a10_5800e3d0a9a8row0_col0\" class=\"data row0 col0\" >dp</td>\n",
       "                        <td id=\"T_98709ca4_8cbc_11ea_9a10_5800e3d0a9a8row0_col1\" class=\"data row0 col1\" >IPython.display</td>\n",
       "                        <td id=\"T_98709ca4_8cbc_11ea_9a10_5800e3d0a9a8row0_col2\" class=\"data row0 col2\" >Display modules with helpful display and clearing commands.</td>\n",
       "            </tr>\n",
       "            <tr>\n",
       "                                <td id=\"T_98709ca4_8cbc_11ea_9a10_5800e3d0a9a8row1_col0\" class=\"data row1 col0\" >fs</td>\n",
       "                        <td id=\"T_98709ca4_8cbc_11ea_9a10_5800e3d0a9a8row1_col1\" class=\"data row1 col1\" >fsds_100719</td>\n",
       "                        <td id=\"T_98709ca4_8cbc_11ea_9a10_5800e3d0a9a8row1_col2\" class=\"data row1 col2\" >Custom data science bootcamp student package</td>\n",
       "            </tr>\n",
       "            <tr>\n",
       "                                <td id=\"T_98709ca4_8cbc_11ea_9a10_5800e3d0a9a8row2_col0\" class=\"data row2 col0\" >mpl</td>\n",
       "                        <td id=\"T_98709ca4_8cbc_11ea_9a10_5800e3d0a9a8row2_col1\" class=\"data row2 col1\" >matplotlib</td>\n",
       "                        <td id=\"T_98709ca4_8cbc_11ea_9a10_5800e3d0a9a8row2_col2\" class=\"data row2 col2\" >Matplotlib's base OOP module with formatting artists</td>\n",
       "            </tr>\n",
       "            <tr>\n",
       "                                <td id=\"T_98709ca4_8cbc_11ea_9a10_5800e3d0a9a8row3_col0\" class=\"data row3 col0\" >plt</td>\n",
       "                        <td id=\"T_98709ca4_8cbc_11ea_9a10_5800e3d0a9a8row3_col1\" class=\"data row3 col1\" >matplotlib.pyplot</td>\n",
       "                        <td id=\"T_98709ca4_8cbc_11ea_9a10_5800e3d0a9a8row3_col2\" class=\"data row3 col2\" >Matplotlib's matlab-like plotting module</td>\n",
       "            </tr>\n",
       "            <tr>\n",
       "                                <td id=\"T_98709ca4_8cbc_11ea_9a10_5800e3d0a9a8row4_col0\" class=\"data row4 col0\" >np</td>\n",
       "                        <td id=\"T_98709ca4_8cbc_11ea_9a10_5800e3d0a9a8row4_col1\" class=\"data row4 col1\" >numpy</td>\n",
       "                        <td id=\"T_98709ca4_8cbc_11ea_9a10_5800e3d0a9a8row4_col2\" class=\"data row4 col2\" >scientific computing with Python</td>\n",
       "            </tr>\n",
       "            <tr>\n",
       "                                <td id=\"T_98709ca4_8cbc_11ea_9a10_5800e3d0a9a8row5_col0\" class=\"data row5 col0\" >pd</td>\n",
       "                        <td id=\"T_98709ca4_8cbc_11ea_9a10_5800e3d0a9a8row5_col1\" class=\"data row5 col1\" >pandas</td>\n",
       "                        <td id=\"T_98709ca4_8cbc_11ea_9a10_5800e3d0a9a8row5_col2\" class=\"data row5 col2\" >High performance data structures and tools</td>\n",
       "            </tr>\n",
       "            <tr>\n",
       "                                <td id=\"T_98709ca4_8cbc_11ea_9a10_5800e3d0a9a8row6_col0\" class=\"data row6 col0\" >sns</td>\n",
       "                        <td id=\"T_98709ca4_8cbc_11ea_9a10_5800e3d0a9a8row6_col1\" class=\"data row6 col1\" >seaborn</td>\n",
       "                        <td id=\"T_98709ca4_8cbc_11ea_9a10_5800e3d0a9a8row6_col2\" class=\"data row6 col2\" >High-level data visualization library based on matplotlib</td>\n",
       "            </tr>\n",
       "    </tbody></table>"
      ],
      "text/plain": [
       "<pandas.io.formats.style.Styler at 0x26e4496dda0>"
      ]
     },
     "metadata": {},
     "output_type": "display_data"
    },
    {
     "data": {
      "text/html": [
       "        <script type=\"text/javascript\">\n",
       "        window.PlotlyConfig = {MathJaxConfig: 'local'};\n",
       "        if (window.MathJax) {MathJax.Hub.Config({SVG: {font: \"STIX-Web\"}});}\n",
       "        if (typeof require !== 'undefined') {\n",
       "        require.undef(\"plotly\");\n",
       "        requirejs.config({\n",
       "            paths: {\n",
       "                'plotly': ['https://cdn.plot.ly/plotly-latest.min']\n",
       "            }\n",
       "        });\n",
       "        require(['plotly'], function(Plotly) {\n",
       "            window._Plotly = Plotly;\n",
       "        });\n",
       "        }\n",
       "        </script>\n",
       "        "
      ]
     },
     "metadata": {},
     "output_type": "display_data"
    },
    {
     "name": "stdout",
     "output_type": "stream",
     "text": [
      "[i] Pandas .iplot() method activated.\n"
     ]
    }
   ],
   "source": [
    "!pip install -U fsds_100719\n",
    "from fsds_100719.imports import *\n",
    "#import pandas as pd\n",
    "#import numpy as np\n",
    "#import matplotlib.pyplot as plt\n",
    "#import seaborn as sns\n",
    "import copy\n",
    "import sklearn\n",
    "import math\n",
    "import datetime\n",
    "#import plotly.express as px\n",
    "#import plotly.graphy_objects as go\n",
    "import warnings\n",
    "warnings.filterwarnings('ignore')\n",
    "\n",
    "pd.options.display.float_format = '{:.1f}'.format\n",
    "pd.set_option('display.max_columns',0)\n",
    "pd.set_option('display.max_info_rows',200)\n",
    "%matplotlib inline\n"
   ]
  },
  {
   "cell_type": "code",
   "execution_count": 2,
   "metadata": {},
   "outputs": [],
   "source": [
    "def plot_importance(tree, top_n=20,figsize=(10,10)):\n",
    "    df_importance = pd.Series(tree.feature_importances_,index=X_train.columns)\n",
    "    df_importance.sort_values(ascending=True).tail(top_n).plot(\n",
    "        kind='barh',figsize=figsize)\n",
    "    return df_importance"
   ]
  },
  {
   "cell_type": "code",
   "execution_count": 116,
   "metadata": {},
   "outputs": [],
   "source": [
    "# Write a function which evaluates the model, and returns\n",
    "import sklearn.metrics as metrics\n",
    "\n",
    "def evaluate_model(y_true, y_pred,X_true,clf,cm_kws=dict(cmap=\"Blues\",\n",
    "                                  normalize='true'),figsize=(10,4),plot_roc_auc=True):\n",
    "    \n",
    "    ## Reporting Scores\n",
    "    print('Accuracy Score :',accuracy_score(y_true, y_pred))\n",
    "    print(metrics.classification_report(y_true,y_pred, \n",
    "                                        target_names = ['Not Arrested', 'Arrested']))\n",
    "\n",
    "    if plot_roc_auc:\n",
    "        num_cols=2\n",
    "    else:\n",
    "        num_cols=1\n",
    "        \n",
    "    fig, ax = plt.subplots(figsize=figsize,ncols=num_cols)\n",
    "    \n",
    "    if not isinstance(ax,np.ndarray):\n",
    "        ax=[ax]\n",
    "    metrics.plot_confusion_matrix(clf,X_true,y_true,ax=ax[0],**cm_kws)\n",
    "    ax[0].set(title='Confusion Matrix')\n",
    "    \n",
    "    if plot_roc_auc:\n",
    "        try:\n",
    "            y_score = clf.predict_proba(X_true)[:,1]\n",
    "\n",
    "            fpr,tpr,thresh = metrics.roc_curve(y_true,y_score)\n",
    "            # print(f\"ROC-area-under-the-curve= {}\")\n",
    "            roc_auc = round(metrics.auc(fpr,tpr),3)\n",
    "            ax[1].plot(fpr,tpr,color='darkorange',label=f'ROC Curve (AUC={roc_auc})')\n",
    "            ax[1].plot([0,1],[0,1],ls=':')\n",
    "            ax[1].legend()\n",
    "            ax[1].grid()\n",
    "            ax[1].set(ylabel='True Positive Rate',xlabel='False Positive Rate',\n",
    "                  title='Receiver operating characteristic (ROC) Curve')\n",
    "            plt.tight_layout()\n",
    "            plt.show()\n",
    "        except:\n",
    "            pass\n",
    "    try: \n",
    "        df_important = plot_importance(clf)\n",
    "    except:\n",
    "        df_important = None\n",
    "    \n",
    "    return df_important\n",
    "\n"
   ]
  },
  {
   "cell_type": "code",
   "execution_count": 103,
   "metadata": {},
   "outputs": [],
   "source": [
    "def visualize_tree(tree,feature_names=None,class_names=['0','1'],\n",
    "                   kws={},save_filename=None,format_='png',save_and_show=False):\n",
    "    \"\"\"Visualizes a sklearn tree using sklearn.tree.export_graphviz\"\"\"\n",
    "    from sklearn.tree import export_graphviz\n",
    "    from IPython.display import SVG\n",
    "    import graphviz #import Source\n",
    "    from IPython.display import display\n",
    "    \n",
    "    if feature_names is None:\n",
    "        feature_names=X_train.columns\n",
    "\n",
    "    tree_viz_kws =  dict(out_file=None,rounded=True, rotate=False, filled = True)\n",
    "    tree_viz_kws.update(kws)\n",
    "\n",
    "    # tree.export_graphviz(dt) #if you wish to save the output to a dot file instead\n",
    "    tree_data=export_graphviz(tree,feature_names=feature_names, \n",
    "                                   class_names=class_names,**tree_viz_kws)\n",
    "    graph = graphviz.Source(tree_data,format=format_)#'png')\n",
    "    \n",
    "    if save_filename is not None:\n",
    "        graph.render(save_filename)\n",
    "        if save_and_show:\n",
    "            display(graph)\n",
    "        else:\n",
    "            print(f'[i] Tree saved as {save_filename}.{format_}')\n",
    "    else:\n",
    "        display(graph)\n",
    "\n",
    "#     display(SVG(graph.pipe(format=format_)))#'svg')))"
   ]
  },
  {
   "cell_type": "code",
   "execution_count": 3,
   "metadata": {
    "scrolled": false
   },
   "outputs": [
    {
     "data": {
      "text/plain": [
       "0"
      ]
     },
     "execution_count": 3,
     "metadata": {},
     "output_type": "execute_result"
    }
   ],
   "source": [
    "df = pd.read_csv('Terry_Stops.csv',low_memory=False)\n",
    "df.duplicated().sum()\n"
   ]
  },
  {
   "cell_type": "code",
   "execution_count": 4,
   "metadata": {},
   "outputs": [
    {
     "data": {
      "text/html": [
       "<div>\n",
       "<style scoped>\n",
       "    .dataframe tbody tr th:only-of-type {\n",
       "        vertical-align: middle;\n",
       "    }\n",
       "\n",
       "    .dataframe tbody tr th {\n",
       "        vertical-align: top;\n",
       "    }\n",
       "\n",
       "    .dataframe thead th {\n",
       "        text-align: right;\n",
       "    }\n",
       "</style>\n",
       "<table border=\"1\" class=\"dataframe\">\n",
       "  <thead>\n",
       "    <tr style=\"text-align: right;\">\n",
       "      <th></th>\n",
       "      <th>Subject Age Group</th>\n",
       "      <th>Subject ID</th>\n",
       "      <th>GO / SC Num</th>\n",
       "      <th>Terry Stop ID</th>\n",
       "      <th>Stop Resolution</th>\n",
       "      <th>Weapon Type</th>\n",
       "      <th>Officer ID</th>\n",
       "      <th>Officer YOB</th>\n",
       "      <th>Officer Gender</th>\n",
       "      <th>Officer Race</th>\n",
       "      <th>Subject Perceived Race</th>\n",
       "      <th>Subject Perceived Gender</th>\n",
       "      <th>Reported Date</th>\n",
       "      <th>Reported Time</th>\n",
       "      <th>Initial Call Type</th>\n",
       "      <th>Final Call Type</th>\n",
       "      <th>Call Type</th>\n",
       "      <th>Officer Squad</th>\n",
       "      <th>Arrest Flag</th>\n",
       "      <th>Frisk Flag</th>\n",
       "      <th>Precinct</th>\n",
       "      <th>Sector</th>\n",
       "      <th>Beat</th>\n",
       "    </tr>\n",
       "  </thead>\n",
       "  <tbody>\n",
       "    <tr>\n",
       "      <th>0</th>\n",
       "      <td>-</td>\n",
       "      <td>-1</td>\n",
       "      <td>20140000120677</td>\n",
       "      <td>92317</td>\n",
       "      <td>Arrest</td>\n",
       "      <td>None</td>\n",
       "      <td>7500</td>\n",
       "      <td>1984</td>\n",
       "      <td>M</td>\n",
       "      <td>Black or African American</td>\n",
       "      <td>Asian</td>\n",
       "      <td>Male</td>\n",
       "      <td>2015-10-16T00:00:00</td>\n",
       "      <td>11:32:00</td>\n",
       "      <td>-</td>\n",
       "      <td>-</td>\n",
       "      <td>-</td>\n",
       "      <td>SOUTH PCT 1ST W - ROBERT</td>\n",
       "      <td>N</td>\n",
       "      <td>N</td>\n",
       "      <td>South</td>\n",
       "      <td>O</td>\n",
       "      <td>O2</td>\n",
       "    </tr>\n",
       "    <tr>\n",
       "      <th>1</th>\n",
       "      <td>-</td>\n",
       "      <td>-1</td>\n",
       "      <td>20150000001670</td>\n",
       "      <td>32260</td>\n",
       "      <td>Field Contact</td>\n",
       "      <td>None</td>\n",
       "      <td>7539</td>\n",
       "      <td>1963</td>\n",
       "      <td>M</td>\n",
       "      <td>White</td>\n",
       "      <td>-</td>\n",
       "      <td>-</td>\n",
       "      <td>2015-04-01T00:00:00</td>\n",
       "      <td>04:55:00</td>\n",
       "      <td>-</td>\n",
       "      <td>-</td>\n",
       "      <td>-</td>\n",
       "      <td>NaN</td>\n",
       "      <td>N</td>\n",
       "      <td>N</td>\n",
       "      <td>-</td>\n",
       "      <td>-</td>\n",
       "      <td>-</td>\n",
       "    </tr>\n",
       "    <tr>\n",
       "      <th>2</th>\n",
       "      <td>-</td>\n",
       "      <td>-1</td>\n",
       "      <td>20150000002451</td>\n",
       "      <td>46430</td>\n",
       "      <td>Field Contact</td>\n",
       "      <td>None</td>\n",
       "      <td>7591</td>\n",
       "      <td>1985</td>\n",
       "      <td>M</td>\n",
       "      <td>Hispanic or Latino</td>\n",
       "      <td>-</td>\n",
       "      <td>-</td>\n",
       "      <td>2015-05-25T00:00:00</td>\n",
       "      <td>01:06:00</td>\n",
       "      <td>-</td>\n",
       "      <td>-</td>\n",
       "      <td>-</td>\n",
       "      <td>WEST PCT 3RD W - MARY</td>\n",
       "      <td>N</td>\n",
       "      <td>N</td>\n",
       "      <td>-</td>\n",
       "      <td>-</td>\n",
       "      <td>-</td>\n",
       "    </tr>\n",
       "    <tr>\n",
       "      <th>3</th>\n",
       "      <td>-</td>\n",
       "      <td>-1</td>\n",
       "      <td>20150000002815</td>\n",
       "      <td>51725</td>\n",
       "      <td>Field Contact</td>\n",
       "      <td>None</td>\n",
       "      <td>7456</td>\n",
       "      <td>1979</td>\n",
       "      <td>M</td>\n",
       "      <td>White</td>\n",
       "      <td>-</td>\n",
       "      <td>-</td>\n",
       "      <td>2015-06-09T00:00:00</td>\n",
       "      <td>19:27:00</td>\n",
       "      <td>-</td>\n",
       "      <td>-</td>\n",
       "      <td>-</td>\n",
       "      <td>NORTH PCT 2ND W - NORA</td>\n",
       "      <td>N</td>\n",
       "      <td>N</td>\n",
       "      <td>-</td>\n",
       "      <td>-</td>\n",
       "      <td>-</td>\n",
       "    </tr>\n",
       "    <tr>\n",
       "      <th>4</th>\n",
       "      <td>-</td>\n",
       "      <td>-1</td>\n",
       "      <td>20150000002815</td>\n",
       "      <td>51727</td>\n",
       "      <td>Field Contact</td>\n",
       "      <td>None</td>\n",
       "      <td>7456</td>\n",
       "      <td>1979</td>\n",
       "      <td>M</td>\n",
       "      <td>White</td>\n",
       "      <td>-</td>\n",
       "      <td>-</td>\n",
       "      <td>2015-06-09T00:00:00</td>\n",
       "      <td>19:32:00</td>\n",
       "      <td>-</td>\n",
       "      <td>-</td>\n",
       "      <td>-</td>\n",
       "      <td>NORTH PCT 2ND W - NORA</td>\n",
       "      <td>N</td>\n",
       "      <td>N</td>\n",
       "      <td>-</td>\n",
       "      <td>-</td>\n",
       "      <td>-</td>\n",
       "    </tr>\n",
       "  </tbody>\n",
       "</table>\n",
       "</div>"
      ],
      "text/plain": [
       "  Subject Age Group  Subject ID     GO / SC Num  ...  Precinct  Sector    Beat\n",
       "0                 -          -1  20140000120677  ...     South  O       O2    \n",
       "1                 -          -1  20150000001670  ...         -       -       -\n",
       "2                 -          -1  20150000002451  ...         -       -       -\n",
       "3                 -          -1  20150000002815  ...         -       -       -\n",
       "4                 -          -1  20150000002815  ...         -       -       -\n",
       "\n",
       "[5 rows x 23 columns]"
      ]
     },
     "execution_count": 4,
     "metadata": {},
     "output_type": "execute_result"
    }
   ],
   "source": [
    "df.head()"
   ]
  },
  {
   "cell_type": "markdown",
   "metadata": {},
   "source": [
    "* Drop Columns which contain IDs, which are not useful features."
   ]
  },
  {
   "cell_type": "code",
   "execution_count": 5,
   "metadata": {},
   "outputs": [],
   "source": [
    "df.drop(columns = ['Subject ID', 'GO / SC Num', 'Terry Stop ID', 'Officer ID'], inplace=True)"
   ]
  },
  {
   "cell_type": "code",
   "execution_count": 6,
   "metadata": {},
   "outputs": [
    {
     "data": {
      "text/plain": [
       "112"
      ]
     },
     "execution_count": 6,
     "metadata": {},
     "output_type": "execute_result"
    }
   ],
   "source": [
    "df.duplicated().sum()\n",
    "# After dropping some of the columns, some rows appear to be duplicated.\n",
    "# However, since the date and time of the incident are NOT exact (i.e. the date could be 24 hours later, and the\n",
    "# time could be 10 hours later), it's possible to get some that are similar on different consecutive dates."
   ]
  },
  {
   "cell_type": "code",
   "execution_count": 7,
   "metadata": {},
   "outputs": [
    {
     "data": {
      "text/plain": [
       "Index(['Subject Age Group', 'Stop Resolution', 'Weapon Type', 'Officer YOB',\n",
       "       'Officer Gender', 'Officer Race', 'Subject Perceived Race',\n",
       "       'Subject Perceived Gender', 'Reported Date', 'Reported Time',\n",
       "       'Initial Call Type', 'Final Call Type', 'Call Type', 'Officer Squad',\n",
       "       'Arrest Flag', 'Frisk Flag', 'Precinct', 'Sector', 'Beat'],\n",
       "      dtype='object')"
      ]
     },
     "execution_count": 7,
     "metadata": {},
     "output_type": "execute_result"
    }
   ],
   "source": [
    "df.columns"
   ]
  },
  {
   "cell_type": "code",
   "execution_count": 8,
   "metadata": {},
   "outputs": [
    {
     "name": "stdout",
     "output_type": "stream",
     "text": [
      "Index(['Subject Age Group', 'Stop Resolution', 'Weapon Type', 'Officer YOB',\n",
      "       'Officer Gender', 'Officer Race', 'Subject Perceived Race',\n",
      "       'Subject Perceived Gender', 'Reported Date', 'Reported Time',\n",
      "       'Initial Call Type', 'Final Call Type', 'Call Type', 'Officer Squad',\n",
      "       'Arrest Flag', 'Frisk Flag', 'Precinct', 'Sector', 'Beat'],\n",
      "      dtype='object')\n"
     ]
    }
   ],
   "source": [
    "col_names = df.columns\n",
    "print(col_names)"
   ]
  },
  {
   "cell_type": "code",
   "execution_count": 9,
   "metadata": {},
   "outputs": [
    {
     "data": {
      "text/plain": [
       "(41104, 19)"
      ]
     },
     "execution_count": 9,
     "metadata": {},
     "output_type": "execute_result"
    }
   ],
   "source": [
    "df.shape\n",
    "\n",
    "# The rationale for this is to understand how big the dataset is,  how many features are contained in the data\n",
    "# This helps with planning for function vs lambda functions,  and whether certain kinds of visualizations will be feasible\n",
    "# for the analysis (with my computer hardware).  With compute limitations, types of correlation plots cause the kernal to die,\n",
    "# if there are more than 11 features."
   ]
  },
  {
   "cell_type": "markdown",
   "metadata": {
    "scrolled": true
   },
   "source": [
    "* df.isna().sum()\n",
    "\n",
    "isna().sum() determines how many data are missing from a given feature\n",
    "\n",
    "* df.info() \n",
    "\n",
    "df.info() helps you determine if there missing values or datatypes that need to be modified\n",
    "\n",
    "* Handy alternate checks if needed **\n",
    "    - [x] df.isna().any()\n",
    "    - [x] df.isnull().any()\n",
    "    - [x] df.shape"
   ]
  },
  {
   "cell_type": "code",
   "execution_count": 10,
   "metadata": {
    "scrolled": true
   },
   "outputs": [
    {
     "data": {
      "text/plain": [
       "Subject Age Group             0\n",
       "Stop Resolution               0\n",
       "Weapon Type                   0\n",
       "Officer YOB                   0\n",
       "Officer Gender                0\n",
       "Officer Race                  0\n",
       "Subject Perceived Race        0\n",
       "Subject Perceived Gender      0\n",
       "Reported Date                 0\n",
       "Reported Time                 0\n",
       "Initial Call Type             0\n",
       "Final Call Type               0\n",
       "Call Type                     0\n",
       "Officer Squad               535\n",
       "Arrest Flag                   0\n",
       "Frisk Flag                    0\n",
       "Precinct                      0\n",
       "Sector                        0\n",
       "Beat                          0\n",
       "dtype: int64"
      ]
     },
     "execution_count": 10,
     "metadata": {},
     "output_type": "execute_result"
    }
   ],
   "source": [
    "df.isna().sum()\n"
   ]
  },
  {
   "cell_type": "code",
   "execution_count": 11,
   "metadata": {},
   "outputs": [],
   "source": [
    "df['Officer Squad'].fillna('Unknown', inplace=True)"
   ]
  },
  {
   "cell_type": "markdown",
   "metadata": {},
   "source": [
    "* Findings from isna().sum() *\n",
    "* Officer Squad has 535 missing data (1.3% of the data)\n",
    "    * Impute \"Unknown\""
   ]
  },
  {
   "cell_type": "code",
   "execution_count": 12,
   "metadata": {},
   "outputs": [
    {
     "data": {
      "text/plain": [
       "Subject Age Group           0\n",
       "Stop Resolution             0\n",
       "Weapon Type                 0\n",
       "Officer YOB                 0\n",
       "Officer Gender              0\n",
       "Officer Race                0\n",
       "Subject Perceived Race      0\n",
       "Subject Perceived Gender    0\n",
       "Reported Date               0\n",
       "Reported Time               0\n",
       "Initial Call Type           0\n",
       "Final Call Type             0\n",
       "Call Type                   0\n",
       "Officer Squad               0\n",
       "Arrest Flag                 0\n",
       "Frisk Flag                  0\n",
       "Precinct                    0\n",
       "Sector                      0\n",
       "Beat                        0\n",
       "dtype: int64"
      ]
     },
     "execution_count": 12,
     "metadata": {},
     "output_type": "execute_result"
    }
   ],
   "source": [
    "df.isna().sum()"
   ]
  },
  {
   "cell_type": "code",
   "execution_count": 13,
   "metadata": {},
   "outputs": [
    {
     "name": "stdout",
     "output_type": "stream",
     "text": [
      "<class 'pandas.core.frame.DataFrame'>\n",
      "RangeIndex: 41104 entries, 0 to 41103\n",
      "Data columns (total 19 columns):\n",
      " #   Column                    Dtype \n",
      "---  ------                    ----- \n",
      " 0   Subject Age Group         object\n",
      " 1   Stop Resolution           object\n",
      " 2   Weapon Type               object\n",
      " 3   Officer YOB               int64 \n",
      " 4   Officer Gender            object\n",
      " 5   Officer Race              object\n",
      " 6   Subject Perceived Race    object\n",
      " 7   Subject Perceived Gender  object\n",
      " 8   Reported Date             object\n",
      " 9   Reported Time             object\n",
      " 10  Initial Call Type         object\n",
      " 11  Final Call Type           object\n",
      " 12  Call Type                 object\n",
      " 13  Officer Squad             object\n",
      " 14  Arrest Flag               object\n",
      " 15  Frisk Flag                object\n",
      " 16  Precinct                  object\n",
      " 17  Sector                    object\n",
      " 18  Beat                      object\n",
      "dtypes: int64(1), object(18)\n",
      "memory usage: 6.0+ MB\n"
     ]
    }
   ],
   "source": [
    "df.info()"
   ]
  },
  {
   "cell_type": "code",
   "execution_count": 14,
   "metadata": {},
   "outputs": [
    {
     "data": {
      "text/plain": [
       "112"
      ]
     },
     "execution_count": 14,
     "metadata": {},
     "output_type": "execute_result"
    }
   ],
   "source": [
    "df.duplicated().sum()"
   ]
  },
  {
   "cell_type": "code",
   "execution_count": 15,
   "metadata": {
    "scrolled": false
   },
   "outputs": [],
   "source": [
    "duplicates = df[df.duplicated(keep = False)]\n",
    "#duplicates.head(118)"
   ]
  },
  {
   "cell_type": "markdown",
   "metadata": {},
   "source": [
    "#### Use value_counts() - inspect for dummy variables, and determine next steps for data cleaning\n",
    "\n",
    "1. Rationale:  This analysis is useful for flushing out missing values in the form of question marks, dashes or other symbols or dummy variables <br><br>\n",
    "\n",
    "2.  It also gives a preliminary view of the number and distribution of categories in each feature, albeit by numbers rather than graphics <br><br>\n",
    "\n",
    "3. For text data, value_counts serves as a preliminary investigation of the common important word data <br><br>\n"
   ]
  },
  {
   "cell_type": "code",
   "execution_count": 16,
   "metadata": {
    "scrolled": false
   },
   "outputs": [
    {
     "name": "stdout",
     "output_type": "stream",
     "text": [
      "Subject Age Group \n",
      " 26 - 35         13615\n",
      "36 - 45          8547\n",
      "18 - 25          8509\n",
      "46 - 55          5274\n",
      "56 and Above     1996\n",
      "1 - 17           1876\n",
      "-                1287\n",
      "Name: Subject Age Group, dtype: int64 \n",
      "\n",
      "Stop Resolution \n",
      " Field Contact               16287\n",
      "Offense Report              13976\n",
      "Arrest                       9957\n",
      "Referred for Prosecution      728\n",
      "Citation / Infraction         156\n",
      "Name: Stop Resolution, dtype: int64 \n",
      "\n",
      "Weapon Type \n",
      " None                                 32565\n",
      "-                                     6213\n",
      "Lethal Cutting Instrument             1482\n",
      "Knife/Cutting/Stabbing Instrument      308\n",
      "Handgun                                262\n",
      "Firearm Other                          100\n",
      "Club, Blackjack, Brass Knuckles         49\n",
      "Blunt Object/Striking Implement         37\n",
      "Firearm                                 18\n",
      "Firearm (unk type)                      15\n",
      "Other Firearm                           13\n",
      "Mace/Pepper Spray                       12\n",
      "Club                                     9\n",
      "Rifle                                    5\n",
      "None/Not Applicable                      4\n",
      "Taser/Stun Gun                           4\n",
      "Shotgun                                  3\n",
      "Automatic Handgun                        2\n",
      "Fire/Incendiary Device                   1\n",
      "Brass Knuckles                           1\n",
      "Blackjack                                1\n",
      "Name: Weapon Type, dtype: int64 \n",
      "\n",
      "Officer YOB \n",
      " 1986    2930\n",
      "1987    2600\n",
      "1984    2558\n",
      "1991    2356\n",
      "1985    2331\n",
      "1992    2033\n",
      "1990    1892\n",
      "1988    1831\n",
      "1989    1753\n",
      "1982    1733\n",
      "1983    1587\n",
      "1979    1351\n",
      "1981    1268\n",
      "1971    1177\n",
      "1993    1113\n",
      "1978    1043\n",
      "1977     933\n",
      "1976     904\n",
      "1973     856\n",
      "1980     754\n",
      "1995     753\n",
      "1967     684\n",
      "1994     591\n",
      "1968     583\n",
      "1970     544\n",
      "1974     522\n",
      "1969     511\n",
      "1975     475\n",
      "1962     447\n",
      "1965     403\n",
      "1972     394\n",
      "1964     391\n",
      "1996     252\n",
      "1963     227\n",
      "1958     218\n",
      "1966     216\n",
      "1961     202\n",
      "1959     174\n",
      "1997     170\n",
      "1960     154\n",
      "1954      43\n",
      "1957      41\n",
      "1953      32\n",
      "1955      21\n",
      "1956      16\n",
      "1948      11\n",
      "1900       9\n",
      "1952       9\n",
      "1949       5\n",
      "1946       2\n",
      "1951       1\n",
      "Name: Officer YOB, dtype: int64 \n",
      "\n",
      "Officer Gender \n",
      " M    36504\n",
      "F     4593\n",
      "N        7\n",
      "Name: Officer Gender, dtype: int64 \n",
      "\n",
      "Officer Race \n",
      " White                            31805\n",
      "Hispanic or Latino                2255\n",
      "Two or More Races                 2158\n",
      "Black or African American         1674\n",
      "Asian                             1563\n",
      "Not Specified                      912\n",
      "Nat Hawaiian/Oth Pac Islander      419\n",
      "American Indian/Alaska Native      309\n",
      "Unknown                              9\n",
      "Name: Officer Race, dtype: int64 \n",
      "\n",
      "Subject Perceived Race \n",
      " White                                        20192\n",
      "Black or African American                    12243\n",
      "Unknown                                       2073\n",
      "Hispanic                                      1684\n",
      "-                                             1422\n",
      "Asian                                         1278\n",
      "American Indian or Alaska Native              1224\n",
      "Multi-Racial                                   809\n",
      "Other                                          152\n",
      "Native Hawaiian or Other Pacific Islander       27\n",
      "Name: Subject Perceived Race, dtype: int64 \n",
      "\n",
      "Subject Perceived Gender \n",
      " Male                                                         32049\n",
      "Female                                                        8468\n",
      "Unable to Determine                                            326\n",
      "-                                                              253\n",
      "Unknown                                                          7\n",
      "Gender Diverse (gender non-conforming and/or transgender)        1\n",
      "Name: Subject Perceived Gender, dtype: int64 \n",
      "\n",
      "Reported Date \n",
      " 2015-10-01T00:00:00    101\n",
      "2015-09-29T00:00:00     66\n",
      "2015-05-28T00:00:00     57\n",
      "2015-07-18T00:00:00     55\n",
      "2019-04-26T00:00:00     54\n",
      "                      ... \n",
      "2015-04-14T00:00:00      1\n",
      "2015-03-15T00:00:00      1\n",
      "2015-03-31T00:00:00      1\n",
      "2015-04-28T00:00:00      1\n",
      "2015-03-28T00:00:00      1\n",
      "Name: Reported Date, Length: 1860, dtype: int64 \n",
      "\n",
      "Reported Time \n",
      " 19:18:00    51\n",
      "03:13:00    50\n",
      "02:56:00    50\n",
      "03:09:00    50\n",
      "18:51:00    49\n",
      "            ..\n",
      "12:38:21     1\n",
      "19:12:58     1\n",
      "21:05:58     1\n",
      "02:11:13     1\n",
      "07:47:41     1\n",
      "Name: Reported Time, Length: 7644, dtype: int64 \n",
      "\n",
      "Initial Call Type \n",
      " -                                                  12743\n",
      "SUSPICIOUS PERSON, VEHICLE OR INCIDENT              2492\n",
      "SUSPICIOUS STOP - OFFICER INITIATED ONVIEW          2489\n",
      "DISTURBANCE, MISCELLANEOUS/OTHER                    2116\n",
      "ASLT - IP/JO - WITH OR W/O WPNS (NO SHOOTINGS)      1714\n",
      "                                                   ...  \n",
      "-ASSIGNED DUTY - STAKEOUT                              1\n",
      "HAZ - IMMINENT THRT TO PHYS SAFETY (NO HAZ MAT)        1\n",
      "INJURED -  PERSON/INDUSTRIAL ACCIDENT                  1\n",
      "VICE - PORNOGRAPHY                                     1\n",
      "ANIMAL, REPORT - BITE                                  1\n",
      "Name: Initial Call Type, Length: 161, dtype: int64 \n",
      "\n",
      "Final Call Type \n",
      " -                                           12743\n",
      "--SUSPICIOUS CIRCUM. - SUSPICIOUS PERSON     2991\n",
      "--PROWLER - TRESPASS                         2672\n",
      "--DISTURBANCE - OTHER                        2318\n",
      "--ASSAULTS, OTHER                            1967\n",
      "                                            ...  \n",
      "ASSIST OTHER AGENCY - EMERGENCY SERVICE         1\n",
      "ESCAPE - PRISONER                               1\n",
      "FIGHT - VERBAL/ORAL (NO WEAPONS)                1\n",
      "NARCOTICS - FOUND                               1\n",
      "MVC - NON INJURY, BLOCKING                      1\n",
      "Name: Final Call Type, Length: 193, dtype: int64 \n",
      "\n",
      "Call Type \n",
      " 911                              17857\n",
      "-                                12743\n",
      "ONVIEW                            7445\n",
      "TELEPHONE OTHER, NOT 911          2828\n",
      "ALARM CALL (NOT POLICE ALARM)      226\n",
      "PROACTIVE (OFFICER INITIATED)        2\n",
      "TEXT MESSAGE                         2\n",
      "SCHEDULED EVENT (RECURRING)          1\n",
      "Name: Call Type, dtype: int64 \n",
      "\n",
      "Officer Squad \n",
      " TRAINING - FIELD TRAINING SQUAD                 4310\n",
      "WEST PCT 1ST W - DAVID/MARY                     1273\n",
      "NORTH PCT 2ND WATCH - NORTH BEATS                879\n",
      "WEST PCT 2ND W - D/M RELIEF                      874\n",
      "SOUTHWEST PCT 2ND W - FRANK                      838\n",
      "                                                ... \n",
      "ROBBERY SQUAD A                                    1\n",
      "SOUTHWEST PCT OPS - BURG/THEFT                     1\n",
      "VICE - GENERAL INVESTIGATIONS SQUAD                1\n",
      "COMMUNITY OUTREACH - SPECIAL PROJECTS DETAIL       1\n",
      "TRAINING - LEARNING MANAGEMENT SYSTEM              1\n",
      "Name: Officer Squad, Length: 158, dtype: int64 \n",
      "\n",
      "Arrest Flag \n",
      " N    39355\n",
      "Y     1749\n",
      "Name: Arrest Flag, dtype: int64 \n",
      "\n",
      "Frisk Flag \n",
      " N    31577\n",
      "Y     9049\n",
      "-      478\n",
      "Name: Frisk Flag, dtype: int64 \n",
      "\n",
      "Precinct \n",
      " -            9485\n",
      "North        9166\n",
      "West         8937\n",
      "East         5515\n",
      "South        4893\n",
      "Southwest    2320\n",
      "SouthWest     558\n",
      "Unknown       200\n",
      "OOJ            18\n",
      "FK ERROR       12\n",
      "Name: Precinct, dtype: int64 \n",
      "\n",
      "Sector \n",
      " -         9664\n",
      "E         2337\n",
      "M         2270\n",
      "N         2191\n",
      "K         1762\n",
      "B         1658\n",
      "L         1639\n",
      "D         1512\n",
      "R         1455\n",
      "F         1378\n",
      "S         1348\n",
      "U         1302\n",
      "O         1161\n",
      "J         1119\n",
      "G         1087\n",
      "C         1037\n",
      "Q          967\n",
      "K          950\n",
      "W          941\n",
      "E          596\n",
      "M          569\n",
      "D          532\n",
      "N          377\n",
      "Q          375\n",
      "O          344\n",
      "F          337\n",
      "R          302\n",
      "S          282\n",
      "G          256\n",
      "B          236\n",
      "J          231\n",
      "U          223\n",
      "W          222\n",
      "C          202\n",
      "L          189\n",
      "99          53\n",
      "Name: Sector, dtype: int64 \n",
      "\n",
      "Beat \n",
      " -         9630\n",
      "N3        1175\n",
      "E2        1092\n",
      "M2         852\n",
      "M3         792\n",
      "          ... \n",
      "U3          45\n",
      "N1          42\n",
      "OOJ         17\n",
      "99          15\n",
      "S            2\n",
      "Name: Beat, Length: 107, dtype: int64 \n",
      "\n"
     ]
    }
   ],
   "source": [
    "for col in df.columns:\n",
    "    print(col, '\\n', df[col].value_counts(), '\\n')"
   ]
  },
  {
   "cell_type": "markdown",
   "metadata": {},
   "source": [
    "####  Findings from value_counts() and Next Steps:\n",
    "\n",
    "1. The \"-\" is used as a substitute for unknown, in many cases.  Perhaps it would be good to build a function to impute \"unknown\" for the \"-\" for multiple features\n",
    "2. Race and gender need re-mapping\n",
    "3. Call Types, Weapons need re-binning\n",
    "4. Officer Squad text can be split and provide the precinct, and the watch.\n",
    "\n",
    "**Next steps:**\n",
    "- [x] Investigation of the Stop Resolution, to determine whether the target should be \"Stop Resolution - Arrests\" or \"Arrest Flag\", and whether \"Frisk Flag\" is useful for predicting arrests.\n",
    "\n",
    "- [x] Decide whether time and location information can be extracted from the \"Officer Squad\" column instead of the columns for time, Precinct, Sector and Beats\n",
    " \n",
    "    \n",
    "    "
   ]
  },
  {
   "cell_type": "code",
   "execution_count": 17,
   "metadata": {},
   "outputs": [
    {
     "data": {
      "text/html": [
       "<div>\n",
       "<style scoped>\n",
       "    .dataframe tbody tr th:only-of-type {\n",
       "        vertical-align: middle;\n",
       "    }\n",
       "\n",
       "    .dataframe tbody tr th {\n",
       "        vertical-align: top;\n",
       "    }\n",
       "\n",
       "    .dataframe thead th {\n",
       "        text-align: right;\n",
       "    }\n",
       "</style>\n",
       "<table border=\"1\" class=\"dataframe\">\n",
       "  <thead>\n",
       "    <tr style=\"text-align: right;\">\n",
       "      <th></th>\n",
       "      <th>Subject Age Group</th>\n",
       "      <th>Stop Resolution</th>\n",
       "      <th>Weapon Type</th>\n",
       "      <th>Officer YOB</th>\n",
       "      <th>Officer Gender</th>\n",
       "      <th>Officer Race</th>\n",
       "      <th>Subject Perceived Race</th>\n",
       "      <th>Subject Perceived Gender</th>\n",
       "      <th>Reported Date</th>\n",
       "      <th>Reported Time</th>\n",
       "      <th>Initial Call Type</th>\n",
       "      <th>Final Call Type</th>\n",
       "      <th>Call Type</th>\n",
       "      <th>Officer Squad</th>\n",
       "      <th>Arrest Flag</th>\n",
       "      <th>Frisk Flag</th>\n",
       "      <th>Precinct</th>\n",
       "      <th>Sector</th>\n",
       "      <th>Beat</th>\n",
       "    </tr>\n",
       "  </thead>\n",
       "  <tbody>\n",
       "    <tr>\n",
       "      <th>0</th>\n",
       "      <td>-</td>\n",
       "      <td>Arrest</td>\n",
       "      <td>None</td>\n",
       "      <td>1984</td>\n",
       "      <td>M</td>\n",
       "      <td>Black or African American</td>\n",
       "      <td>Asian</td>\n",
       "      <td>Male</td>\n",
       "      <td>2015-10-16T00:00:00</td>\n",
       "      <td>11:32:00</td>\n",
       "      <td>-</td>\n",
       "      <td>-</td>\n",
       "      <td>-</td>\n",
       "      <td>SOUTH PCT 1ST W - ROBERT</td>\n",
       "      <td>N</td>\n",
       "      <td>N</td>\n",
       "      <td>South</td>\n",
       "      <td>O</td>\n",
       "      <td>O2</td>\n",
       "    </tr>\n",
       "    <tr>\n",
       "      <th>32174</th>\n",
       "      <td>36 - 45</td>\n",
       "      <td>Arrest</td>\n",
       "      <td>None</td>\n",
       "      <td>1988</td>\n",
       "      <td>M</td>\n",
       "      <td>White</td>\n",
       "      <td>Multi-Racial</td>\n",
       "      <td>Male</td>\n",
       "      <td>2019-04-13T00:00:00</td>\n",
       "      <td>11:35:00</td>\n",
       "      <td>THREATS - DV - NO ASSAULT</td>\n",
       "      <td>--ASSAULTS - HARASSMENT, THREATS</td>\n",
       "      <td>911</td>\n",
       "      <td>SOUTH PCT 1ST W - SAM</td>\n",
       "      <td>N</td>\n",
       "      <td>N</td>\n",
       "      <td>South</td>\n",
       "      <td>S</td>\n",
       "      <td>S1</td>\n",
       "    </tr>\n",
       "    <tr>\n",
       "      <th>32172</th>\n",
       "      <td>36 - 45</td>\n",
       "      <td>Arrest</td>\n",
       "      <td>None</td>\n",
       "      <td>1991</td>\n",
       "      <td>M</td>\n",
       "      <td>White</td>\n",
       "      <td>Black or African American</td>\n",
       "      <td>Female</td>\n",
       "      <td>2019-04-09T00:00:00</td>\n",
       "      <td>01:13:00</td>\n",
       "      <td>ASLT - IP/JO - WITH OR W/O WPNS (NO SHOOTINGS)</td>\n",
       "      <td>--ASSAULTS, OTHER</td>\n",
       "      <td>911</td>\n",
       "      <td>WEST PCT 2ND W - KING</td>\n",
       "      <td>N</td>\n",
       "      <td>N</td>\n",
       "      <td>West</td>\n",
       "      <td>K</td>\n",
       "      <td>K3</td>\n",
       "    </tr>\n",
       "    <tr>\n",
       "      <th>7804</th>\n",
       "      <td>18 - 25</td>\n",
       "      <td>Arrest</td>\n",
       "      <td>None</td>\n",
       "      <td>1990</td>\n",
       "      <td>M</td>\n",
       "      <td>Hispanic or Latino</td>\n",
       "      <td>Black or African American</td>\n",
       "      <td>Male</td>\n",
       "      <td>2017-08-15T00:00:00</td>\n",
       "      <td>20:36:00</td>\n",
       "      <td>TRAFFIC STOP - OFFICER INITIATED ONVIEW</td>\n",
       "      <td>--TRAFFIC - REFUSE TO STOP (PURSUIT)</td>\n",
       "      <td>ONVIEW</td>\n",
       "      <td>WEST PCT 2ND W - D/M RELIEF</td>\n",
       "      <td>N</td>\n",
       "      <td>N</td>\n",
       "      <td>West</td>\n",
       "      <td>D</td>\n",
       "      <td>D2</td>\n",
       "    </tr>\n",
       "    <tr>\n",
       "      <th>32171</th>\n",
       "      <td>36 - 45</td>\n",
       "      <td>Arrest</td>\n",
       "      <td>None</td>\n",
       "      <td>1986</td>\n",
       "      <td>M</td>\n",
       "      <td>White</td>\n",
       "      <td>White</td>\n",
       "      <td>Male</td>\n",
       "      <td>2019-04-08T00:00:00</td>\n",
       "      <td>22:03:00</td>\n",
       "      <td>BURG - COMM BURGLARY (INCLUDES SCHOOLS)</td>\n",
       "      <td>--ROBBERY - STRONG ARM</td>\n",
       "      <td>911</td>\n",
       "      <td>WEST PCT 3RD W - QUEEN</td>\n",
       "      <td>N</td>\n",
       "      <td>N</td>\n",
       "      <td>West</td>\n",
       "      <td>K</td>\n",
       "      <td>K1</td>\n",
       "    </tr>\n",
       "    <tr>\n",
       "      <th>...</th>\n",
       "      <td>...</td>\n",
       "      <td>...</td>\n",
       "      <td>...</td>\n",
       "      <td>...</td>\n",
       "      <td>...</td>\n",
       "      <td>...</td>\n",
       "      <td>...</td>\n",
       "      <td>...</td>\n",
       "      <td>...</td>\n",
       "      <td>...</td>\n",
       "      <td>...</td>\n",
       "      <td>...</td>\n",
       "      <td>...</td>\n",
       "      <td>...</td>\n",
       "      <td>...</td>\n",
       "      <td>...</td>\n",
       "      <td>...</td>\n",
       "      <td>...</td>\n",
       "      <td>...</td>\n",
       "    </tr>\n",
       "    <tr>\n",
       "      <th>23853</th>\n",
       "      <td>26 - 35</td>\n",
       "      <td>Arrest</td>\n",
       "      <td>Firearm</td>\n",
       "      <td>1989</td>\n",
       "      <td>M</td>\n",
       "      <td>White</td>\n",
       "      <td>Native Hawaiian or Other Pacific Islander</td>\n",
       "      <td>Male</td>\n",
       "      <td>2020-03-08T00:00:00</td>\n",
       "      <td>18:45:44</td>\n",
       "      <td>SUSPICIOUS STOP - OFFICER INITIATED ONVIEW</td>\n",
       "      <td>--WEAPON, PERSON WITH - GUN</td>\n",
       "      <td>ONVIEW</td>\n",
       "      <td>TRAINING - FIELD TRAINING SQUAD</td>\n",
       "      <td>Y</td>\n",
       "      <td>Y</td>\n",
       "      <td>East</td>\n",
       "      <td>C</td>\n",
       "      <td>C1</td>\n",
       "    </tr>\n",
       "    <tr>\n",
       "      <th>7719</th>\n",
       "      <td>18 - 25</td>\n",
       "      <td>Arrest</td>\n",
       "      <td>None</td>\n",
       "      <td>1979</td>\n",
       "      <td>M</td>\n",
       "      <td>White</td>\n",
       "      <td>Black or African American</td>\n",
       "      <td>Male</td>\n",
       "      <td>2017-07-10T00:00:00</td>\n",
       "      <td>01:13:00</td>\n",
       "      <td>FIGHT - IP - PHYSICAL (NO WEAPONS)</td>\n",
       "      <td>--ASSAULTS, OTHER</td>\n",
       "      <td>ONVIEW</td>\n",
       "      <td>WEST PCT 3RD W - DAVID BEATS</td>\n",
       "      <td>N</td>\n",
       "      <td>N</td>\n",
       "      <td>West</td>\n",
       "      <td>M</td>\n",
       "      <td>M2</td>\n",
       "    </tr>\n",
       "    <tr>\n",
       "      <th>32277</th>\n",
       "      <td>36 - 45</td>\n",
       "      <td>Arrest</td>\n",
       "      <td>None</td>\n",
       "      <td>1990</td>\n",
       "      <td>M</td>\n",
       "      <td>Hispanic or Latino</td>\n",
       "      <td>Black or African American</td>\n",
       "      <td>Female</td>\n",
       "      <td>2019-05-02T00:00:00</td>\n",
       "      <td>22:27:00</td>\n",
       "      <td>ASLT - IP/JO - WITH OR W/O WPNS (NO SHOOTINGS)</td>\n",
       "      <td>--ASSAULTS - HARASSMENT, THREATS</td>\n",
       "      <td>911</td>\n",
       "      <td>TRAINING - FIELD TRAINING SQUAD</td>\n",
       "      <td>N</td>\n",
       "      <td>N</td>\n",
       "      <td>South</td>\n",
       "      <td>R</td>\n",
       "      <td>R2</td>\n",
       "    </tr>\n",
       "    <tr>\n",
       "      <th>7722</th>\n",
       "      <td>18 - 25</td>\n",
       "      <td>Arrest</td>\n",
       "      <td>None</td>\n",
       "      <td>1971</td>\n",
       "      <td>M</td>\n",
       "      <td>White</td>\n",
       "      <td>Black or African American</td>\n",
       "      <td>Male</td>\n",
       "      <td>2017-07-20T00:00:00</td>\n",
       "      <td>01:41:00</td>\n",
       "      <td>ASLT - WITH OR W/O WEAPONS (NO SHOOTINGS)</td>\n",
       "      <td>--ASSAULTS, OTHER</td>\n",
       "      <td>911</td>\n",
       "      <td>TRAINING - FIELD TRAINING SQUAD</td>\n",
       "      <td>N</td>\n",
       "      <td>N</td>\n",
       "      <td>North</td>\n",
       "      <td>J</td>\n",
       "      <td>J1</td>\n",
       "    </tr>\n",
       "    <tr>\n",
       "      <th>15056</th>\n",
       "      <td>26 - 35</td>\n",
       "      <td>Arrest</td>\n",
       "      <td>Lethal Cutting Instrument</td>\n",
       "      <td>1985</td>\n",
       "      <td>M</td>\n",
       "      <td>White</td>\n",
       "      <td>Asian</td>\n",
       "      <td>Male</td>\n",
       "      <td>2016-04-01T00:00:00</td>\n",
       "      <td>16:40:00</td>\n",
       "      <td>SUSPICIOUS STOP - OFFICER INITIATED ONVIEW</td>\n",
       "      <td>--TRAFFIC - MOVING VIOLATION</td>\n",
       "      <td>ONVIEW</td>\n",
       "      <td>TRAINING - FIELD TRAINING SQUAD</td>\n",
       "      <td>N</td>\n",
       "      <td>N</td>\n",
       "      <td>Southwest</td>\n",
       "      <td>F</td>\n",
       "      <td>F2</td>\n",
       "    </tr>\n",
       "  </tbody>\n",
       "</table>\n",
       "<p>100 rows × 19 columns</p>\n",
       "</div>"
      ],
      "text/plain": [
       "      Subject Age Group Stop Resolution  ...  Sector    Beat\n",
       "0                     -          Arrest  ...  O       O2    \n",
       "32174           36 - 45          Arrest  ...  S       S1    \n",
       "32172           36 - 45          Arrest  ...  K       K3    \n",
       "7804            18 - 25          Arrest  ...  D       D2    \n",
       "32171           36 - 45          Arrest  ...  K       K1    \n",
       "...                 ...             ...  ...     ...     ...\n",
       "23853           26 - 35          Arrest  ...       C      C1\n",
       "7719            18 - 25          Arrest  ...  M       M2    \n",
       "32277           36 - 45          Arrest  ...  R       R2    \n",
       "7722            18 - 25          Arrest  ...  J       J1    \n",
       "15056           26 - 35          Arrest  ...  F       F2    \n",
       "\n",
       "[100 rows x 19 columns]"
      ]
     },
     "execution_count": 17,
     "metadata": {},
     "output_type": "execute_result"
    }
   ],
   "source": [
    "# Viewing the data to get a sense of which Stop Resolutions are correlated to the \"Arrest Flag\"\n",
    "df.sort_values(by=['Stop Resolution'], ascending=True).head(100)\n"
   ]
  },
  {
   "cell_type": "code",
   "execution_count": 18,
   "metadata": {},
   "outputs": [
    {
     "data": {
      "text/plain": [
       "(8210, 19)"
      ]
     },
     "execution_count": 18,
     "metadata": {},
     "output_type": "execute_result"
    }
   ],
   "source": [
    "# Check out what are the differences between a Stop Resolution of \"Arrest\" and the \"Arrest Flag\" \n",
    "df.loc[(df['Stop Resolution']=='Arrest') & (df['Arrest Flag']==\"N\")].shape\n",
    "\n",
    "# This is the number of cases where the final stop resolution as reported by the officer, was \"Arrest\" and the\n",
    "# Arrest Flag was N.  This indicates that many arrests are finalized after the actual Terry Stop"
   ]
  },
  {
   "cell_type": "code",
   "execution_count": 19,
   "metadata": {},
   "outputs": [
    {
     "data": {
      "text/plain": [
       "(2, 19)"
      ]
     },
     "execution_count": 19,
     "metadata": {},
     "output_type": "execute_result"
    }
   ],
   "source": [
    "df.loc[(df['Stop Resolution']!='Arrest') & (df['Arrest Flag']==\"Y\")].shape\n",
    "\n",
    "# Number of times an arrest was not made,  but the arrest flag was yes (an arrest was made during the Terry Stop)"
   ]
  },
  {
   "cell_type": "code",
   "execution_count": 20,
   "metadata": {},
   "outputs": [
    {
     "data": {
      "text/plain": [
       "(1747, 19)"
      ]
     },
     "execution_count": 20,
     "metadata": {},
     "output_type": "execute_result"
    }
   ],
   "source": [
    "df.loc[(df['Stop Resolution']=='Arrest') & (df['Arrest Flag']==\"Y\")].shape\n",
    "\n",
    "# These are the number of arrests DURING the Terry stop,  that had a final resolution of arrest\n",
    "\n",
    "# Conclusion:  Use the Stop Resolution of Arrest to capture all the arrests made arising from a Terry stop\n",
    "# The total number of arrests as repored by the officers is 8210 + 1747 or ~ 25% of the total # of Terry stops"
   ]
  },
  {
   "cell_type": "code",
   "execution_count": 21,
   "metadata": {},
   "outputs": [
    {
     "data": {
      "text/plain": [
       "(3235, 19)"
      ]
     },
     "execution_count": 21,
     "metadata": {},
     "output_type": "execute_result"
    }
   ],
   "source": [
    "# Check to see whether the Frisk Flag has usefulness\n",
    "df.loc[(df['Stop Resolution']=='Arrest') & (df['Frisk Flag']==\"Y\")].shape\n",
    "\n",
    "# Out of 10,000 arrests (and ~ 9000 Frisks), the number of arrest, that were frisked was ~30%\n",
    "# It would appear that the 'Frisk Flag' is not helpful for predicting arrests.  Drop the 'Frisk Flag'"
   ]
  },
  {
   "cell_type": "code",
   "execution_count": 22,
   "metadata": {},
   "outputs": [
    {
     "data": {
      "text/plain": [
       "(5888, 19)"
      ]
     },
     "execution_count": 22,
     "metadata": {},
     "output_type": "execute_result"
    }
   ],
   "source": [
    "# CheckType whether 'Call Type' has usefulness\n",
    "df.loc[(df['Stop Resolution']=='Arrest') & (df['Call Type']==\"911\")].shape\n",
    "\n",
    "# Out of ~10,000 arrests roughly 50% came through 911.  Doesn't appear to be particularly useful for predicting arrests\n",
    "# Drop the 'Call Type'"
   ]
  },
  {
   "cell_type": "code",
   "execution_count": 23,
   "metadata": {},
   "outputs": [
    {
     "data": {
      "text/html": [
       "<div>\n",
       "<style scoped>\n",
       "    .dataframe tbody tr th:only-of-type {\n",
       "        vertical-align: middle;\n",
       "    }\n",
       "\n",
       "    .dataframe tbody tr th {\n",
       "        vertical-align: top;\n",
       "    }\n",
       "\n",
       "    .dataframe thead th {\n",
       "        text-align: right;\n",
       "    }\n",
       "</style>\n",
       "<table border=\"1\" class=\"dataframe\">\n",
       "  <thead>\n",
       "    <tr style=\"text-align: right;\">\n",
       "      <th></th>\n",
       "      <th>Subject Age Group</th>\n",
       "      <th>Stop Resolution</th>\n",
       "      <th>Weapon Type</th>\n",
       "      <th>Officer YOB</th>\n",
       "      <th>Officer Gender</th>\n",
       "      <th>Officer Race</th>\n",
       "      <th>Subject Perceived Race</th>\n",
       "      <th>Subject Perceived Gender</th>\n",
       "      <th>Reported Date</th>\n",
       "      <th>Reported Time</th>\n",
       "      <th>Initial Call Type</th>\n",
       "      <th>Final Call Type</th>\n",
       "      <th>Call Type</th>\n",
       "      <th>Officer Squad</th>\n",
       "      <th>Arrest Flag</th>\n",
       "      <th>Frisk Flag</th>\n",
       "      <th>Precinct</th>\n",
       "      <th>Sector</th>\n",
       "      <th>Beat</th>\n",
       "    </tr>\n",
       "  </thead>\n",
       "  <tbody>\n",
       "    <tr>\n",
       "      <th>0</th>\n",
       "      <td>-</td>\n",
       "      <td>Arrest</td>\n",
       "      <td>None</td>\n",
       "      <td>1984</td>\n",
       "      <td>M</td>\n",
       "      <td>Black or African American</td>\n",
       "      <td>Asian</td>\n",
       "      <td>Male</td>\n",
       "      <td>2015-10-16T00:00:00</td>\n",
       "      <td>11:32:00</td>\n",
       "      <td>-</td>\n",
       "      <td>-</td>\n",
       "      <td>-</td>\n",
       "      <td>SOUTH PCT 1ST W - ROBERT</td>\n",
       "      <td>N</td>\n",
       "      <td>N</td>\n",
       "      <td>South</td>\n",
       "      <td>O</td>\n",
       "      <td>O2</td>\n",
       "    </tr>\n",
       "    <tr>\n",
       "      <th>1</th>\n",
       "      <td>-</td>\n",
       "      <td>Field Contact</td>\n",
       "      <td>None</td>\n",
       "      <td>1963</td>\n",
       "      <td>M</td>\n",
       "      <td>White</td>\n",
       "      <td>-</td>\n",
       "      <td>-</td>\n",
       "      <td>2015-04-01T00:00:00</td>\n",
       "      <td>04:55:00</td>\n",
       "      <td>-</td>\n",
       "      <td>-</td>\n",
       "      <td>-</td>\n",
       "      <td>Unknown</td>\n",
       "      <td>N</td>\n",
       "      <td>N</td>\n",
       "      <td>-</td>\n",
       "      <td>-</td>\n",
       "      <td>-</td>\n",
       "    </tr>\n",
       "    <tr>\n",
       "      <th>2</th>\n",
       "      <td>-</td>\n",
       "      <td>Field Contact</td>\n",
       "      <td>None</td>\n",
       "      <td>1985</td>\n",
       "      <td>M</td>\n",
       "      <td>Hispanic or Latino</td>\n",
       "      <td>-</td>\n",
       "      <td>-</td>\n",
       "      <td>2015-05-25T00:00:00</td>\n",
       "      <td>01:06:00</td>\n",
       "      <td>-</td>\n",
       "      <td>-</td>\n",
       "      <td>-</td>\n",
       "      <td>WEST PCT 3RD W - MARY</td>\n",
       "      <td>N</td>\n",
       "      <td>N</td>\n",
       "      <td>-</td>\n",
       "      <td>-</td>\n",
       "      <td>-</td>\n",
       "    </tr>\n",
       "    <tr>\n",
       "      <th>3</th>\n",
       "      <td>-</td>\n",
       "      <td>Field Contact</td>\n",
       "      <td>None</td>\n",
       "      <td>1979</td>\n",
       "      <td>M</td>\n",
       "      <td>White</td>\n",
       "      <td>-</td>\n",
       "      <td>-</td>\n",
       "      <td>2015-06-09T00:00:00</td>\n",
       "      <td>19:27:00</td>\n",
       "      <td>-</td>\n",
       "      <td>-</td>\n",
       "      <td>-</td>\n",
       "      <td>NORTH PCT 2ND W - NORA</td>\n",
       "      <td>N</td>\n",
       "      <td>N</td>\n",
       "      <td>-</td>\n",
       "      <td>-</td>\n",
       "      <td>-</td>\n",
       "    </tr>\n",
       "    <tr>\n",
       "      <th>4</th>\n",
       "      <td>-</td>\n",
       "      <td>Field Contact</td>\n",
       "      <td>None</td>\n",
       "      <td>1979</td>\n",
       "      <td>M</td>\n",
       "      <td>White</td>\n",
       "      <td>-</td>\n",
       "      <td>-</td>\n",
       "      <td>2015-06-09T00:00:00</td>\n",
       "      <td>19:32:00</td>\n",
       "      <td>-</td>\n",
       "      <td>-</td>\n",
       "      <td>-</td>\n",
       "      <td>NORTH PCT 2ND W - NORA</td>\n",
       "      <td>N</td>\n",
       "      <td>N</td>\n",
       "      <td>-</td>\n",
       "      <td>-</td>\n",
       "      <td>-</td>\n",
       "    </tr>\n",
       "  </tbody>\n",
       "</table>\n",
       "</div>"
      ],
      "text/plain": [
       "  Subject Age Group Stop Resolution Weapon Type  ...  Precinct  Sector    Beat\n",
       "0                 -          Arrest        None  ...     South  O       O2    \n",
       "1                 -   Field Contact        None  ...         -       -       -\n",
       "2                 -   Field Contact        None  ...         -       -       -\n",
       "3                 -   Field Contact        None  ...         -       -       -\n",
       "4                 -   Field Contact        None  ...         -       -       -\n",
       "\n",
       "[5 rows x 19 columns]"
      ]
     },
     "execution_count": 23,
     "metadata": {},
     "output_type": "execute_result"
    }
   ],
   "source": [
    "df.head()"
   ]
  },
  {
   "cell_type": "markdown",
   "metadata": {},
   "source": [
    "## 2. Data Scoping "
   ]
  },
  {
   "cell_type": "markdown",
   "metadata": {},
   "source": [
    "1. Which is better to use the \"Arrest Flag\" column or the \"Stop Resolution column as the target?: <br><br>\n",
    "\n",
    "* Arrest Flag is a'1' only when there was an actual arrest during the Terry Stop.  Which may not be easy to do, resulting in a lower number (1747) <br><br>\n",
    "\n",
    "* Stop Resolution records ~10,000 arrests, roughly 25% of the total dataset.  Since Stop Resolution is about officers recording the resolution of the Terry Stop, and with a likely performance target for officers,  they are likely to record this more accurately. <br><br>\n",
    "\n",
    "* A quick check of \"Frisk Flag\" which is an indicator of those Terry stops where a Frisk was performed, does not seem well correlated with arrests.  Recomend to drop \"Frisk Flag\" <br><br>\n",
    "\n",
    "#### Conclusion: Use \"Stop Resolution\" Arrests as the target\n",
    "\n",
    "  - [x] Create a new column called \"Arrests\" which encodes Stop Resolution Arrests as a \"1\" and all others \"0\".  \n",
    "  - [x] Drop the \"Arrest Flag\" column\n",
    "  - [x] Drop the \"Frisk Flag\" column <br><br>\n",
    "    \n",
    "2. Location data, there are a number of columns which relate to location such as \"Precincts\", \"Officer Squad\", \"Sector\", \"Beat\", but are indirect measures of the actual location of the Terry Stop. Inspection of the \"Officer Squad\" text shows the Location assignment of the officer making the report. In ~10% of cases, Terry stops were performed by field training units or other units which are not captured by precinct (hence roughly 25% of the precincps are unknown). The training unit information is captured in the \"Officer Squad\" column.  <br><br>\n",
    "\n",
    "3. For time data there is a \"Reported Time\" -- which is the time when the officer report was submitted, and according to the documentation could be delayed up to 10 hours, rather than the time of the actual Terry stop. <br><br> \n",
    "\n",
    "    However, inspection of the text in \"Officer Squad\" shows that the reporting officer's watch is recorded. In the Seattle police squad there are 3 watches to cover each 24 hour period. Watch 1 (03:00 - 11:00), Watch 2 (11:00 - 19:00), and Watch 3 (19:00 - 03:00).  Since officer performance is rated based on number of cases and crimes prevented or apprehended, likely the \"Officer Squad\" data which comes from the report is likely to be the most reliable in terms of time.\n",
    "    \n",
    "#### Conclusion: Use \"Officer Squad\" text data for time and location\n",
    "\n",
    "- [x] Parse the \"Officer Squad\" data to capture the location and time based on officer assignments, creating columns for location and watch. <br><br>\n",
    "\n",
    "- [x] Drop the \"Reported Time\", \"Precincts\", \"Sector\", and \"Beat\" columns <br><br>\n"
   ]
  },
  {
   "cell_type": "code",
   "execution_count": 24,
   "metadata": {},
   "outputs": [],
   "source": [
    "df.drop(columns=['Arrest Flag', 'Frisk Flag', 'Reported Time', 'Precinct', 'Sector', 'Beat'], inplace = True)"
   ]
  },
  {
   "cell_type": "code",
   "execution_count": 25,
   "metadata": {},
   "outputs": [
    {
     "data": {
      "text/plain": [
       "2285"
      ]
     },
     "execution_count": 25,
     "metadata": {},
     "output_type": "execute_result"
    }
   ],
   "source": [
    "# Re-Check for duplicates\n",
    "#duplicates = seattle_df[seattle_df.duplicated(subset =['id'], keep = False)]\n",
    "#duplicates.sort_values(by=['id']).head()\n",
    "duplicates = df[df.duplicated(keep = False)]\n",
    "df.duplicated().sum()"
   ]
  },
  {
   "cell_type": "markdown",
   "metadata": {},
   "source": [
    "#### Finding from duplicated():\n",
    "- If you look at the beginning of the analysis, I checked for duplications with the entire dataset (before removing columns of data, such as \"ID\"),  there were no duplicates. But after dropping the ID,  there are 118 rows in duplication, 59 pairs. <br><br>\n",
    "\n",
    "- Because the date and time are not exact (the documentation says sometimes the date could have been entered 24 hours later, or the time could be off by 10 hours, so that actually unique Terry stops could have the same data (when the ID columns are removed).<br><br>\n",
    "\n",
    "- There are a few that are arrests.  Still open to decide whether to remove the duplicated data or not.  <br><br>\n",
    "\n",
    "- What is curious is that the index number is not always consecutive between different pairs of duplicates.  This suggests that perhaps the data was input twice -- maybe due to some computer or internet glitches?"
   ]
  },
  {
   "cell_type": "markdown",
   "metadata": {},
   "source": [
    "##  3. Data Transformation\n",
    "\n",
    "   * Officer data: YOB, race, gender\n",
    "   * Subject data- Age Group, race, gender\n",
    "   * Stop Resolution (target column)\n",
    "   * Weapons\n",
    "   * Type of potential crime: Call type Initial and Final \n",
    "   * Date to day of week\n",
    "   * Location and time: from Officer Squad\n",
    "   "
   ]
  },
  {
   "cell_type": "markdown",
   "metadata": {},
   "source": [
    "### A. Transform Gender Using Dictionary Mapping .map()\n",
    "   "
   ]
  },
  {
   "cell_type": "code",
   "execution_count": 26,
   "metadata": {},
   "outputs": [],
   "source": [
    "# Re-mapping gender categories. 0 = Male, 1 = Female, 2 = Unknown\n",
    "\n",
    "# officer_gender\n",
    "officer_gender = {'M':0, 'F':1, 'N':2}\n",
    "df['Officer Gender'] = df['Officer Gender'].map(officer_gender)\n",
    "\n",
    "# subject perceived gender\n",
    "subject_gender = {'Male':0, 'Female':1, 'Unknown':2,  '-':2, \n",
    "                 'Unable to Determine':2, 'Gender Diverse (gender non-conforming and/or transgender)':2}\n",
    "df['Subject Perceived Gender'] = df['Subject Perceived Gender'].map(subject_gender)"
   ]
  },
  {
   "cell_type": "code",
   "execution_count": 27,
   "metadata": {},
   "outputs": [
    {
     "data": {
      "text/plain": [
       "0    36504\n",
       "1     4593\n",
       "2        7\n",
       "Name: Officer Gender, dtype: int64"
      ]
     },
     "execution_count": 27,
     "metadata": {},
     "output_type": "execute_result"
    }
   ],
   "source": [
    "#Check the mapping\n",
    "df.loc[(df['Officer Gender']== 0.0)].shape, df.loc[(df['Subject Perceived Gender']== 0.0)].shape\n",
    "df['Officer Gender'].value_counts()"
   ]
  },
  {
   "cell_type": "code",
   "execution_count": 28,
   "metadata": {},
   "outputs": [
    {
     "data": {
      "text/plain": [
       "0    32049\n",
       "1     8468\n",
       "2      587\n",
       "Name: Subject Perceived Gender, dtype: int64"
      ]
     },
     "execution_count": 28,
     "metadata": {},
     "output_type": "execute_result"
    }
   ],
   "source": [
    "df['Subject Perceived Gender'].value_counts()"
   ]
  },
  {
   "cell_type": "code",
   "execution_count": 29,
   "metadata": {},
   "outputs": [
    {
     "data": {
      "text/plain": [
       "(0, 13)"
      ]
     },
     "execution_count": 29,
     "metadata": {},
     "output_type": "execute_result"
    }
   ],
   "source": [
    "df.loc[(df['Stop Resolution']=='Arrest') & (df['Subject Perceived Gender']== np.nan)].shape\n",
    "# Checking to see if those arrested were gender different.  In this case none"
   ]
  },
  {
   "cell_type": "code",
   "execution_count": 30,
   "metadata": {},
   "outputs": [
    {
     "data": {
      "text/plain": [
       "(0, 0)"
      ]
     },
     "execution_count": 30,
     "metadata": {},
     "output_type": "execute_result"
    }
   ],
   "source": [
    "# Check the mapping\n",
    "df['Officer Gender'].isna().sum(), df['Subject Perceived Gender'].isna().sum()  #NAs are not found "
   ]
  },
  {
   "cell_type": "markdown",
   "metadata": {
    "heading_collapsed": true
   },
   "source": [
    "### B. Transform Age Using Dictionary Mapping .map() and binning (.cut)"
   ]
  },
  {
   "cell_type": "code",
   "execution_count": 31,
   "metadata": {
    "hidden": true
   },
   "outputs": [],
   "source": [
    "# Re-mapping subject age categories\n",
    "subject_age = {'1 - 17':1, '18 - 25':2, '26 - 35':3, '36 - 45':4, '46 - 55':5, '56 and Above':6, '-':0}\n",
    "df['Subject Age Group'] = df['Subject Age Group'].map(subject_age)"
   ]
  },
  {
   "cell_type": "code",
   "execution_count": 32,
   "metadata": {
    "hidden": true
   },
   "outputs": [
    {
     "data": {
      "text/plain": [
       "0"
      ]
     },
     "execution_count": 32,
     "metadata": {},
     "output_type": "execute_result"
    }
   ],
   "source": [
    "df['Subject Age Group'].isna().sum()"
   ]
  },
  {
   "cell_type": "code",
   "execution_count": 33,
   "metadata": {
    "hidden": true
   },
   "outputs": [
    {
     "data": {
      "text/plain": [
       "3    13615\n",
       "4     8547\n",
       "2     8509\n",
       "5     5274\n",
       "6     1996\n",
       "1     1876\n",
       "0     1287\n",
       "Name: Subject Age Group, dtype: int64"
      ]
     },
     "execution_count": 33,
     "metadata": {},
     "output_type": "execute_result"
    }
   ],
   "source": [
    "df['Subject Age Group'].value_counts()"
   ]
  },
  {
   "cell_type": "code",
   "execution_count": 34,
   "metadata": {
    "code_folding": [
     0
    ],
    "hidden": true
   },
   "outputs": [
    {
     "data": {
      "text/plain": [
       "(193, 13)"
      ]
     },
     "execution_count": 34,
     "metadata": {},
     "output_type": "execute_result"
    }
   ],
   "source": [
    "# Checking to see of those arrested, how many had an unknown age group\n",
    "# There are 193 arrests of people whose age is unknown\n",
    "df.loc[(df['Stop Resolution']=='Arrest') & (df['Subject Age Group']== 0)].shape"
   ]
  },
  {
   "cell_type": "code",
   "execution_count": 35,
   "metadata": {
    "hidden": true
   },
   "outputs": [
    {
     "data": {
      "text/plain": [
       "0        2015\n",
       "1        2015\n",
       "2        2015\n",
       "3        2015\n",
       "4        2015\n",
       "         ... \n",
       "41099    2020\n",
       "41100    2020\n",
       "41101    2020\n",
       "41102    2020\n",
       "41103    2020\n",
       "Name: Reported Year, Length: 41104, dtype: int64"
      ]
     },
     "execution_count": 35,
     "metadata": {},
     "output_type": "execute_result"
    }
   ],
   "source": [
    "# Calculated the Officers Age, and bin into same bins as the subject age\n",
    "df['Reported Year']=pd.to_datetime(df['Reported Date']).dt.year\n",
    "df['Reported Year']"
   ]
  },
  {
   "cell_type": "code",
   "execution_count": 36,
   "metadata": {
    "hidden": true
   },
   "outputs": [
    {
     "data": {
      "text/plain": [
       "31     2842\n",
       "30     2592\n",
       "32     2515\n",
       "33     2443\n",
       "29     2246\n",
       "34     2206\n",
       "28     2140\n",
       "26     1923\n",
       "27     1869\n",
       "35     1723\n",
       "25     1544\n",
       "24     1425\n",
       "36     1226\n",
       "37     1184\n",
       "38     1096\n",
       "39      970\n",
       "40      945\n",
       "42      806\n",
       "41      753\n",
       "23      730\n",
       "45      698\n",
       "46      679\n",
       "44      664\n",
       "48      618\n",
       "43      593\n",
       "47      582\n",
       "49      543\n",
       "50      533\n",
       "54      436\n",
       "51      399\n",
       "53      377\n",
       "52      310\n",
       "55      308\n",
       "56      242\n",
       "22      241\n",
       "57      203\n",
       "58      177\n",
       "59       88\n",
       "60       69\n",
       "61       39\n",
       "63       32\n",
       "21       19\n",
       "62       19\n",
       "65       16\n",
       "64       13\n",
       "67       12\n",
       "68        4\n",
       "118       3\n",
       "116       2\n",
       "119       2\n",
       "70        1\n",
       "69        1\n",
       "117       1\n",
       "66        1\n",
       "115       1\n",
       "Name: Officer Age, dtype: int64"
      ]
     },
     "execution_count": 36,
     "metadata": {},
     "output_type": "execute_result"
    }
   ],
   "source": [
    "df['Officer Age'] = df['Reported Year'] - df['Officer YOB']\n",
    "df['Officer Age'].value_counts(dropna=False)"
   ]
  },
  {
   "cell_type": "code",
   "execution_count": 37,
   "metadata": {
    "hidden": true
   },
   "outputs": [
    {
     "data": {
      "text/plain": [
       "3    22499\n",
       "4     8935\n",
       "5     4785\n",
       "2     3959\n",
       "6      917\n",
       "0        9\n",
       "1        0\n",
       "Name: Officer Age, dtype: int64"
      ]
     },
     "execution_count": 37,
     "metadata": {},
     "output_type": "execute_result"
    }
   ],
   "source": [
    "#subject_age = {'1 - 17':1, '18 - 25':2, '26 - 35':3, '36 - 45':4, '46 - 55':5, '56 and Above':6, '-':0}\n",
    "#bins = [0, 17, 25, 35, 45, 55,85]\n",
    "#age_bins = pd.cut(df['Officer Age'], bins)\n",
    "#age_bins.cat.as_ordered()\n",
    "#age_bins.head()\n",
    "\n",
    "df['Officer Age'] =pd.cut(x=df['Officer Age'], bins=[1,18,25,35,45,55,70,120], labels = [1,2,3,4,5,6,0])\n",
    "df['Officer Age'].value_counts(dropna=False)"
   ]
  },
  {
   "cell_type": "code",
   "execution_count": 38,
   "metadata": {
    "hidden": true
   },
   "outputs": [
    {
     "data": {
      "text/html": [
       "<div>\n",
       "<style scoped>\n",
       "    .dataframe tbody tr th:only-of-type {\n",
       "        vertical-align: middle;\n",
       "    }\n",
       "\n",
       "    .dataframe tbody tr th {\n",
       "        vertical-align: top;\n",
       "    }\n",
       "\n",
       "    .dataframe thead th {\n",
       "        text-align: right;\n",
       "    }\n",
       "</style>\n",
       "<table border=\"1\" class=\"dataframe\">\n",
       "  <thead>\n",
       "    <tr style=\"text-align: right;\">\n",
       "      <th></th>\n",
       "      <th>Subject Age Group</th>\n",
       "      <th>Stop Resolution</th>\n",
       "      <th>Weapon Type</th>\n",
       "      <th>Officer YOB</th>\n",
       "      <th>Officer Gender</th>\n",
       "      <th>Officer Race</th>\n",
       "      <th>Subject Perceived Race</th>\n",
       "      <th>Subject Perceived Gender</th>\n",
       "      <th>Reported Date</th>\n",
       "      <th>Initial Call Type</th>\n",
       "      <th>Final Call Type</th>\n",
       "      <th>Call Type</th>\n",
       "      <th>Officer Squad</th>\n",
       "      <th>Reported Year</th>\n",
       "      <th>Officer Age</th>\n",
       "    </tr>\n",
       "  </thead>\n",
       "  <tbody>\n",
       "    <tr>\n",
       "      <th>0</th>\n",
       "      <td>0</td>\n",
       "      <td>Arrest</td>\n",
       "      <td>None</td>\n",
       "      <td>1984</td>\n",
       "      <td>0</td>\n",
       "      <td>Black or African American</td>\n",
       "      <td>Asian</td>\n",
       "      <td>0</td>\n",
       "      <td>2015-10-16T00:00:00</td>\n",
       "      <td>-</td>\n",
       "      <td>-</td>\n",
       "      <td>-</td>\n",
       "      <td>SOUTH PCT 1ST W - ROBERT</td>\n",
       "      <td>2015</td>\n",
       "      <td>3</td>\n",
       "    </tr>\n",
       "    <tr>\n",
       "      <th>1</th>\n",
       "      <td>0</td>\n",
       "      <td>Field Contact</td>\n",
       "      <td>None</td>\n",
       "      <td>1963</td>\n",
       "      <td>0</td>\n",
       "      <td>White</td>\n",
       "      <td>-</td>\n",
       "      <td>2</td>\n",
       "      <td>2015-04-01T00:00:00</td>\n",
       "      <td>-</td>\n",
       "      <td>-</td>\n",
       "      <td>-</td>\n",
       "      <td>Unknown</td>\n",
       "      <td>2015</td>\n",
       "      <td>5</td>\n",
       "    </tr>\n",
       "    <tr>\n",
       "      <th>2</th>\n",
       "      <td>0</td>\n",
       "      <td>Field Contact</td>\n",
       "      <td>None</td>\n",
       "      <td>1985</td>\n",
       "      <td>0</td>\n",
       "      <td>Hispanic or Latino</td>\n",
       "      <td>-</td>\n",
       "      <td>2</td>\n",
       "      <td>2015-05-25T00:00:00</td>\n",
       "      <td>-</td>\n",
       "      <td>-</td>\n",
       "      <td>-</td>\n",
       "      <td>WEST PCT 3RD W - MARY</td>\n",
       "      <td>2015</td>\n",
       "      <td>3</td>\n",
       "    </tr>\n",
       "    <tr>\n",
       "      <th>3</th>\n",
       "      <td>0</td>\n",
       "      <td>Field Contact</td>\n",
       "      <td>None</td>\n",
       "      <td>1979</td>\n",
       "      <td>0</td>\n",
       "      <td>White</td>\n",
       "      <td>-</td>\n",
       "      <td>2</td>\n",
       "      <td>2015-06-09T00:00:00</td>\n",
       "      <td>-</td>\n",
       "      <td>-</td>\n",
       "      <td>-</td>\n",
       "      <td>NORTH PCT 2ND W - NORA</td>\n",
       "      <td>2015</td>\n",
       "      <td>4</td>\n",
       "    </tr>\n",
       "    <tr>\n",
       "      <th>4</th>\n",
       "      <td>0</td>\n",
       "      <td>Field Contact</td>\n",
       "      <td>None</td>\n",
       "      <td>1979</td>\n",
       "      <td>0</td>\n",
       "      <td>White</td>\n",
       "      <td>-</td>\n",
       "      <td>2</td>\n",
       "      <td>2015-06-09T00:00:00</td>\n",
       "      <td>-</td>\n",
       "      <td>-</td>\n",
       "      <td>-</td>\n",
       "      <td>NORTH PCT 2ND W - NORA</td>\n",
       "      <td>2015</td>\n",
       "      <td>4</td>\n",
       "    </tr>\n",
       "  </tbody>\n",
       "</table>\n",
       "</div>"
      ],
      "text/plain": [
       "   Subject Age Group Stop Resolution  ... Reported Year  Officer Age\n",
       "0                  0          Arrest  ...          2015            3\n",
       "1                  0   Field Contact  ...          2015            5\n",
       "2                  0   Field Contact  ...          2015            3\n",
       "3                  0   Field Contact  ...          2015            4\n",
       "4                  0   Field Contact  ...          2015            4\n",
       "\n",
       "[5 rows x 15 columns]"
      ]
     },
     "execution_count": 38,
     "metadata": {},
     "output_type": "execute_result"
    }
   ],
   "source": [
    "df.head()"
   ]
  },
  {
   "cell_type": "markdown",
   "metadata": {
    "heading_collapsed": true
   },
   "source": [
    "### C. Transform Gender using Dictionary Mapping"
   ]
  },
  {
   "cell_type": "code",
   "execution_count": 39,
   "metadata": {
    "hidden": true,
    "scrolled": true
   },
   "outputs": [
    {
     "data": {
      "text/plain": [
       "White                                        20192\n",
       "Black or African American                    12243\n",
       "Unknown                                       2073\n",
       "Hispanic                                      1684\n",
       "-                                             1422\n",
       "Asian                                         1278\n",
       "American Indian or Alaska Native              1224\n",
       "Multi-Racial                                   809\n",
       "Other                                          152\n",
       "Native Hawaiian or Other Pacific Islander       27\n",
       "Name: Subject Perceived Race, dtype: int64"
      ]
     },
     "execution_count": 39,
     "metadata": {},
     "output_type": "execute_result"
    }
   ],
   "source": [
    "# Check how many arrested had unknown race (or - or other)\n",
    "\n",
    "df.loc[(df['Stop Resolution']=='Arrest') & (df['Subject Perceived Race']== \"Unknown\")].shape\n",
    "#df.loc[(df['Stop Resolution']=='Arrest') & (df['Subject Perceived Race']== \"-\")].shape\n",
    "#df.loc[(df['Stop Resolution']=='Arrest') & (df['Subject Perceived Race']== \"Other\")].shape\n",
    "df['Subject Perceived Race'].value_counts()"
   ]
  },
  {
   "cell_type": "code",
   "execution_count": 40,
   "metadata": {
    "hidden": true
   },
   "outputs": [],
   "source": [
    "race_map = {'White': 'White', 'Black or African American':'African American', 'Hispanic':'Hispanic',\n",
    "            'Hispanic or Latino':'Hispanic', 'Two or More Races':'Multi-Racial','Multi-Racial':'Multi-Racial',\n",
    "           'American Indian or Alaska Native':'Native', 'American Indian/Alaska Native':'Native',  \n",
    "            'Native Hawaiian or Other Pacific Islander':'Native', 'Nat Hawaiian/Oth Pac Islander':'Native',\n",
    "           '-':'Unknown', 'Other':'Unknown', 'Not Specified':'Unknown','Unknown':'Unknown',\n",
    "           'Asian': 'Asian',}\n",
    "\n",
    "df['Subject Perceived Race'] = df['Subject Perceived Race'].map(race_map)\n",
    "df['Officer Race'] = df['Officer Race'].map(race_map)"
   ]
  },
  {
   "cell_type": "code",
   "execution_count": 41,
   "metadata": {
    "hidden": true
   },
   "outputs": [
    {
     "data": {
      "text/plain": [
       "White               31805\n",
       "Hispanic             2255\n",
       "Multi-Racial         2158\n",
       "African American     1674\n",
       "Asian                1563\n",
       "Unknown               921\n",
       "Native                728\n",
       "Name: Officer Race, dtype: int64"
      ]
     },
     "execution_count": 41,
     "metadata": {},
     "output_type": "execute_result"
    }
   ],
   "source": [
    "df['Officer Race'].value_counts()"
   ]
  },
  {
   "cell_type": "code",
   "execution_count": 42,
   "metadata": {
    "hidden": true
   },
   "outputs": [
    {
     "data": {
      "text/plain": [
       "White               20192\n",
       "African American    12243\n",
       "Unknown              3647\n",
       "Hispanic             1684\n",
       "Asian                1278\n",
       "Native               1251\n",
       "Multi-Racial          809\n",
       "Name: Subject Perceived Race, dtype: int64"
      ]
     },
     "execution_count": 42,
     "metadata": {},
     "output_type": "execute_result"
    }
   ],
   "source": [
    "df['Subject Perceived Race'].value_counts()"
   ]
  },
  {
   "cell_type": "markdown",
   "metadata": {
    "heading_collapsed": true
   },
   "source": [
    "### D. Transform Stop Resolution Using Dictionary Mapping .map()"
   ]
  },
  {
   "cell_type": "code",
   "execution_count": 43,
   "metadata": {
    "hidden": true
   },
   "outputs": [
    {
     "data": {
      "text/plain": [
       "Field Contact               16287\n",
       "Offense Report              13976\n",
       "Arrest                       9957\n",
       "Referred for Prosecution      728\n",
       "Citation / Infraction         156\n",
       "Name: Stop Resolution, dtype: int64"
      ]
     },
     "execution_count": 43,
     "metadata": {},
     "output_type": "execute_result"
    }
   ],
   "source": [
    "# Now address the Stop Resolution categories\n",
    "df['Stop Resolution'].value_counts()"
   ]
  },
  {
   "cell_type": "code",
   "execution_count": 44,
   "metadata": {
    "hidden": true
   },
   "outputs": [
    {
     "data": {
      "text/plain": [
       "0    30419\n",
       "1    10685\n",
       "Name: Stop Resolution, dtype: int64"
      ]
     },
     "execution_count": 44,
     "metadata": {},
     "output_type": "execute_result"
    }
   ],
   "source": [
    "# Re-map the Stop Resolution, to combine categories Arrest and Referred for Prosecution\n",
    "# Map Arrest and Referred for Prosecution to 1,  and all others 0\n",
    "stop_resolution = {'Field Contact': 0, 'Offense Report': 0, 'Arrest': 1,\n",
    "             'Referred for Prosecution': 1, 'Citation / Infraction': 0}\n",
    "\n",
    "df['Stop Resolution']=df['Stop Resolution'].map(stop_resolution)\n",
    "df['Stop Resolution'].value_counts()"
   ]
  },
  {
   "cell_type": "markdown",
   "metadata": {
    "heading_collapsed": true
   },
   "source": [
    "### E. Transform Weapon Type Using a Dictionary and .map()"
   ]
  },
  {
   "cell_type": "code",
   "execution_count": 45,
   "metadata": {
    "hidden": true
   },
   "outputs": [
    {
     "data": {
      "text/html": [
       "<div>\n",
       "<style scoped>\n",
       "    .dataframe tbody tr th:only-of-type {\n",
       "        vertical-align: middle;\n",
       "    }\n",
       "\n",
       "    .dataframe tbody tr th {\n",
       "        vertical-align: top;\n",
       "    }\n",
       "\n",
       "    .dataframe thead th {\n",
       "        text-align: right;\n",
       "    }\n",
       "</style>\n",
       "<table border=\"1\" class=\"dataframe\">\n",
       "  <thead>\n",
       "    <tr style=\"text-align: right;\">\n",
       "      <th></th>\n",
       "      <th>Subject Age Group</th>\n",
       "      <th>Stop Resolution</th>\n",
       "      <th>Weapon Type</th>\n",
       "      <th>Officer YOB</th>\n",
       "      <th>Officer Gender</th>\n",
       "      <th>Officer Race</th>\n",
       "      <th>Subject Perceived Race</th>\n",
       "      <th>Subject Perceived Gender</th>\n",
       "      <th>Reported Date</th>\n",
       "      <th>Initial Call Type</th>\n",
       "      <th>Final Call Type</th>\n",
       "      <th>Call Type</th>\n",
       "      <th>Officer Squad</th>\n",
       "      <th>Reported Year</th>\n",
       "      <th>Officer Age</th>\n",
       "    </tr>\n",
       "  </thead>\n",
       "  <tbody>\n",
       "    <tr>\n",
       "      <th>0</th>\n",
       "      <td>0</td>\n",
       "      <td>1</td>\n",
       "      <td>None</td>\n",
       "      <td>1984</td>\n",
       "      <td>0</td>\n",
       "      <td>African American</td>\n",
       "      <td>Asian</td>\n",
       "      <td>0</td>\n",
       "      <td>2015-10-16T00:00:00</td>\n",
       "      <td>-</td>\n",
       "      <td>-</td>\n",
       "      <td>-</td>\n",
       "      <td>SOUTH PCT 1ST W - ROBERT</td>\n",
       "      <td>2015</td>\n",
       "      <td>3</td>\n",
       "    </tr>\n",
       "    <tr>\n",
       "      <th>1</th>\n",
       "      <td>0</td>\n",
       "      <td>0</td>\n",
       "      <td>None</td>\n",
       "      <td>1963</td>\n",
       "      <td>0</td>\n",
       "      <td>White</td>\n",
       "      <td>Unknown</td>\n",
       "      <td>2</td>\n",
       "      <td>2015-04-01T00:00:00</td>\n",
       "      <td>-</td>\n",
       "      <td>-</td>\n",
       "      <td>-</td>\n",
       "      <td>Unknown</td>\n",
       "      <td>2015</td>\n",
       "      <td>5</td>\n",
       "    </tr>\n",
       "    <tr>\n",
       "      <th>2</th>\n",
       "      <td>0</td>\n",
       "      <td>0</td>\n",
       "      <td>None</td>\n",
       "      <td>1985</td>\n",
       "      <td>0</td>\n",
       "      <td>Hispanic</td>\n",
       "      <td>Unknown</td>\n",
       "      <td>2</td>\n",
       "      <td>2015-05-25T00:00:00</td>\n",
       "      <td>-</td>\n",
       "      <td>-</td>\n",
       "      <td>-</td>\n",
       "      <td>WEST PCT 3RD W - MARY</td>\n",
       "      <td>2015</td>\n",
       "      <td>3</td>\n",
       "    </tr>\n",
       "    <tr>\n",
       "      <th>3</th>\n",
       "      <td>0</td>\n",
       "      <td>0</td>\n",
       "      <td>None</td>\n",
       "      <td>1979</td>\n",
       "      <td>0</td>\n",
       "      <td>White</td>\n",
       "      <td>Unknown</td>\n",
       "      <td>2</td>\n",
       "      <td>2015-06-09T00:00:00</td>\n",
       "      <td>-</td>\n",
       "      <td>-</td>\n",
       "      <td>-</td>\n",
       "      <td>NORTH PCT 2ND W - NORA</td>\n",
       "      <td>2015</td>\n",
       "      <td>4</td>\n",
       "    </tr>\n",
       "    <tr>\n",
       "      <th>4</th>\n",
       "      <td>0</td>\n",
       "      <td>0</td>\n",
       "      <td>None</td>\n",
       "      <td>1979</td>\n",
       "      <td>0</td>\n",
       "      <td>White</td>\n",
       "      <td>Unknown</td>\n",
       "      <td>2</td>\n",
       "      <td>2015-06-09T00:00:00</td>\n",
       "      <td>-</td>\n",
       "      <td>-</td>\n",
       "      <td>-</td>\n",
       "      <td>NORTH PCT 2ND W - NORA</td>\n",
       "      <td>2015</td>\n",
       "      <td>4</td>\n",
       "    </tr>\n",
       "  </tbody>\n",
       "</table>\n",
       "</div>"
      ],
      "text/plain": [
       "   Subject Age Group  Stop Resolution  ... Reported Year  Officer Age\n",
       "0                  0                1  ...          2015            3\n",
       "1                  0                0  ...          2015            5\n",
       "2                  0                0  ...          2015            3\n",
       "3                  0                0  ...          2015            4\n",
       "4                  0                0  ...          2015            4\n",
       "\n",
       "[5 rows x 15 columns]"
      ]
     },
     "execution_count": 45,
     "metadata": {},
     "output_type": "execute_result"
    }
   ],
   "source": [
    "df.head()"
   ]
  },
  {
   "cell_type": "code",
   "execution_count": 46,
   "metadata": {
    "hidden": true
   },
   "outputs": [
    {
     "data": {
      "text/plain": [
       "None                                 32565\n",
       "-                                     6213\n",
       "Lethal Cutting Instrument             1482\n",
       "Knife/Cutting/Stabbing Instrument      308\n",
       "Handgun                                262\n",
       "Firearm Other                          100\n",
       "Club, Blackjack, Brass Knuckles         49\n",
       "Blunt Object/Striking Implement         37\n",
       "Firearm                                 18\n",
       "Firearm (unk type)                      15\n",
       "Other Firearm                           13\n",
       "Mace/Pepper Spray                       12\n",
       "Club                                     9\n",
       "Rifle                                    5\n",
       "None/Not Applicable                      4\n",
       "Taser/Stun Gun                           4\n",
       "Shotgun                                  3\n",
       "Automatic Handgun                        2\n",
       "Fire/Incendiary Device                   1\n",
       "Brass Knuckles                           1\n",
       "Blackjack                                1\n",
       "Name: Weapon Type, dtype: int64"
      ]
     },
     "execution_count": 46,
     "metadata": {},
     "output_type": "execute_result"
    }
   ],
   "source": [
    "# Now re-map Weapon Type feature.  First check the categories of Weapons\n",
    "df['Weapon Type'].value_counts()"
   ]
  },
  {
   "cell_type": "code",
   "execution_count": 47,
   "metadata": {
    "hidden": true
   },
   "outputs": [
    {
     "data": {
      "text/plain": [
       "None            32569\n",
       "Unknown          6213\n",
       "Lethal Blade     1790\n",
       "Firearm           418\n",
       "Blunt Force        97\n",
       "Spray              12\n",
       "Incendiary          1\n",
       "Name: Weapon Type, dtype: int64"
      ]
     },
     "execution_count": 47,
     "metadata": {},
     "output_type": "execute_result"
    }
   ],
   "source": [
    "weapon_type = {'None':'None', 'None/Not Applicable':'None', 'Fire/Incendiary Device':'Incendiary',\n",
    "              'Lethal Cutting Instrument':'Lethal Blade', 'Knife/Cutting/Stabbing Instrument':'Lethal Blade',\n",
    "              'Handgun':'Firearm', 'Firearm Other':'Firearm','Firearm':'Firearm', 'Firearm (unk type)':'Firearm',\n",
    "              'Other Firearm':'Firearm', 'Rifle':'Firearm', 'Shotgun':'Firearm', 'Automatic Handgun':'Firearm',\n",
    "              'Club, Blackjack, Brass Knuckles':'Blunt Force', 'Club':'Blunt Force', \n",
    "              'Brass Knuckles':'Blunt Force', 'Blackjack':'Blunt Force',\n",
    "              'Blunt Object/Striking Implement':'Blunt Force', '-':'Unknown',\n",
    "              'Taser/Stun gun':'Taser', 'Mace/Pepper Spray':'Spray',}\n",
    "\n",
    "df['Weapon Type']=df['Weapon Type'].map(weapon_type)\n",
    "df['Weapon Type'].value_counts()"
   ]
  },
  {
   "cell_type": "markdown",
   "metadata": {},
   "source": [
    "### F. Transform the Date using to_datetime, .weekday, and .day\n",
    "\n",
    "* Calculate the reported date of the week\n",
    "    - [x] Day of the week: 0 = Monday, 6 = Sunday\n",
    "    <br><br>\n",
    "    \n",
    "* Calculate the first, mid and last weeks of the month because perhaps more crimes / arrests are made when the bills come due\n",
    "    - [x] Time of month: 1 = First week, 2 = 2nd and 3rd weeks,  4 = last week of the month\n",
    "\n"
   ]
  },
  {
   "cell_type": "code",
   "execution_count": 48,
   "metadata": {},
   "outputs": [
    {
     "data": {
      "text/plain": [
       "0    2015-10-16T00:00:00\n",
       "1    2015-04-01T00:00:00\n",
       "2    2015-05-25T00:00:00\n",
       "3    2015-06-09T00:00:00\n",
       "4    2015-06-09T00:00:00\n",
       "Name: Reported Date, dtype: object"
      ]
     },
     "execution_count": 48,
     "metadata": {},
     "output_type": "execute_result"
    }
   ],
   "source": [
    "df['Reported Date'].head()"
   ]
  },
  {
   "cell_type": "code",
   "execution_count": 49,
   "metadata": {},
   "outputs": [],
   "source": [
    "# Transform the Reported date into a day of the week,  or the time of month \n",
    "# Day of the week: 0 = Monday, 6 = Sunday\n",
    "# Time of month: 1 = First week, 2 = 2nd and 3rd weeks,  4 = last week of the month\n",
    "\n",
    "df['Reported Date']=pd.to_datetime(df['Reported Date'])  # Processed earlier for Officer YOB calculation\n",
    "df['Weekday']=df['Reported Date'].dt.weekday\n",
    "\n",
    "df['Time of Month'] = df['Reported Date'].dt.day\n",
    "\n",
    "month_map = {1:1, 2:1,3:1,4:1, 5:1, 6:1, 7:1,8:2, 9:2, 10:2, 11:2, 12:2, 13:2, 14:2, 15:2, \n",
    "                     16:2, 17:2, 18:2, 19:2, 20:2, 21:2, 22:2, 23:3, 24:3, 25:3, 26:3, 27:3, 28:3, 29:3, 30:3, 31:3}\n",
    "\n",
    "df['Time of Month'] = df['Time of Month'].map(month_map)\n"
   ]
  },
  {
   "cell_type": "code",
   "execution_count": 50,
   "metadata": {},
   "outputs": [
    {
     "data": {
      "text/plain": [
       "Subject Age Group           0\n",
       "Stop Resolution             0\n",
       "Weapon Type                 4\n",
       "Officer YOB                 0\n",
       "Officer Gender              0\n",
       "Officer Race                0\n",
       "Subject Perceived Race      0\n",
       "Subject Perceived Gender    0\n",
       "Reported Date               0\n",
       "Initial Call Type           0\n",
       "Final Call Type             0\n",
       "Call Type                   0\n",
       "Officer Squad               0\n",
       "Reported Year               0\n",
       "Officer Age                 0\n",
       "Weekday                     0\n",
       "Time of Month               0\n",
       "dtype: int64"
      ]
     },
     "execution_count": 50,
     "metadata": {},
     "output_type": "execute_result"
    }
   ],
   "source": [
    "df.isna().sum()"
   ]
  },
  {
   "cell_type": "code",
   "execution_count": 51,
   "metadata": {},
   "outputs": [
    {
     "data": {
      "text/html": [
       "<div>\n",
       "<style scoped>\n",
       "    .dataframe tbody tr th:only-of-type {\n",
       "        vertical-align: middle;\n",
       "    }\n",
       "\n",
       "    .dataframe tbody tr th {\n",
       "        vertical-align: top;\n",
       "    }\n",
       "\n",
       "    .dataframe thead th {\n",
       "        text-align: right;\n",
       "    }\n",
       "</style>\n",
       "<table border=\"1\" class=\"dataframe\">\n",
       "  <thead>\n",
       "    <tr style=\"text-align: right;\">\n",
       "      <th></th>\n",
       "      <th>Subject Age Group</th>\n",
       "      <th>Stop Resolution</th>\n",
       "      <th>Weapon Type</th>\n",
       "      <th>Officer YOB</th>\n",
       "      <th>Officer Gender</th>\n",
       "      <th>Officer Race</th>\n",
       "      <th>Subject Perceived Race</th>\n",
       "      <th>Subject Perceived Gender</th>\n",
       "      <th>Reported Date</th>\n",
       "      <th>Initial Call Type</th>\n",
       "      <th>Final Call Type</th>\n",
       "      <th>Call Type</th>\n",
       "      <th>Officer Squad</th>\n",
       "      <th>Reported Year</th>\n",
       "      <th>Officer Age</th>\n",
       "      <th>Weekday</th>\n",
       "      <th>Time of Month</th>\n",
       "    </tr>\n",
       "  </thead>\n",
       "  <tbody>\n",
       "    <tr>\n",
       "      <th>0</th>\n",
       "      <td>0</td>\n",
       "      <td>1</td>\n",
       "      <td>None</td>\n",
       "      <td>1984</td>\n",
       "      <td>0</td>\n",
       "      <td>African American</td>\n",
       "      <td>Asian</td>\n",
       "      <td>0</td>\n",
       "      <td>2015-10-16</td>\n",
       "      <td>-</td>\n",
       "      <td>-</td>\n",
       "      <td>-</td>\n",
       "      <td>SOUTH PCT 1ST W - ROBERT</td>\n",
       "      <td>2015</td>\n",
       "      <td>3</td>\n",
       "      <td>4</td>\n",
       "      <td>2</td>\n",
       "    </tr>\n",
       "    <tr>\n",
       "      <th>1</th>\n",
       "      <td>0</td>\n",
       "      <td>0</td>\n",
       "      <td>None</td>\n",
       "      <td>1963</td>\n",
       "      <td>0</td>\n",
       "      <td>White</td>\n",
       "      <td>Unknown</td>\n",
       "      <td>2</td>\n",
       "      <td>2015-04-01</td>\n",
       "      <td>-</td>\n",
       "      <td>-</td>\n",
       "      <td>-</td>\n",
       "      <td>Unknown</td>\n",
       "      <td>2015</td>\n",
       "      <td>5</td>\n",
       "      <td>2</td>\n",
       "      <td>1</td>\n",
       "    </tr>\n",
       "    <tr>\n",
       "      <th>2</th>\n",
       "      <td>0</td>\n",
       "      <td>0</td>\n",
       "      <td>None</td>\n",
       "      <td>1985</td>\n",
       "      <td>0</td>\n",
       "      <td>Hispanic</td>\n",
       "      <td>Unknown</td>\n",
       "      <td>2</td>\n",
       "      <td>2015-05-25</td>\n",
       "      <td>-</td>\n",
       "      <td>-</td>\n",
       "      <td>-</td>\n",
       "      <td>WEST PCT 3RD W - MARY</td>\n",
       "      <td>2015</td>\n",
       "      <td>3</td>\n",
       "      <td>0</td>\n",
       "      <td>3</td>\n",
       "    </tr>\n",
       "    <tr>\n",
       "      <th>3</th>\n",
       "      <td>0</td>\n",
       "      <td>0</td>\n",
       "      <td>None</td>\n",
       "      <td>1979</td>\n",
       "      <td>0</td>\n",
       "      <td>White</td>\n",
       "      <td>Unknown</td>\n",
       "      <td>2</td>\n",
       "      <td>2015-06-09</td>\n",
       "      <td>-</td>\n",
       "      <td>-</td>\n",
       "      <td>-</td>\n",
       "      <td>NORTH PCT 2ND W - NORA</td>\n",
       "      <td>2015</td>\n",
       "      <td>4</td>\n",
       "      <td>1</td>\n",
       "      <td>2</td>\n",
       "    </tr>\n",
       "    <tr>\n",
       "      <th>4</th>\n",
       "      <td>0</td>\n",
       "      <td>0</td>\n",
       "      <td>None</td>\n",
       "      <td>1979</td>\n",
       "      <td>0</td>\n",
       "      <td>White</td>\n",
       "      <td>Unknown</td>\n",
       "      <td>2</td>\n",
       "      <td>2015-06-09</td>\n",
       "      <td>-</td>\n",
       "      <td>-</td>\n",
       "      <td>-</td>\n",
       "      <td>NORTH PCT 2ND W - NORA</td>\n",
       "      <td>2015</td>\n",
       "      <td>4</td>\n",
       "      <td>1</td>\n",
       "      <td>2</td>\n",
       "    </tr>\n",
       "  </tbody>\n",
       "</table>\n",
       "</div>"
      ],
      "text/plain": [
       "   Subject Age Group  Stop Resolution  ... Weekday  Time of Month\n",
       "0                  0                1  ...       4              2\n",
       "1                  0                0  ...       2              1\n",
       "2                  0                0  ...       0              3\n",
       "3                  0                0  ...       1              2\n",
       "4                  0                0  ...       1              2\n",
       "\n",
       "[5 rows x 17 columns]"
      ]
     },
     "execution_count": 51,
     "metadata": {},
     "output_type": "execute_result"
    }
   ],
   "source": [
    "df.head()"
   ]
  },
  {
   "cell_type": "markdown",
   "metadata": {},
   "source": [
    "### G. Use Officer Squad data to create the location information (Precinct or Officer Team) and the time of day of the arrest (Officer Watch)\n",
    "\n",
    "* Use Pandas Regex .str.extract to get the name of the precinct and the Watch if available\n",
    "\n",
    "* Analyse if some precincts / units never make arrests \n",
    "\n",
    "* The Officer Squad text data is likely more reliable estimate assuming use the information provided is the squad name / location, and the watch that handled the reports, not a specific person schedule or squad. <br><br>\n",
    "* With the Reported Date and Time, since the reports can come 1 day, or 10 hours later, the recorded time is not the actual Terry stop time. <br><br>\n",
    "* Features created from Officer Squad: <br><br>\n",
    "    - [x] Precinct or Squad name following the Terry stop\n",
    "    - [x] Watch: <br>\n",
    "        0 = Unknown, if the watch is not normally recorded<br>\n",
    "        1 = Watch 1 03:00 - 11:00<br>\n",
    "        2 = Watch 2 11:00 - 19:00<br>\n",
    "        3 = Watch 3 19:00 - 03:00<br>\n",
    "  "
   ]
  },
  {
   "cell_type": "code",
   "execution_count": 52,
   "metadata": {},
   "outputs": [
    {
     "data": {
      "text/html": [
       "<div>\n",
       "<style scoped>\n",
       "    .dataframe tbody tr th:only-of-type {\n",
       "        vertical-align: middle;\n",
       "    }\n",
       "\n",
       "    .dataframe tbody tr th {\n",
       "        vertical-align: top;\n",
       "    }\n",
       "\n",
       "    .dataframe thead th {\n",
       "        text-align: right;\n",
       "    }\n",
       "</style>\n",
       "<table border=\"1\" class=\"dataframe\">\n",
       "  <thead>\n",
       "    <tr style=\"text-align: right;\">\n",
       "      <th></th>\n",
       "      <th>Subject Age Group</th>\n",
       "      <th>Stop Resolution</th>\n",
       "      <th>Weapon Type</th>\n",
       "      <th>Officer YOB</th>\n",
       "      <th>Officer Gender</th>\n",
       "      <th>Officer Race</th>\n",
       "      <th>Subject Perceived Race</th>\n",
       "      <th>Subject Perceived Gender</th>\n",
       "      <th>Reported Date</th>\n",
       "      <th>Initial Call Type</th>\n",
       "      <th>Final Call Type</th>\n",
       "      <th>Call Type</th>\n",
       "      <th>Officer Squad</th>\n",
       "      <th>Reported Year</th>\n",
       "      <th>Officer Age</th>\n",
       "      <th>Weekday</th>\n",
       "      <th>Time of Month</th>\n",
       "    </tr>\n",
       "  </thead>\n",
       "  <tbody>\n",
       "    <tr>\n",
       "      <th>0</th>\n",
       "      <td>0</td>\n",
       "      <td>1</td>\n",
       "      <td>None</td>\n",
       "      <td>1984</td>\n",
       "      <td>0</td>\n",
       "      <td>African American</td>\n",
       "      <td>Asian</td>\n",
       "      <td>0</td>\n",
       "      <td>2015-10-16</td>\n",
       "      <td>-</td>\n",
       "      <td>-</td>\n",
       "      <td>-</td>\n",
       "      <td>SOUTH PCT 1ST W - ROBERT</td>\n",
       "      <td>2015</td>\n",
       "      <td>3</td>\n",
       "      <td>4</td>\n",
       "      <td>2</td>\n",
       "    </tr>\n",
       "    <tr>\n",
       "      <th>1</th>\n",
       "      <td>0</td>\n",
       "      <td>0</td>\n",
       "      <td>None</td>\n",
       "      <td>1963</td>\n",
       "      <td>0</td>\n",
       "      <td>White</td>\n",
       "      <td>Unknown</td>\n",
       "      <td>2</td>\n",
       "      <td>2015-04-01</td>\n",
       "      <td>-</td>\n",
       "      <td>-</td>\n",
       "      <td>-</td>\n",
       "      <td>Unknown</td>\n",
       "      <td>2015</td>\n",
       "      <td>5</td>\n",
       "      <td>2</td>\n",
       "      <td>1</td>\n",
       "    </tr>\n",
       "    <tr>\n",
       "      <th>2</th>\n",
       "      <td>0</td>\n",
       "      <td>0</td>\n",
       "      <td>None</td>\n",
       "      <td>1985</td>\n",
       "      <td>0</td>\n",
       "      <td>Hispanic</td>\n",
       "      <td>Unknown</td>\n",
       "      <td>2</td>\n",
       "      <td>2015-05-25</td>\n",
       "      <td>-</td>\n",
       "      <td>-</td>\n",
       "      <td>-</td>\n",
       "      <td>WEST PCT 3RD W - MARY</td>\n",
       "      <td>2015</td>\n",
       "      <td>3</td>\n",
       "      <td>0</td>\n",
       "      <td>3</td>\n",
       "    </tr>\n",
       "    <tr>\n",
       "      <th>3</th>\n",
       "      <td>0</td>\n",
       "      <td>0</td>\n",
       "      <td>None</td>\n",
       "      <td>1979</td>\n",
       "      <td>0</td>\n",
       "      <td>White</td>\n",
       "      <td>Unknown</td>\n",
       "      <td>2</td>\n",
       "      <td>2015-06-09</td>\n",
       "      <td>-</td>\n",
       "      <td>-</td>\n",
       "      <td>-</td>\n",
       "      <td>NORTH PCT 2ND W - NORA</td>\n",
       "      <td>2015</td>\n",
       "      <td>4</td>\n",
       "      <td>1</td>\n",
       "      <td>2</td>\n",
       "    </tr>\n",
       "    <tr>\n",
       "      <th>4</th>\n",
       "      <td>0</td>\n",
       "      <td>0</td>\n",
       "      <td>None</td>\n",
       "      <td>1979</td>\n",
       "      <td>0</td>\n",
       "      <td>White</td>\n",
       "      <td>Unknown</td>\n",
       "      <td>2</td>\n",
       "      <td>2015-06-09</td>\n",
       "      <td>-</td>\n",
       "      <td>-</td>\n",
       "      <td>-</td>\n",
       "      <td>NORTH PCT 2ND W - NORA</td>\n",
       "      <td>2015</td>\n",
       "      <td>4</td>\n",
       "      <td>1</td>\n",
       "      <td>2</td>\n",
       "    </tr>\n",
       "  </tbody>\n",
       "</table>\n",
       "</div>"
      ],
      "text/plain": [
       "   Subject Age Group  Stop Resolution  ... Weekday  Time of Month\n",
       "0                  0                1  ...       4              2\n",
       "1                  0                0  ...       2              1\n",
       "2                  0                0  ...       0              3\n",
       "3                  0                0  ...       1              2\n",
       "4                  0                0  ...       1              2\n",
       "\n",
       "[5 rows x 17 columns]"
      ]
     },
     "execution_count": 52,
     "metadata": {},
     "output_type": "execute_result"
    }
   ],
   "source": [
    "df.head()"
   ]
  },
  {
   "cell_type": "code",
   "execution_count": 53,
   "metadata": {},
   "outputs": [],
   "source": [
    "# Use Python Regex commands to clean up the Call Types and Officer Squad"
   ]
  },
  {
   "cell_type": "code",
   "execution_count": 54,
   "metadata": {},
   "outputs": [],
   "source": [
    "df['Officer Squad'].value_counts()\n",
    "\n",
    "df['Precinct'] = df['Officer Squad'].str.extract(r'(\\w+)')"
   ]
  },
  {
   "cell_type": "code",
   "execution_count": 55,
   "metadata": {},
   "outputs": [
    {
     "data": {
      "text/html": [
       "<div>\n",
       "<style scoped>\n",
       "    .dataframe tbody tr th:only-of-type {\n",
       "        vertical-align: middle;\n",
       "    }\n",
       "\n",
       "    .dataframe tbody tr th {\n",
       "        vertical-align: top;\n",
       "    }\n",
       "\n",
       "    .dataframe thead th {\n",
       "        text-align: right;\n",
       "    }\n",
       "</style>\n",
       "<table border=\"1\" class=\"dataframe\">\n",
       "  <thead>\n",
       "    <tr style=\"text-align: right;\">\n",
       "      <th></th>\n",
       "      <th>Subject Age Group</th>\n",
       "      <th>Stop Resolution</th>\n",
       "      <th>Weapon Type</th>\n",
       "      <th>Officer YOB</th>\n",
       "      <th>Officer Gender</th>\n",
       "      <th>Officer Race</th>\n",
       "      <th>Subject Perceived Race</th>\n",
       "      <th>Subject Perceived Gender</th>\n",
       "      <th>Reported Date</th>\n",
       "      <th>Initial Call Type</th>\n",
       "      <th>Final Call Type</th>\n",
       "      <th>Call Type</th>\n",
       "      <th>Officer Squad</th>\n",
       "      <th>Reported Year</th>\n",
       "      <th>Officer Age</th>\n",
       "      <th>Weekday</th>\n",
       "      <th>Time of Month</th>\n",
       "      <th>Precinct</th>\n",
       "      <th>Watch</th>\n",
       "    </tr>\n",
       "  </thead>\n",
       "  <tbody>\n",
       "    <tr>\n",
       "      <th>0</th>\n",
       "      <td>0</td>\n",
       "      <td>1</td>\n",
       "      <td>None</td>\n",
       "      <td>1984</td>\n",
       "      <td>0</td>\n",
       "      <td>African American</td>\n",
       "      <td>Asian</td>\n",
       "      <td>0</td>\n",
       "      <td>2015-10-16</td>\n",
       "      <td>-</td>\n",
       "      <td>-</td>\n",
       "      <td>-</td>\n",
       "      <td>SOUTH PCT 1ST W - ROBERT</td>\n",
       "      <td>2015</td>\n",
       "      <td>3</td>\n",
       "      <td>4</td>\n",
       "      <td>2</td>\n",
       "      <td>SOUTH</td>\n",
       "      <td>1</td>\n",
       "    </tr>\n",
       "    <tr>\n",
       "      <th>1</th>\n",
       "      <td>0</td>\n",
       "      <td>0</td>\n",
       "      <td>None</td>\n",
       "      <td>1963</td>\n",
       "      <td>0</td>\n",
       "      <td>White</td>\n",
       "      <td>Unknown</td>\n",
       "      <td>2</td>\n",
       "      <td>2015-04-01</td>\n",
       "      <td>-</td>\n",
       "      <td>-</td>\n",
       "      <td>-</td>\n",
       "      <td>Unknown</td>\n",
       "      <td>2015</td>\n",
       "      <td>5</td>\n",
       "      <td>2</td>\n",
       "      <td>1</td>\n",
       "      <td>Unknown</td>\n",
       "      <td>0</td>\n",
       "    </tr>\n",
       "    <tr>\n",
       "      <th>2</th>\n",
       "      <td>0</td>\n",
       "      <td>0</td>\n",
       "      <td>None</td>\n",
       "      <td>1985</td>\n",
       "      <td>0</td>\n",
       "      <td>Hispanic</td>\n",
       "      <td>Unknown</td>\n",
       "      <td>2</td>\n",
       "      <td>2015-05-25</td>\n",
       "      <td>-</td>\n",
       "      <td>-</td>\n",
       "      <td>-</td>\n",
       "      <td>WEST PCT 3RD W - MARY</td>\n",
       "      <td>2015</td>\n",
       "      <td>3</td>\n",
       "      <td>0</td>\n",
       "      <td>3</td>\n",
       "      <td>WEST</td>\n",
       "      <td>3</td>\n",
       "    </tr>\n",
       "    <tr>\n",
       "      <th>3</th>\n",
       "      <td>0</td>\n",
       "      <td>0</td>\n",
       "      <td>None</td>\n",
       "      <td>1979</td>\n",
       "      <td>0</td>\n",
       "      <td>White</td>\n",
       "      <td>Unknown</td>\n",
       "      <td>2</td>\n",
       "      <td>2015-06-09</td>\n",
       "      <td>-</td>\n",
       "      <td>-</td>\n",
       "      <td>-</td>\n",
       "      <td>NORTH PCT 2ND W - NORA</td>\n",
       "      <td>2015</td>\n",
       "      <td>4</td>\n",
       "      <td>1</td>\n",
       "      <td>2</td>\n",
       "      <td>NORTH</td>\n",
       "      <td>2</td>\n",
       "    </tr>\n",
       "    <tr>\n",
       "      <th>4</th>\n",
       "      <td>0</td>\n",
       "      <td>0</td>\n",
       "      <td>None</td>\n",
       "      <td>1979</td>\n",
       "      <td>0</td>\n",
       "      <td>White</td>\n",
       "      <td>Unknown</td>\n",
       "      <td>2</td>\n",
       "      <td>2015-06-09</td>\n",
       "      <td>-</td>\n",
       "      <td>-</td>\n",
       "      <td>-</td>\n",
       "      <td>NORTH PCT 2ND W - NORA</td>\n",
       "      <td>2015</td>\n",
       "      <td>4</td>\n",
       "      <td>1</td>\n",
       "      <td>2</td>\n",
       "      <td>NORTH</td>\n",
       "      <td>2</td>\n",
       "    </tr>\n",
       "    <tr>\n",
       "      <th>...</th>\n",
       "      <td>...</td>\n",
       "      <td>...</td>\n",
       "      <td>...</td>\n",
       "      <td>...</td>\n",
       "      <td>...</td>\n",
       "      <td>...</td>\n",
       "      <td>...</td>\n",
       "      <td>...</td>\n",
       "      <td>...</td>\n",
       "      <td>...</td>\n",
       "      <td>...</td>\n",
       "      <td>...</td>\n",
       "      <td>...</td>\n",
       "      <td>...</td>\n",
       "      <td>...</td>\n",
       "      <td>...</td>\n",
       "      <td>...</td>\n",
       "      <td>...</td>\n",
       "      <td>...</td>\n",
       "    </tr>\n",
       "    <tr>\n",
       "      <th>95</th>\n",
       "      <td>0</td>\n",
       "      <td>0</td>\n",
       "      <td>None</td>\n",
       "      <td>1979</td>\n",
       "      <td>0</td>\n",
       "      <td>White</td>\n",
       "      <td>Unknown</td>\n",
       "      <td>2</td>\n",
       "      <td>2015-10-20</td>\n",
       "      <td>-</td>\n",
       "      <td>-</td>\n",
       "      <td>-</td>\n",
       "      <td>NORTH PCT 2ND W - NORA</td>\n",
       "      <td>2015</td>\n",
       "      <td>4</td>\n",
       "      <td>1</td>\n",
       "      <td>2</td>\n",
       "      <td>NORTH</td>\n",
       "      <td>2</td>\n",
       "    </tr>\n",
       "    <tr>\n",
       "      <th>96</th>\n",
       "      <td>0</td>\n",
       "      <td>0</td>\n",
       "      <td>None</td>\n",
       "      <td>1987</td>\n",
       "      <td>0</td>\n",
       "      <td>White</td>\n",
       "      <td>Unknown</td>\n",
       "      <td>2</td>\n",
       "      <td>2015-10-31</td>\n",
       "      <td>-</td>\n",
       "      <td>-</td>\n",
       "      <td>-</td>\n",
       "      <td>SOUTH PCT 1ST W - SAM</td>\n",
       "      <td>2015</td>\n",
       "      <td>3</td>\n",
       "      <td>5</td>\n",
       "      <td>3</td>\n",
       "      <td>SOUTH</td>\n",
       "      <td>1</td>\n",
       "    </tr>\n",
       "    <tr>\n",
       "      <th>97</th>\n",
       "      <td>0</td>\n",
       "      <td>0</td>\n",
       "      <td>None</td>\n",
       "      <td>1966</td>\n",
       "      <td>0</td>\n",
       "      <td>Hispanic</td>\n",
       "      <td>African American</td>\n",
       "      <td>0</td>\n",
       "      <td>2015-11-06</td>\n",
       "      <td>-</td>\n",
       "      <td>-</td>\n",
       "      <td>-</td>\n",
       "      <td>SOUTH PCT 1ST W - R/S RELIEF</td>\n",
       "      <td>2015</td>\n",
       "      <td>5</td>\n",
       "      <td>4</td>\n",
       "      <td>1</td>\n",
       "      <td>SOUTH</td>\n",
       "      <td>1</td>\n",
       "    </tr>\n",
       "    <tr>\n",
       "      <th>98</th>\n",
       "      <td>0</td>\n",
       "      <td>0</td>\n",
       "      <td>None</td>\n",
       "      <td>1971</td>\n",
       "      <td>0</td>\n",
       "      <td>White</td>\n",
       "      <td>Unknown</td>\n",
       "      <td>2</td>\n",
       "      <td>2015-11-15</td>\n",
       "      <td>-</td>\n",
       "      <td>-</td>\n",
       "      <td>-</td>\n",
       "      <td>WEST PCT 2ND W - QUEEN</td>\n",
       "      <td>2015</td>\n",
       "      <td>4</td>\n",
       "      <td>6</td>\n",
       "      <td>2</td>\n",
       "      <td>WEST</td>\n",
       "      <td>2</td>\n",
       "    </tr>\n",
       "    <tr>\n",
       "      <th>99</th>\n",
       "      <td>0</td>\n",
       "      <td>0</td>\n",
       "      <td>None</td>\n",
       "      <td>1985</td>\n",
       "      <td>0</td>\n",
       "      <td>White</td>\n",
       "      <td>Unknown</td>\n",
       "      <td>2</td>\n",
       "      <td>2015-11-25</td>\n",
       "      <td>-</td>\n",
       "      <td>-</td>\n",
       "      <td>-</td>\n",
       "      <td>NORTH PCT 3RD W - JOHN</td>\n",
       "      <td>2015</td>\n",
       "      <td>3</td>\n",
       "      <td>2</td>\n",
       "      <td>3</td>\n",
       "      <td>NORTH</td>\n",
       "      <td>3</td>\n",
       "    </tr>\n",
       "  </tbody>\n",
       "</table>\n",
       "<p>100 rows × 19 columns</p>\n",
       "</div>"
      ],
      "text/plain": [
       "    Subject Age Group  Stop Resolution  ... Precinct  Watch\n",
       "0                   0                1  ...    SOUTH      1\n",
       "1                   0                0  ...  Unknown      0\n",
       "2                   0                0  ...     WEST      3\n",
       "3                   0                0  ...    NORTH      2\n",
       "4                   0                0  ...    NORTH      2\n",
       "..                ...              ...  ...      ...    ...\n",
       "95                  0                0  ...    NORTH      2\n",
       "96                  0                0  ...    SOUTH      1\n",
       "97                  0                0  ...    SOUTH      1\n",
       "98                  0                0  ...     WEST      2\n",
       "99                  0                0  ...    NORTH      3\n",
       "\n",
       "[100 rows x 19 columns]"
      ]
     },
     "execution_count": 55,
     "metadata": {},
     "output_type": "execute_result"
    }
   ],
   "source": [
    "df['Watch'] = df['Officer Squad'].str.extract(pat = '([\\d])').fillna(0)\n",
    "df.head(100)\n",
    "\n",
    "# Some Officer Quads do not recorde the Watch number \n",
    "# Don't leave the NaNs in the Watch column, fill with 0\n",
    "# Watch definition: 0 = Unknown, 1 = 1st Watch, 2 = 2nd Watch, 3 = 3rd Watch"
   ]
  },
  {
   "cell_type": "code",
   "execution_count": 56,
   "metadata": {},
   "outputs": [
    {
     "data": {
      "text/plain": [
       "Subject Age Group           0\n",
       "Stop Resolution             0\n",
       "Weapon Type                 4\n",
       "Officer YOB                 0\n",
       "Officer Gender              0\n",
       "Officer Race                0\n",
       "Subject Perceived Race      0\n",
       "Subject Perceived Gender    0\n",
       "Reported Date               0\n",
       "Initial Call Type           0\n",
       "Final Call Type             0\n",
       "Call Type                   0\n",
       "Officer Squad               0\n",
       "Reported Year               0\n",
       "Officer Age                 0\n",
       "Weekday                     0\n",
       "Time of Month               0\n",
       "Precinct                    0\n",
       "Watch                       0\n",
       "dtype: int64"
      ]
     },
     "execution_count": 56,
     "metadata": {},
     "output_type": "execute_result"
    }
   ],
   "source": [
    "df.isna().sum()"
   ]
  },
  {
   "cell_type": "code",
   "execution_count": 57,
   "metadata": {},
   "outputs": [
    {
     "data": {
      "text/plain": [
       "(WEST         3061\n",
       " NORTH        2261\n",
       " EAST         1879\n",
       " SOUTH        1481\n",
       " TRAINING     1058\n",
       " SOUTHWEST     733\n",
       " Unknown       115\n",
       " TRAF           25\n",
       " CRISIS         19\n",
       " GANG           18\n",
       " CANINE          8\n",
       " SWAT            6\n",
       " AUTO            4\n",
       " DV              3\n",
       " SAU             3\n",
       " JOINT           2\n",
       " PAWN            2\n",
       " BURG            2\n",
       " MAJOR           2\n",
       " HR              1\n",
       " ROBBERY         1\n",
       " NARC            1\n",
       " Name: Precinct, dtype: int64, WEST          10735\n",
       " NORTH         10079\n",
       " EAST           5976\n",
       " SOUTH          5475\n",
       " TRAINING       4312\n",
       " SOUTHWEST      3576\n",
       " Unknown         535\n",
       " TRAF             88\n",
       " GANG             64\n",
       " CRISIS           54\n",
       " CANINE           38\n",
       " MAJOR            33\n",
       " SWAT             28\n",
       " SAU              16\n",
       " HARBOR           16\n",
       " BURG             13\n",
       " HR               10\n",
       " JOINT            10\n",
       " DV                8\n",
       " AUTO              8\n",
       " NAVIGATION        6\n",
       " COMMUNITY         5\n",
       " NARC              5\n",
       " OPS               3\n",
       " PAWN              3\n",
       " PUBLIC            2\n",
       " ROBBERY           2\n",
       " RECORDS           1\n",
       " VICE              1\n",
       " COMM              1\n",
       " ZOLD              1\n",
       " Name: Precinct, dtype: int64)"
      ]
     },
     "execution_count": 57,
     "metadata": {},
     "output_type": "execute_result"
    }
   ],
   "source": [
    "# Identify the Precincts are not typically making arrests, by comparing the number of arrests (Stop Resolution = Arrest)\n",
    "# to the total number of Terry stops. \n",
    "\n",
    "\n",
    "arrest_df = df.loc[df['Stop Resolution'] == 1]  # Dataframe only for those Terry stops that resulted in arrests\n",
    "\n",
    "arrest_df['Precinct'].value_counts(), df['Precinct'].value_counts()  # compare the value_counts for both dataframes\n",
    "\n",
    "# Subsetting to only the Stop Resolution of arrest "
   ]
  },
  {
   "cell_type": "code",
   "execution_count": 58,
   "metadata": {},
   "outputs": [
    {
     "name": "stdout",
     "output_type": "stream",
     "text": [
      "The percentage of arrests based on terry stops, by squad \n",
      "\n",
      " AUTO         0.5\n",
      "BURG         0.2\n",
      "CANINE       0.2\n",
      "COMM         nan\n",
      "COMMUNITY    nan\n",
      "CRISIS       0.4\n",
      "DV           0.4\n",
      "EAST         0.3\n",
      "GANG         0.3\n",
      "HARBOR       nan\n",
      "HR           0.1\n",
      "JOINT        0.2\n",
      "MAJOR        0.1\n",
      "NARC         0.2\n",
      "NAVIGATION   nan\n",
      "NORTH        0.2\n",
      "OPS          nan\n",
      "PAWN         0.7\n",
      "PUBLIC       nan\n",
      "RECORDS      nan\n",
      "ROBBERY      0.5\n",
      "SAU          0.2\n",
      "SOUTH        0.3\n",
      "SOUTHWEST    0.2\n",
      "SWAT         0.2\n",
      "TRAF         0.3\n",
      "TRAINING     0.2\n",
      "Unknown      0.2\n",
      "VICE         nan\n",
      "WEST         0.3\n",
      "ZOLD         nan\n",
      "Name: Precinct, dtype: float64\n"
     ]
    }
   ],
   "source": [
    "# Caculate the # of precincts that have arrests by dividing the arrest_df to the total number of terry stops\n",
    "\n",
    "arrest_percentage = arrest_df['Precinct'].value_counts() / df['Precinct'].value_counts()\n",
    "print(f'The percentage of arrests based on terry stops, by squad \\n\\n',arrest_percentage)"
   ]
  },
  {
   "cell_type": "code",
   "execution_count": 59,
   "metadata": {},
   "outputs": [],
   "source": [
    "# Create a dictionary for mapping the squads which have successful arrest.  Those officer squads which have\n",
    "# reported Terry stops with no arrests will be dropped from the dataset\n",
    "successful_arrest_map=arrest_percentage.to_dict()\n",
    "# successful_arrest_map # Take a look at the dictionary\n",
    "\n",
    "df['Precinct Success']=df['Precinct'].map(successful_arrest_map)"
   ]
  },
  {
   "cell_type": "code",
   "execution_count": 60,
   "metadata": {},
   "outputs": [
    {
     "data": {
      "text/plain": [
       "Subject Age Group            0\n",
       "Stop Resolution              0\n",
       "Weapon Type                  4\n",
       "Officer YOB                  0\n",
       "Officer Gender               0\n",
       "Officer Race                 0\n",
       "Subject Perceived Race       0\n",
       "Subject Perceived Gender     0\n",
       "Reported Date                0\n",
       "Initial Call Type            0\n",
       "Final Call Type              0\n",
       "Call Type                    0\n",
       "Officer Squad                0\n",
       "Reported Year                0\n",
       "Officer Age                  0\n",
       "Weekday                      0\n",
       "Time of Month                0\n",
       "Precinct                     0\n",
       "Watch                        0\n",
       "Precinct Success            36\n",
       "dtype: int64"
      ]
     },
     "execution_count": 60,
     "metadata": {},
     "output_type": "execute_result"
    }
   ],
   "source": [
    "df.isna().sum()"
   ]
  },
  {
   "cell_type": "code",
   "execution_count": 61,
   "metadata": {},
   "outputs": [],
   "source": [
    "# There are 36 units / precincts which do not have any arrests since 2015\n",
    "# Likely these units are not expected to make arrests\n",
    "\n",
    "#df.to_csv('terry_stops_cleanup3.csv') #save with all manipulations except for Call Types, without dropping"
   ]
  },
  {
   "cell_type": "code",
   "execution_count": 62,
   "metadata": {},
   "outputs": [],
   "source": [
    "# Drop out the units Terry stops which do not routinely make arrests\n",
    "df.dropna(inplace=True)  # Drop the squads with no arrests\n",
    "df.reset_index(inplace=True)  # Reset the Index\n",
    "df.drop(columns=['Call Type', 'Reported Date', 'Officer Squad'], inplace = True) # Drop Processed Columns\n",
    "df.to_csv('terry_stops_cleanup4.csv') #Save after dropping squads with no arrests and columns and reset index"
   ]
  },
  {
   "cell_type": "code",
   "execution_count": 63,
   "metadata": {},
   "outputs": [
    {
     "data": {
      "text/html": [
       "<div>\n",
       "<style scoped>\n",
       "    .dataframe tbody tr th:only-of-type {\n",
       "        vertical-align: middle;\n",
       "    }\n",
       "\n",
       "    .dataframe tbody tr th {\n",
       "        vertical-align: top;\n",
       "    }\n",
       "\n",
       "    .dataframe thead th {\n",
       "        text-align: right;\n",
       "    }\n",
       "</style>\n",
       "<table border=\"1\" class=\"dataframe\">\n",
       "  <thead>\n",
       "    <tr style=\"text-align: right;\">\n",
       "      <th></th>\n",
       "      <th>index</th>\n",
       "      <th>Subject Age Group</th>\n",
       "      <th>Stop Resolution</th>\n",
       "      <th>Weapon Type</th>\n",
       "      <th>Officer YOB</th>\n",
       "      <th>Officer Gender</th>\n",
       "      <th>Officer Race</th>\n",
       "      <th>Subject Perceived Race</th>\n",
       "      <th>Subject Perceived Gender</th>\n",
       "      <th>Initial Call Type</th>\n",
       "      <th>Final Call Type</th>\n",
       "      <th>Reported Year</th>\n",
       "      <th>Officer Age</th>\n",
       "      <th>Weekday</th>\n",
       "      <th>Time of Month</th>\n",
       "      <th>Precinct</th>\n",
       "      <th>Watch</th>\n",
       "      <th>Precinct Success</th>\n",
       "    </tr>\n",
       "  </thead>\n",
       "  <tbody>\n",
       "    <tr>\n",
       "      <th>0</th>\n",
       "      <td>0</td>\n",
       "      <td>0</td>\n",
       "      <td>1</td>\n",
       "      <td>None</td>\n",
       "      <td>1984</td>\n",
       "      <td>0</td>\n",
       "      <td>African American</td>\n",
       "      <td>Asian</td>\n",
       "      <td>0</td>\n",
       "      <td>-</td>\n",
       "      <td>-</td>\n",
       "      <td>2015</td>\n",
       "      <td>3</td>\n",
       "      <td>4</td>\n",
       "      <td>2</td>\n",
       "      <td>SOUTH</td>\n",
       "      <td>1</td>\n",
       "      <td>0.3</td>\n",
       "    </tr>\n",
       "    <tr>\n",
       "      <th>1</th>\n",
       "      <td>1</td>\n",
       "      <td>0</td>\n",
       "      <td>0</td>\n",
       "      <td>None</td>\n",
       "      <td>1963</td>\n",
       "      <td>0</td>\n",
       "      <td>White</td>\n",
       "      <td>Unknown</td>\n",
       "      <td>2</td>\n",
       "      <td>-</td>\n",
       "      <td>-</td>\n",
       "      <td>2015</td>\n",
       "      <td>5</td>\n",
       "      <td>2</td>\n",
       "      <td>1</td>\n",
       "      <td>Unknown</td>\n",
       "      <td>0</td>\n",
       "      <td>0.2</td>\n",
       "    </tr>\n",
       "    <tr>\n",
       "      <th>2</th>\n",
       "      <td>2</td>\n",
       "      <td>0</td>\n",
       "      <td>0</td>\n",
       "      <td>None</td>\n",
       "      <td>1985</td>\n",
       "      <td>0</td>\n",
       "      <td>Hispanic</td>\n",
       "      <td>Unknown</td>\n",
       "      <td>2</td>\n",
       "      <td>-</td>\n",
       "      <td>-</td>\n",
       "      <td>2015</td>\n",
       "      <td>3</td>\n",
       "      <td>0</td>\n",
       "      <td>3</td>\n",
       "      <td>WEST</td>\n",
       "      <td>3</td>\n",
       "      <td>0.3</td>\n",
       "    </tr>\n",
       "    <tr>\n",
       "      <th>3</th>\n",
       "      <td>3</td>\n",
       "      <td>0</td>\n",
       "      <td>0</td>\n",
       "      <td>None</td>\n",
       "      <td>1979</td>\n",
       "      <td>0</td>\n",
       "      <td>White</td>\n",
       "      <td>Unknown</td>\n",
       "      <td>2</td>\n",
       "      <td>-</td>\n",
       "      <td>-</td>\n",
       "      <td>2015</td>\n",
       "      <td>4</td>\n",
       "      <td>1</td>\n",
       "      <td>2</td>\n",
       "      <td>NORTH</td>\n",
       "      <td>2</td>\n",
       "      <td>0.2</td>\n",
       "    </tr>\n",
       "    <tr>\n",
       "      <th>4</th>\n",
       "      <td>4</td>\n",
       "      <td>0</td>\n",
       "      <td>0</td>\n",
       "      <td>None</td>\n",
       "      <td>1979</td>\n",
       "      <td>0</td>\n",
       "      <td>White</td>\n",
       "      <td>Unknown</td>\n",
       "      <td>2</td>\n",
       "      <td>-</td>\n",
       "      <td>-</td>\n",
       "      <td>2015</td>\n",
       "      <td>4</td>\n",
       "      <td>1</td>\n",
       "      <td>2</td>\n",
       "      <td>NORTH</td>\n",
       "      <td>2</td>\n",
       "      <td>0.2</td>\n",
       "    </tr>\n",
       "  </tbody>\n",
       "</table>\n",
       "</div>"
      ],
      "text/plain": [
       "   index  Subject Age Group  Stop Resolution  ... Precinct  Watch  Precinct Success\n",
       "0      0                  0                1  ...    SOUTH      1               0.3\n",
       "1      1                  0                0  ...  Unknown      0               0.2\n",
       "2      2                  0                0  ...     WEST      3               0.3\n",
       "3      3                  0                0  ...    NORTH      2               0.2\n",
       "4      4                  0                0  ...    NORTH      2               0.2\n",
       "\n",
       "[5 rows x 18 columns]"
      ]
     },
     "execution_count": 63,
     "metadata": {},
     "output_type": "execute_result"
    }
   ],
   "source": [
    "df.head()"
   ]
  },
  {
   "cell_type": "markdown",
   "metadata": {},
   "source": [
    "### H. Transform Initial or Final Call Types"
   ]
  },
  {
   "cell_type": "code",
   "execution_count": 64,
   "metadata": {},
   "outputs": [],
   "source": [
    "def clean_call_types(df_to_clean, col_name, new_col):\n",
    "    '''Transform Call Type text into a single identifier\n",
    "    Inputs:  df,  col_name -  column which has the Call type,  and a new column name\n",
    "    Outputs: The dataframe with a new column name, and a map'''\n",
    "    idx = df_to_clean[col_name] == '-' # Create an index of the true and false values for the condition == '-'\n",
    "    df_to_clean.loc[idx, col_name] = 'Unknown'\n",
    "    column_series = df_to_clean[col_name]\n",
    "    df_to_clean[new_col] = column_series.apply(lambda x:x.replace('--','').split('-')[0].strip())\n",
    "    #df_to_clean[new_col].value_counts(dropna=False).sort_index()\n",
    "    #df_to_clean.isna().sum()\n",
    "    df_to_clean[new_col] = df_to_clean[new_col].str.extract(r'(\\w+)')\n",
    "    df_to_clean[new_col] = df_to_clean[new_col].str.lower()\n",
    "    last_map = df_to_clean[new_col].value_counts().to_dict()\n",
    "    return last_map\n",
    "    "
   ]
  },
  {
   "cell_type": "code",
   "execution_count": 65,
   "metadata": {},
   "outputs": [],
   "source": [
    "final_map = clean_call_types(df,'Final Call Type', 'Final Call Re-map')\n",
    "\n",
    "initial_map = clean_call_types(df, 'Initial Call Type', 'Initial Call Re-map')"
   ]
  },
  {
   "cell_type": "code",
   "execution_count": 66,
   "metadata": {},
   "outputs": [
    {
     "data": {
      "text/plain": [
       "{'unknown': 12725,\n",
       " 'suspicious': 3780,\n",
       " 'assaults': 3047,\n",
       " 'disturbance': 2826,\n",
       " 'prowler': 2777,\n",
       " 'dv': 2641,\n",
       " 'warrant': 2530,\n",
       " 'theft': 2299,\n",
       " 'narcotics': 1144,\n",
       " 'robbery': 957,\n",
       " 'burglary': 915,\n",
       " 'traffic': 886,\n",
       " 'property': 808,\n",
       " 'weapon': 777,\n",
       " 'crisis': 746,\n",
       " 'automobiles': 603,\n",
       " 'assist': 189,\n",
       " 'sex': 177,\n",
       " 'mischief': 154,\n",
       " 'arson': 126,\n",
       " 'fraud': 119,\n",
       " 'vice': 96,\n",
       " 'misc': 65,\n",
       " 'drive': 65,\n",
       " 'premise': 57,\n",
       " 'alarm': 55,\n",
       " 'intox': 53,\n",
       " 'rape': 47,\n",
       " 'child': 43,\n",
       " 'trespass': 41,\n",
       " 'person': 39,\n",
       " 'homicide': 37,\n",
       " 'burg': 23,\n",
       " 'kidnap': 21,\n",
       " 'animal': 20,\n",
       " 'hazards': 18,\n",
       " 'aslt': 17,\n",
       " 'fight': 13,\n",
       " 'casualty': 13,\n",
       " 'shoplift': 11,\n",
       " 'auto': 8,\n",
       " 'purse': 7,\n",
       " 'haras': 7,\n",
       " 'weapn': 6,\n",
       " 'follow': 5,\n",
       " 'fireworks': 5,\n",
       " 'dist': 5,\n",
       " 'threats': 4,\n",
       " 'nuisance': 4,\n",
       " 'haz': 4,\n",
       " 'liquor': 3,\n",
       " 'mvc': 3,\n",
       " 'harbor': 3,\n",
       " 'shots': 3,\n",
       " 'service': 2,\n",
       " 'hospital': 2,\n",
       " 'down': 2,\n",
       " 'bomb': 2,\n",
       " 'lewd': 1,\n",
       " 'commercial': 1,\n",
       " 'noise': 1,\n",
       " 'undercover': 1,\n",
       " 'burn': 1,\n",
       " 'order': 1,\n",
       " 'crowd': 1,\n",
       " 'dui': 1,\n",
       " 'escape': 1}"
      ]
     },
     "execution_count": 66,
     "metadata": {},
     "output_type": "execute_result"
    }
   ],
   "source": [
    "final_map"
   ]
  },
  {
   "cell_type": "code",
   "execution_count": 67,
   "metadata": {},
   "outputs": [
    {
     "data": {
      "text/plain": [
       "{'unknown': 13098,\n",
       " 'suspicious': 4982,\n",
       " 'aslt': 3195,\n",
       " 'disturbance': 2114,\n",
       " 'fight': 1700,\n",
       " 'trespass': 1580,\n",
       " 'burg': 1339,\n",
       " 'theft': 1289,\n",
       " 'weapn': 1157,\n",
       " 'shoplift': 1117,\n",
       " 'dist': 948,\n",
       " 'robbery': 938,\n",
       " 'narcotics': 656,\n",
       " 'warrant': 642,\n",
       " 'threats': 627,\n",
       " 'auto': 607,\n",
       " 'traffic': 574,\n",
       " 'property': 565,\n",
       " 'mvc': 322,\n",
       " 'nuisance': 312,\n",
       " 'down': 257,\n",
       " 'shots': 251,\n",
       " 'prowler': 240,\n",
       " 'alarm': 201,\n",
       " 'person': 157,\n",
       " 'order': 149,\n",
       " 'premise': 143,\n",
       " 'lewd': 140,\n",
       " 'assist': 139,\n",
       " 'haz': 130,\n",
       " 'dui': 118,\n",
       " 'sfd': 115,\n",
       " 'arson': 107,\n",
       " 'suicide': 107,\n",
       " 'fraud': 105,\n",
       " 'follow': 80,\n",
       " 'sex': 71,\n",
       " 'liquor': 67,\n",
       " 'service': 64,\n",
       " 'child': 55,\n",
       " 'undercover': 52,\n",
       " 'rape': 48,\n",
       " 'haras': 46,\n",
       " 'burn': 43,\n",
       " 'overdose': 34,\n",
       " 'purse': 34,\n",
       " 'vice': 34,\n",
       " 'noise': 30,\n",
       " 'panhandling': 24,\n",
       " 'carjacking': 23,\n",
       " 'animal': 19,\n",
       " 'foot': 19,\n",
       " 'open': 17,\n",
       " 'juvenile': 16,\n",
       " 'illegal': 15,\n",
       " 'pedestrian': 14,\n",
       " 'bias': 14,\n",
       " 'bomb': 13,\n",
       " 'peace': 13,\n",
       " 'found': 11,\n",
       " 'parking': 10,\n",
       " 'help': 9,\n",
       " 'fireworks': 9,\n",
       " 'traf': 7,\n",
       " 'missing': 5,\n",
       " 'doa': 5,\n",
       " 'parks': 5,\n",
       " 'directed': 4,\n",
       " 'injured': 4,\n",
       " 'explosion': 3,\n",
       " 'tru': 3,\n",
       " 'awol': 2,\n",
       " 'sick': 2,\n",
       " 'off': 2,\n",
       " 'gambling': 2,\n",
       " 'sleeper': 2,\n",
       " 'littering': 2,\n",
       " 'request': 1,\n",
       " 'demonstrations': 1,\n",
       " 'phone': 1,\n",
       " 'escape': 1,\n",
       " 'known': 1}"
      ]
     },
     "execution_count": 67,
     "metadata": {},
     "output_type": "execute_result"
    }
   ],
   "source": [
    "initial_map"
   ]
  },
  {
   "cell_type": "code",
   "execution_count": 68,
   "metadata": {},
   "outputs": [
    {
     "data": {
      "text/plain": [
       "({'assaults',\n",
       "  'automobiles',\n",
       "  'burglary',\n",
       "  'casualty',\n",
       "  'commercial',\n",
       "  'crisis',\n",
       "  'crowd',\n",
       "  'drive',\n",
       "  'dv',\n",
       "  'harbor',\n",
       "  'hazards',\n",
       "  'homicide',\n",
       "  'hospital',\n",
       "  'intox',\n",
       "  'kidnap',\n",
       "  'misc',\n",
       "  'mischief',\n",
       "  'weapon'},\n",
       " {'awol',\n",
       "  'bias',\n",
       "  'carjacking',\n",
       "  'demonstrations',\n",
       "  'directed',\n",
       "  'doa',\n",
       "  'explosion',\n",
       "  'foot',\n",
       "  'found',\n",
       "  'gambling',\n",
       "  'help',\n",
       "  'illegal',\n",
       "  'injured',\n",
       "  'juvenile',\n",
       "  'known',\n",
       "  'littering',\n",
       "  'missing',\n",
       "  'off',\n",
       "  'open',\n",
       "  'overdose',\n",
       "  'panhandling',\n",
       "  'parking',\n",
       "  'parks',\n",
       "  'peace',\n",
       "  'pedestrian',\n",
       "  'phone',\n",
       "  'request',\n",
       "  'sfd',\n",
       "  'sick',\n",
       "  'sleeper',\n",
       "  'suicide',\n",
       "  'traf',\n",
       "  'tru'})"
      ]
     },
     "execution_count": 68,
     "metadata": {},
     "output_type": "execute_result"
    }
   ],
   "source": [
    "# Check to see if keys of the two dictionaries are the same\n",
    "diff = set(final_map) - set(initial_map)  # the keys in final_map and not in initial_map\n",
    "diff2 = set(initial_map) - set(final_map) # the keys that are in initial_map, and not in final_map\n",
    "\n",
    "diff, diff2\n",
    "# Expand the existing call map to include additional keys"
   ]
  },
  {
   "cell_type": "code",
   "execution_count": 69,
   "metadata": {},
   "outputs": [],
   "source": [
    "#  This call dictionary was built on the final calls,  not the initial calls text.  So add the initial calls and input values\n",
    "\n",
    "call_dictionary = {'unknown': 'unknown',\n",
    "             'suspicious': 'suspicious',\n",
    "             'assaults': 'assault',\n",
    "             'disturbance': 'disturbance',\n",
    "             'prowler': 'trespass',\n",
    "             'dv': 'domestic violence',\n",
    "             'warrant': 'warrant',\n",
    "             'theft': 'theft',\n",
    "             'narcotics': 'under influence',\n",
    "             'robbery': 'theft',\n",
    "             'burglary': 'theft',\n",
    "             'traffic': 'traffic',\n",
    "             'property': 'property damage',\n",
    "             'weapon': 'weapon',\n",
    "             'crisis': 'person in crisis',\n",
    "             'automobiles': 'auto',\n",
    "             'assist': 'assist others',\n",
    "             'sex': 'vice',\n",
    "             'mischief': 'mischief',\n",
    "             'arson': 'arson',\n",
    "             'fraud': 'fraud',\n",
    "             'vice': 'vice',\n",
    "             'drive': 'auto',\n",
    "             'misc': 'misdemeanor',\n",
    "             'premise': 'trespass',\n",
    "             'alarm': 'suspicious',\n",
    "             'intox': 'under influence',\n",
    "             'rape': 'rape',\n",
    "             'child': 'child',\n",
    "             'trespass': 'trespass',\n",
    "             'person': 'person in crisis',\n",
    "             'homicide': 'homicide',\n",
    "             'burg': 'theft',\n",
    "             'kidnap': 'kidnap',\n",
    "             'animal': 'animal',\n",
    "             'hazards': 'hazard',\n",
    "             'aslt': 'assault',\n",
    "             'casualty': 'homicide',\n",
    "             'fight': 'disturbance',\n",
    "             'shoplift': 'theft',\n",
    "             'auto': 'auto', \n",
    "             'haras': 'disturbance',\n",
    "             'purse': 'theft',\n",
    "             'weapn': 'weapon',\n",
    "             'fireworks': 'arson',\n",
    "             'follow': 'disturbance',\n",
    "             'dist': 'disturbance',\n",
    "             'haz': 'hazard',\n",
    "             'nuisance': 'mischief',\n",
    "             'threats': 'disturbance',\n",
    "             'liquor': 'under influence',\n",
    "             'mvc': 'auto',\n",
    "             'shots': 'weapon',\n",
    "             'harbor': 'auto',\n",
    "             'down': 'homicide',\n",
    "             'service': 'unknown',\n",
    "             'hospital': 'unknown',\n",
    "             'bomb': 'arson',\n",
    "             'undercover': 'under influence',\n",
    "             'burn': 'arson',\n",
    "             'lewd': 'vice',\n",
    "             'dui': 'under influence',\n",
    "             'crowd': 'unknown',\n",
    "             'order': 'assist',\n",
    "             'escape': 'assist',\n",
    "             'commercial': 'trespass',\n",
    "             'noise': 'disturbance',\n",
    "             'narcotics': 'under influence',\n",
    "             'awol': 'kidnap',\n",
    "              'bias': 'unknown',\n",
    "              'carjacking': 'kidnap',\n",
    "              'demonstrations':'disturbance',\n",
    "              'directed':'unknown',\n",
    "              'doa':'assist',\n",
    "              'explosion':'arson',\n",
    "              'foot': 'trespass',\n",
    "              'found':'unknown',\n",
    "              'gambling': 'vice',\n",
    "              'help':'assist',\n",
    "              'illegal':'assist',\n",
    "              'injured':'assist',\n",
    "              'juvenile':'child',\n",
    "              'littering': 'nuisance',\n",
    "              'missing': 'kidnap',\n",
    "              'off':'suspicious',\n",
    "              'open':'unknown',\n",
    "              'overdose':'under influence',\n",
    "              'panhandling':'disturbance',\n",
    "              'parking':'disturbance',\n",
    "              'parks':'disturbance',\n",
    "              'peace':'disturbance',\n",
    "              'pedestrian':'disturbance',\n",
    "              'phone':'disturbance',\n",
    "              'request':'assist',\n",
    "              'sfd':'assist',\n",
    "              'sick':'assist',\n",
    "              'sleeper':'disturbance',\n",
    "              'suicide':'assist'}"
   ]
  },
  {
   "cell_type": "code",
   "execution_count": 70,
   "metadata": {},
   "outputs": [
    {
     "data": {
      "text/plain": [
       "unknown              12730\n",
       "theft                 4212\n",
       "suspicious            3835\n",
       "assault               3064\n",
       "trespass              2876\n",
       "disturbance           2861\n",
       "domestic violence     2641\n",
       "warrant               2530\n",
       "under influence       1202\n",
       "traffic                886\n",
       "property damage        808\n",
       "weapon                 786\n",
       "person in crisis       785\n",
       "auto                   682\n",
       "vice                   274\n",
       "assist others          189\n",
       "mischief               158\n",
       "arson                  134\n",
       "fraud                  119\n",
       "misdemeanor             65\n",
       "homicide                52\n",
       "rape                    47\n",
       "child                   43\n",
       "hazard                  22\n",
       "kidnap                  21\n",
       "animal                  20\n",
       "NaN                     20\n",
       "assist                   2\n",
       "Name: Final Call Re-map, dtype: int64"
      ]
     },
     "execution_count": 70,
     "metadata": {},
     "output_type": "execute_result"
    }
   ],
   "source": [
    "df['Final Call Re-map'] = df['Final Call Re-map'].map(call_dictionary)\n",
    "df['Final Call Re-map'].value_counts(dropna=False)"
   ]
  },
  {
   "cell_type": "code",
   "execution_count": 71,
   "metadata": {},
   "outputs": [
    {
     "data": {
      "text/plain": [
       "unknown             13208\n",
       "disturbance          5615\n",
       "suspicious           5185\n",
       "theft                4717\n",
       "assault              3195\n",
       "trespass             1982\n",
       "weapon               1408\n",
       "auto                  929\n",
       "under influence       927\n",
       "warrant               642\n",
       "traffic               574\n",
       "property damage       565\n",
       "assist                408\n",
       "mischief              312\n",
       "homicide              257\n",
       "vice                  247\n",
       "arson                 175\n",
       "person in crisis      157\n",
       "assist others         139\n",
       "hazard                130\n",
       "fraud                 105\n",
       "child                  71\n",
       "rape                   48\n",
       "kidnap                 30\n",
       "animal                 19\n",
       "NaN                    17\n",
       "nuisance                2\n",
       "Name: Initial Call Re-map, dtype: int64"
      ]
     },
     "execution_count": 71,
     "metadata": {},
     "output_type": "execute_result"
    }
   ],
   "source": [
    "df['Initial Call Re-map'] = df['Initial Call Re-map'].map(call_dictionary)\n",
    "df['Initial Call Re-map'].value_counts(dropna=False)"
   ]
  },
  {
   "cell_type": "code",
   "execution_count": 72,
   "metadata": {},
   "outputs": [
    {
     "data": {
      "text/plain": [
       "index                        0\n",
       "Subject Age Group            0\n",
       "Stop Resolution              0\n",
       "Weapon Type                  0\n",
       "Officer YOB                  0\n",
       "Officer Gender               0\n",
       "Officer Race                 0\n",
       "Subject Perceived Race       0\n",
       "Subject Perceived Gender     0\n",
       "Initial Call Type            0\n",
       "Final Call Type              0\n",
       "Reported Year                0\n",
       "Officer Age                  0\n",
       "Weekday                      0\n",
       "Time of Month                0\n",
       "Precinct                     0\n",
       "Watch                        0\n",
       "Precinct Success             0\n",
       "Final Call Re-map           20\n",
       "Initial Call Re-map         17\n",
       "dtype: int64"
      ]
     },
     "execution_count": 72,
     "metadata": {},
     "output_type": "execute_result"
    }
   ],
   "source": [
    "df.isna().sum()"
   ]
  },
  {
   "cell_type": "code",
   "execution_count": 73,
   "metadata": {},
   "outputs": [],
   "source": [
    "#Drop all NaNs\n",
    "df.dropna(inplace=True)\n",
    "df.reset_index(inplace=True)\n",
    "df.to_csv('terry_stops_cleanup4.csv')\n"
   ]
  },
  {
   "cell_type": "code",
   "execution_count": null,
   "metadata": {},
   "outputs": [],
   "source": []
  },
  {
   "cell_type": "code",
   "execution_count": 74,
   "metadata": {},
   "outputs": [
    {
     "data": {
      "text/html": [
       "<div>\n",
       "<style scoped>\n",
       "    .dataframe tbody tr th:only-of-type {\n",
       "        vertical-align: middle;\n",
       "    }\n",
       "\n",
       "    .dataframe tbody tr th {\n",
       "        vertical-align: top;\n",
       "    }\n",
       "\n",
       "    .dataframe thead th {\n",
       "        text-align: right;\n",
       "    }\n",
       "</style>\n",
       "<table border=\"1\" class=\"dataframe\">\n",
       "  <thead>\n",
       "    <tr style=\"text-align: right;\">\n",
       "      <th></th>\n",
       "      <th>level_0</th>\n",
       "      <th>index</th>\n",
       "      <th>Subject Age Group</th>\n",
       "      <th>Stop Resolution</th>\n",
       "      <th>Weapon Type</th>\n",
       "      <th>Officer YOB</th>\n",
       "      <th>Officer Gender</th>\n",
       "      <th>Officer Race</th>\n",
       "      <th>Subject Perceived Race</th>\n",
       "      <th>Subject Perceived Gender</th>\n",
       "      <th>Initial Call Type</th>\n",
       "      <th>Final Call Type</th>\n",
       "      <th>Reported Year</th>\n",
       "      <th>Officer Age</th>\n",
       "      <th>Weekday</th>\n",
       "      <th>Time of Month</th>\n",
       "      <th>Precinct</th>\n",
       "      <th>Watch</th>\n",
       "      <th>Precinct Success</th>\n",
       "      <th>Final Call Re-map</th>\n",
       "      <th>Initial Call Re-map</th>\n",
       "    </tr>\n",
       "  </thead>\n",
       "  <tbody>\n",
       "    <tr>\n",
       "      <th>0</th>\n",
       "      <td>0</td>\n",
       "      <td>0</td>\n",
       "      <td>0</td>\n",
       "      <td>1</td>\n",
       "      <td>None</td>\n",
       "      <td>1984</td>\n",
       "      <td>0</td>\n",
       "      <td>African American</td>\n",
       "      <td>Asian</td>\n",
       "      <td>0</td>\n",
       "      <td>Unknown</td>\n",
       "      <td>Unknown</td>\n",
       "      <td>2015</td>\n",
       "      <td>3</td>\n",
       "      <td>4</td>\n",
       "      <td>2</td>\n",
       "      <td>SOUTH</td>\n",
       "      <td>1</td>\n",
       "      <td>0.3</td>\n",
       "      <td>unknown</td>\n",
       "      <td>unknown</td>\n",
       "    </tr>\n",
       "    <tr>\n",
       "      <th>1</th>\n",
       "      <td>1</td>\n",
       "      <td>1</td>\n",
       "      <td>0</td>\n",
       "      <td>0</td>\n",
       "      <td>None</td>\n",
       "      <td>1963</td>\n",
       "      <td>0</td>\n",
       "      <td>White</td>\n",
       "      <td>Unknown</td>\n",
       "      <td>2</td>\n",
       "      <td>Unknown</td>\n",
       "      <td>Unknown</td>\n",
       "      <td>2015</td>\n",
       "      <td>5</td>\n",
       "      <td>2</td>\n",
       "      <td>1</td>\n",
       "      <td>Unknown</td>\n",
       "      <td>0</td>\n",
       "      <td>0.2</td>\n",
       "      <td>unknown</td>\n",
       "      <td>unknown</td>\n",
       "    </tr>\n",
       "    <tr>\n",
       "      <th>2</th>\n",
       "      <td>2</td>\n",
       "      <td>2</td>\n",
       "      <td>0</td>\n",
       "      <td>0</td>\n",
       "      <td>None</td>\n",
       "      <td>1985</td>\n",
       "      <td>0</td>\n",
       "      <td>Hispanic</td>\n",
       "      <td>Unknown</td>\n",
       "      <td>2</td>\n",
       "      <td>Unknown</td>\n",
       "      <td>Unknown</td>\n",
       "      <td>2015</td>\n",
       "      <td>3</td>\n",
       "      <td>0</td>\n",
       "      <td>3</td>\n",
       "      <td>WEST</td>\n",
       "      <td>3</td>\n",
       "      <td>0.3</td>\n",
       "      <td>unknown</td>\n",
       "      <td>unknown</td>\n",
       "    </tr>\n",
       "    <tr>\n",
       "      <th>3</th>\n",
       "      <td>3</td>\n",
       "      <td>3</td>\n",
       "      <td>0</td>\n",
       "      <td>0</td>\n",
       "      <td>None</td>\n",
       "      <td>1979</td>\n",
       "      <td>0</td>\n",
       "      <td>White</td>\n",
       "      <td>Unknown</td>\n",
       "      <td>2</td>\n",
       "      <td>Unknown</td>\n",
       "      <td>Unknown</td>\n",
       "      <td>2015</td>\n",
       "      <td>4</td>\n",
       "      <td>1</td>\n",
       "      <td>2</td>\n",
       "      <td>NORTH</td>\n",
       "      <td>2</td>\n",
       "      <td>0.2</td>\n",
       "      <td>unknown</td>\n",
       "      <td>unknown</td>\n",
       "    </tr>\n",
       "    <tr>\n",
       "      <th>4</th>\n",
       "      <td>4</td>\n",
       "      <td>4</td>\n",
       "      <td>0</td>\n",
       "      <td>0</td>\n",
       "      <td>None</td>\n",
       "      <td>1979</td>\n",
       "      <td>0</td>\n",
       "      <td>White</td>\n",
       "      <td>Unknown</td>\n",
       "      <td>2</td>\n",
       "      <td>Unknown</td>\n",
       "      <td>Unknown</td>\n",
       "      <td>2015</td>\n",
       "      <td>4</td>\n",
       "      <td>1</td>\n",
       "      <td>2</td>\n",
       "      <td>NORTH</td>\n",
       "      <td>2</td>\n",
       "      <td>0.2</td>\n",
       "      <td>unknown</td>\n",
       "      <td>unknown</td>\n",
       "    </tr>\n",
       "    <tr>\n",
       "      <th>...</th>\n",
       "      <td>...</td>\n",
       "      <td>...</td>\n",
       "      <td>...</td>\n",
       "      <td>...</td>\n",
       "      <td>...</td>\n",
       "      <td>...</td>\n",
       "      <td>...</td>\n",
       "      <td>...</td>\n",
       "      <td>...</td>\n",
       "      <td>...</td>\n",
       "      <td>...</td>\n",
       "      <td>...</td>\n",
       "      <td>...</td>\n",
       "      <td>...</td>\n",
       "      <td>...</td>\n",
       "      <td>...</td>\n",
       "      <td>...</td>\n",
       "      <td>...</td>\n",
       "      <td>...</td>\n",
       "      <td>...</td>\n",
       "      <td>...</td>\n",
       "    </tr>\n",
       "    <tr>\n",
       "      <th>95</th>\n",
       "      <td>95</td>\n",
       "      <td>95</td>\n",
       "      <td>0</td>\n",
       "      <td>0</td>\n",
       "      <td>None</td>\n",
       "      <td>1979</td>\n",
       "      <td>0</td>\n",
       "      <td>White</td>\n",
       "      <td>Unknown</td>\n",
       "      <td>2</td>\n",
       "      <td>Unknown</td>\n",
       "      <td>Unknown</td>\n",
       "      <td>2015</td>\n",
       "      <td>4</td>\n",
       "      <td>1</td>\n",
       "      <td>2</td>\n",
       "      <td>NORTH</td>\n",
       "      <td>2</td>\n",
       "      <td>0.2</td>\n",
       "      <td>unknown</td>\n",
       "      <td>unknown</td>\n",
       "    </tr>\n",
       "    <tr>\n",
       "      <th>96</th>\n",
       "      <td>96</td>\n",
       "      <td>96</td>\n",
       "      <td>0</td>\n",
       "      <td>0</td>\n",
       "      <td>None</td>\n",
       "      <td>1987</td>\n",
       "      <td>0</td>\n",
       "      <td>White</td>\n",
       "      <td>Unknown</td>\n",
       "      <td>2</td>\n",
       "      <td>Unknown</td>\n",
       "      <td>Unknown</td>\n",
       "      <td>2015</td>\n",
       "      <td>3</td>\n",
       "      <td>5</td>\n",
       "      <td>3</td>\n",
       "      <td>SOUTH</td>\n",
       "      <td>1</td>\n",
       "      <td>0.3</td>\n",
       "      <td>unknown</td>\n",
       "      <td>unknown</td>\n",
       "    </tr>\n",
       "    <tr>\n",
       "      <th>97</th>\n",
       "      <td>97</td>\n",
       "      <td>97</td>\n",
       "      <td>0</td>\n",
       "      <td>0</td>\n",
       "      <td>None</td>\n",
       "      <td>1966</td>\n",
       "      <td>0</td>\n",
       "      <td>Hispanic</td>\n",
       "      <td>African American</td>\n",
       "      <td>0</td>\n",
       "      <td>Unknown</td>\n",
       "      <td>Unknown</td>\n",
       "      <td>2015</td>\n",
       "      <td>5</td>\n",
       "      <td>4</td>\n",
       "      <td>1</td>\n",
       "      <td>SOUTH</td>\n",
       "      <td>1</td>\n",
       "      <td>0.3</td>\n",
       "      <td>unknown</td>\n",
       "      <td>unknown</td>\n",
       "    </tr>\n",
       "    <tr>\n",
       "      <th>98</th>\n",
       "      <td>98</td>\n",
       "      <td>98</td>\n",
       "      <td>0</td>\n",
       "      <td>0</td>\n",
       "      <td>None</td>\n",
       "      <td>1971</td>\n",
       "      <td>0</td>\n",
       "      <td>White</td>\n",
       "      <td>Unknown</td>\n",
       "      <td>2</td>\n",
       "      <td>Unknown</td>\n",
       "      <td>Unknown</td>\n",
       "      <td>2015</td>\n",
       "      <td>4</td>\n",
       "      <td>6</td>\n",
       "      <td>2</td>\n",
       "      <td>WEST</td>\n",
       "      <td>2</td>\n",
       "      <td>0.3</td>\n",
       "      <td>unknown</td>\n",
       "      <td>unknown</td>\n",
       "    </tr>\n",
       "    <tr>\n",
       "      <th>99</th>\n",
       "      <td>99</td>\n",
       "      <td>99</td>\n",
       "      <td>0</td>\n",
       "      <td>0</td>\n",
       "      <td>None</td>\n",
       "      <td>1985</td>\n",
       "      <td>0</td>\n",
       "      <td>White</td>\n",
       "      <td>Unknown</td>\n",
       "      <td>2</td>\n",
       "      <td>Unknown</td>\n",
       "      <td>Unknown</td>\n",
       "      <td>2015</td>\n",
       "      <td>3</td>\n",
       "      <td>2</td>\n",
       "      <td>3</td>\n",
       "      <td>NORTH</td>\n",
       "      <td>3</td>\n",
       "      <td>0.2</td>\n",
       "      <td>unknown</td>\n",
       "      <td>unknown</td>\n",
       "    </tr>\n",
       "  </tbody>\n",
       "</table>\n",
       "<p>100 rows × 21 columns</p>\n",
       "</div>"
      ],
      "text/plain": [
       "    level_0  index  ...  Final Call Re-map  Initial Call Re-map\n",
       "0         0      0  ...            unknown              unknown\n",
       "1         1      1  ...            unknown              unknown\n",
       "2         2      2  ...            unknown              unknown\n",
       "3         3      3  ...            unknown              unknown\n",
       "4         4      4  ...            unknown              unknown\n",
       "..      ...    ...  ...                ...                  ...\n",
       "95       95     95  ...            unknown              unknown\n",
       "96       96     96  ...            unknown              unknown\n",
       "97       97     97  ...            unknown              unknown\n",
       "98       98     98  ...            unknown              unknown\n",
       "99       99     99  ...            unknown              unknown\n",
       "\n",
       "[100 rows x 21 columns]"
      ]
     },
     "execution_count": 74,
     "metadata": {},
     "output_type": "execute_result"
    }
   ],
   "source": [
    "df.head(100)"
   ]
  },
  {
   "cell_type": "code",
   "execution_count": 75,
   "metadata": {},
   "outputs": [],
   "source": [
    "df.drop(columns = ['Initial Call Type', 'Final Call Type', 'Precinct Success', 'Officer YOB',\n",
    "                  'Reported Year', 'level_0', 'index'], inplace=True)"
   ]
  },
  {
   "cell_type": "code",
   "execution_count": 76,
   "metadata": {},
   "outputs": [
    {
     "name": "stdout",
     "output_type": "stream",
     "text": [
      "<class 'pandas.core.frame.DataFrame'>\n",
      "RangeIndex: 41028 entries, 0 to 41027\n",
      "Data columns (total 14 columns):\n",
      " #   Column                    Dtype   \n",
      "---  ------                    -----   \n",
      " 0   Subject Age Group         int64   \n",
      " 1   Stop Resolution           int64   \n",
      " 2   Weapon Type               object  \n",
      " 3   Officer Gender            int64   \n",
      " 4   Officer Race              object  \n",
      " 5   Subject Perceived Race    object  \n",
      " 6   Subject Perceived Gender  int64   \n",
      " 7   Officer Age               category\n",
      " 8   Weekday                   int64   \n",
      " 9   Time of Month             int64   \n",
      " 10  Precinct                  object  \n",
      " 11  Watch                     object  \n",
      " 12  Final Call Re-map         object  \n",
      " 13  Initial Call Re-map       object  \n",
      "dtypes: category(1), int64(6), object(7)\n",
      "memory usage: 4.1+ MB\n"
     ]
    }
   ],
   "source": [
    "df.info()"
   ]
  },
  {
   "cell_type": "markdown",
   "metadata": {
    "heading_collapsed": true
   },
   "source": [
    "## 4. Optional Feature Engineering for Training data only"
   ]
  },
  {
   "cell_type": "markdown",
   "metadata": {
    "heading_collapsed": true,
    "hidden": true
   },
   "source": [
    "### The key concept is that in training we know that the some precincts are more successful than others at getting to an arrest.  Instead of imputed a 1-hot encoded value,  use the percentage of successful arrests as the values for the precinct.\n",
    "\n",
    "Calculate how successful particular precincts were at making arrests\n",
    "#arrest_percentage = arrest_df['Precinct'].value_counts() / df['Precinct'].value_counts()\n",
    "#print(f'The percentage of arrests based on terry stops, by squad \\n\\n',arrest_percentage)"
   ]
  },
  {
   "cell_type": "markdown",
   "metadata": {
    "heading_collapsed": true,
    "hidden": true
   },
   "source": [
    "### Create a dictionary for mapping the squads which have successful arrest.  Those officer squads which have <br><br>\n",
    "### reported Terry stops with no arrests will be dropped from the dataset\n",
    "#successful_arrest_map=arrest_percentage.to_dict()\n",
    "### successful_arrest_map # Take a look at the dictionary\n",
    "\n",
    "#df['Precinct Success']=df['Precinct'].map(successful_arrest_map) # map the dictionary to the dataframe with a new column3"
   ]
  },
  {
   "cell_type": "markdown",
   "metadata": {
    "heading_collapsed": true,
    "hidden": true
   },
   "source": [
    "### Perform the same analysis to see which call types lead to more arrests\n",
    "\n",
    "#arrest_df = df.loc[df['Stop Resolution'] == 'Arrest'] # Re-Create the arrest_df in case there were removals earlier\n",
    "#arrest_df['Final Call'].value_counts(),  df['Final Call'].value_counts()\n",
    "\n",
    "#arrest_categories = arrest_df['Final Call Type'].value_counts() / df['Final Call Type'].value_counts() \n",
    "#arrest_map = arrest_categories.to_dict()\n",
    "#arrest_map # look at the dictionary \n",
    "\n",
    "#df['Final Call Success'] = df['Final Call Type'].map(arrest_map)"
   ]
  },
  {
   "cell_type": "markdown",
   "metadata": {},
   "source": [
    "## 6. Experimental Plan\n",
    "\n",
    "    \n",
    "* **The Next Steps will be a set of experiments to look how the models can improve based on:**\n",
    "    - [1] Feature Selection:  Initial Call Type Versus Final Call Type \n",
    "    - [2] Model type:  XGBoost-RF  vs CatBoost\n",
    "    - [3] Balancing the dataset from best model of [1] and [2]\n",
    "    - [4] HyperParameter tuning for [3] <br><br>\n",
    "    \n",
    "* **The Next Experiment will be (bold type)**\n",
    "\n",
    "    - **A = XBG + Initial Call Type**\n",
    "    - B = XBG + Final Call Type\n",
    "    - C = Cat + Initial Call Type\n",
    "    - D = Cat + Final Call Type\n",
    "    - E = SMOTE + Best of (A,B,C,D))\n",
    "    - F = Gridsearch on E\n"
   ]
  },
  {
   "cell_type": "code",
   "execution_count": 134,
   "metadata": {},
   "outputs": [],
   "source": [
    "#results_df = pd.DataFrame(\n",
    "#                {'Expt Name': [\"Accuracy\", \"Precision Not Arrested\", 'Precision Arrested',\n",
    "#                             'Precision Weighted Avg', \"RecalL Not Arrested\", 'Recall Arrested',\n",
    "#                              'Recall Weighted Avg', 'F1 Not Arrested', 'F1 Arrested', 'F1 Weighted Avg',\n",
    "#                              'AUC'],})\n",
    "\n",
    "#results_df = pd.Dataframe(\n",
    "#                {'Expt Name': ['xgb-rf-initial call'], 'Accuracy':})\n"
   ]
  },
  {
   "cell_type": "code",
   "execution_count": 121,
   "metadata": {},
   "outputs": [],
   "source": [
    "df_to_split = df.drop(columns = 'Final Call Re-map')"
   ]
  },
  {
   "cell_type": "code",
   "execution_count": 126,
   "metadata": {},
   "outputs": [],
   "source": [
    "category_cols = df_to_split.columns\n",
    "\n",
    "target_col = ['Stop Resolution']"
   ]
  },
  {
   "cell_type": "code",
   "execution_count": 89,
   "metadata": {},
   "outputs": [
    {
     "name": "stdout",
     "output_type": "stream",
     "text": [
      "<class 'pandas.core.frame.DataFrame'>\n",
      "RangeIndex: 41028 entries, 0 to 41027\n",
      "Data columns (total 14 columns):\n",
      " #   Column                    Dtype   \n",
      "---  ------                    -----   \n",
      " 0   Subject Age Group         int64   \n",
      " 1   Stop Resolution           int64   \n",
      " 2   Weapon Type               object  \n",
      " 3   Officer Gender            int64   \n",
      " 4   Officer Race              object  \n",
      " 5   Subject Perceived Race    object  \n",
      " 6   Subject Perceived Gender  int64   \n",
      " 7   Officer Age               category\n",
      " 8   Weekday                   int64   \n",
      " 9   Time of Month             int64   \n",
      " 10  Precinct                  object  \n",
      " 11  Watch                     object  \n",
      " 12  Final Call Re-map         object  \n",
      " 13  Initial Call Re-map       object  \n",
      "dtypes: category(1), int64(6), object(7)\n",
      "memory usage: 4.1+ MB\n"
     ]
    }
   ],
   "source": [
    "df.info()"
   ]
  },
  {
   "cell_type": "code",
   "execution_count": null,
   "metadata": {},
   "outputs": [],
   "source": [
    "\n"
   ]
  },
  {
   "cell_type": "code",
   "execution_count": 90,
   "metadata": {},
   "outputs": [
    {
     "name": "stdout",
     "output_type": "stream",
     "text": [
      "<class 'pandas.core.frame.DataFrame'>\n",
      "RangeIndex: 41028 entries, 0 to 41027\n",
      "Data columns (total 13 columns):\n",
      " #   Column                    Dtype\n",
      "---  ------                    -----\n",
      " 0   Subject Age Group         int8 \n",
      " 1   Stop Resolution           int8 \n",
      " 2   Weapon Type               int8 \n",
      " 3   Officer Gender            int8 \n",
      " 4   Officer Race              int8 \n",
      " 5   Subject Perceived Race    int8 \n",
      " 6   Subject Perceived Gender  int8 \n",
      " 7   Officer Age               int8 \n",
      " 8   Weekday                   int8 \n",
      " 9   Time of Month             int8 \n",
      " 10  Precinct                  int8 \n",
      " 11  Watch                     int8 \n",
      " 12  Initial Call Re-map       int8 \n",
      "dtypes: int8(13)\n",
      "memory usage: 521.0 KB\n"
     ]
    }
   ],
   "source": [
    "df_to_split = pd.DataFrame()\n",
    "\n",
    "from sklearn.preprocessing import MinMaxScaler\n",
    "\n",
    "# Convert catogories to cat.codes\n",
    "\n",
    "for header in category_cols:\n",
    "    df_to_split[header] = df[header].astype('category').cat.codes\n",
    "    \n",
    "df_to_split.info()"
   ]
  },
  {
   "cell_type": "code",
   "execution_count": 91,
   "metadata": {},
   "outputs": [
    {
     "data": {
      "text/html": [
       "<div>\n",
       "<style scoped>\n",
       "    .dataframe tbody tr th:only-of-type {\n",
       "        vertical-align: middle;\n",
       "    }\n",
       "\n",
       "    .dataframe tbody tr th {\n",
       "        vertical-align: top;\n",
       "    }\n",
       "\n",
       "    .dataframe thead th {\n",
       "        text-align: right;\n",
       "    }\n",
       "</style>\n",
       "<table border=\"1\" class=\"dataframe\">\n",
       "  <thead>\n",
       "    <tr style=\"text-align: right;\">\n",
       "      <th></th>\n",
       "      <th>Subject Age Group</th>\n",
       "      <th>Stop Resolution</th>\n",
       "      <th>Weapon Type</th>\n",
       "      <th>Officer Gender</th>\n",
       "      <th>Officer Race</th>\n",
       "      <th>Subject Perceived Race</th>\n",
       "      <th>Subject Perceived Gender</th>\n",
       "      <th>Officer Age</th>\n",
       "      <th>Weekday</th>\n",
       "      <th>Time of Month</th>\n",
       "      <th>Precinct</th>\n",
       "      <th>Watch</th>\n",
       "      <th>Initial Call Re-map</th>\n",
       "    </tr>\n",
       "  </thead>\n",
       "  <tbody>\n",
       "    <tr>\n",
       "      <th>0</th>\n",
       "      <td>0</td>\n",
       "      <td>1</td>\n",
       "      <td>4</td>\n",
       "      <td>0</td>\n",
       "      <td>0</td>\n",
       "      <td>1</td>\n",
       "      <td>0</td>\n",
       "      <td>2</td>\n",
       "      <td>4</td>\n",
       "      <td>1</td>\n",
       "      <td>15</td>\n",
       "      <td>1</td>\n",
       "      <td>22</td>\n",
       "    </tr>\n",
       "    <tr>\n",
       "      <th>1</th>\n",
       "      <td>0</td>\n",
       "      <td>0</td>\n",
       "      <td>4</td>\n",
       "      <td>0</td>\n",
       "      <td>6</td>\n",
       "      <td>5</td>\n",
       "      <td>2</td>\n",
       "      <td>4</td>\n",
       "      <td>2</td>\n",
       "      <td>0</td>\n",
       "      <td>20</td>\n",
       "      <td>0</td>\n",
       "      <td>22</td>\n",
       "    </tr>\n",
       "    <tr>\n",
       "      <th>2</th>\n",
       "      <td>0</td>\n",
       "      <td>0</td>\n",
       "      <td>4</td>\n",
       "      <td>0</td>\n",
       "      <td>2</td>\n",
       "      <td>5</td>\n",
       "      <td>2</td>\n",
       "      <td>2</td>\n",
       "      <td>0</td>\n",
       "      <td>2</td>\n",
       "      <td>21</td>\n",
       "      <td>3</td>\n",
       "      <td>22</td>\n",
       "    </tr>\n",
       "    <tr>\n",
       "      <th>3</th>\n",
       "      <td>0</td>\n",
       "      <td>0</td>\n",
       "      <td>4</td>\n",
       "      <td>0</td>\n",
       "      <td>6</td>\n",
       "      <td>5</td>\n",
       "      <td>2</td>\n",
       "      <td>3</td>\n",
       "      <td>1</td>\n",
       "      <td>1</td>\n",
       "      <td>11</td>\n",
       "      <td>2</td>\n",
       "      <td>22</td>\n",
       "    </tr>\n",
       "    <tr>\n",
       "      <th>4</th>\n",
       "      <td>0</td>\n",
       "      <td>0</td>\n",
       "      <td>4</td>\n",
       "      <td>0</td>\n",
       "      <td>6</td>\n",
       "      <td>5</td>\n",
       "      <td>2</td>\n",
       "      <td>3</td>\n",
       "      <td>1</td>\n",
       "      <td>1</td>\n",
       "      <td>11</td>\n",
       "      <td>2</td>\n",
       "      <td>22</td>\n",
       "    </tr>\n",
       "  </tbody>\n",
       "</table>\n",
       "</div>"
      ],
      "text/plain": [
       "   Subject Age Group  Stop Resolution  ...  Watch  Initial Call Re-map\n",
       "0                  0                1  ...      1                   22\n",
       "1                  0                0  ...      0                   22\n",
       "2                  0                0  ...      3                   22\n",
       "3                  0                0  ...      2                   22\n",
       "4                  0                0  ...      2                   22\n",
       "\n",
       "[5 rows x 13 columns]"
      ]
     },
     "execution_count": 91,
     "metadata": {},
     "output_type": "execute_result"
    }
   ],
   "source": [
    "df_to_split.head()"
   ]
  },
  {
   "cell_type": "code",
   "execution_count": 92,
   "metadata": {},
   "outputs": [
    {
     "data": {
      "image/png": "[encoded data removed]",
      "text/plain": [
       "<Figure size 432x288 with 2 Axes>"
      ]
     },
     "metadata": {
      "needs_background": "light"
     },
     "output_type": "display_data"
    }
   ],
   "source": [
    "# Check the correlation matrix to see the autocorrelated variables and plot it out\n",
    "# Will run the correlation matrix for the last kernel run\n",
    "\n",
    "correlations = df_to_split.corr()\n",
    "# plot correlation matrix\n",
    "fig = plt.figure()\n",
    "ax = fig.add_subplot(111)\n",
    "cax = ax.matshow(correlations, vmin=-1, vmax=1)\n",
    "fig.colorbar(cax)\n",
    "ticks = np.arange(0,15,1)\n",
    "ax.set_xticks(ticks)\n",
    "ax.set_yticks(ticks)\n",
    "#ax.set_xticklabels(col_names)\n",
    "ax.set_yticklabels(category_cols)\n",
    "plt.show()"
   ]
  },
  {
   "cell_type": "code",
   "execution_count": 93,
   "metadata": {},
   "outputs": [],
   "source": [
    "def cramers_corrected_stat(df, column1, column2):\n",
    "    \"\"\" calculate Cramers V statistic for categorial-categorial association.\n",
    "        uses correction from Bergsma and Wicher, \n",
    "        Journal of the Korean Statistical Society 42 (2013): 323-328\n",
    "        Reference: https://stackoverflow.com/questions/20892799/using-pandas-calculate-cram%C3%A9rs-coefficient-matrix\n",
    "        \n",
    "        Inputs: confusion_matrix\n",
    "        Outputs\n",
    "    \"\"\"\n",
    "    confusion_matrix = pd.crosstab(df[column1], df[column2])\n",
    "    print(confusion_matrix)\n",
    "    #chi2 = ss.chi2_contingency(confusion_matrix)[0]\n",
    "    #n = confusion_matrix.sum()\n",
    "    #phi2 = chi2/n\n",
    "    #r,k = confusion_matrix.shape\n",
    "    #phi2corr = max(0, phi2 - ((k-1)*(r-1))/(n-1))    \n",
    "    #rcorr = r - ((r-1)**2)/(n-1)\n",
    "    #kcorr = k - ((k-1)**2)/(n-1)\n",
    "    return #np.sqrt(phi2corr / min( (kcorr-1), (rcorr-1)))"
   ]
  },
  {
   "cell_type": "code",
   "execution_count": 94,
   "metadata": {},
   "outputs": [],
   "source": [
    "y = df_to_split['Stop Resolution']\n",
    "X = df_to_split.drop('Stop Resolution',axis=1)"
   ]
  },
  {
   "cell_type": "code",
   "execution_count": 95,
   "metadata": {},
   "outputs": [
    {
     "data": {
      "text/plain": [
       "0    21343\n",
       "1     7376\n",
       "Name: Stop Resolution, dtype: int64"
      ]
     },
     "metadata": {},
     "output_type": "display_data"
    },
    {
     "data": {
      "text/plain": [
       "0    9012\n",
       "1    3297\n",
       "Name: Stop Resolution, dtype: int64"
      ]
     },
     "metadata": {},
     "output_type": "display_data"
    }
   ],
   "source": [
    "from sklearn.model_selection import train_test_split\n",
    "\n",
    "## Train test split\n",
    "X_train, X_test, y_train,y_test  = train_test_split(X,y,test_size=.3,\n",
    "                                                    random_state=42,)#,stratify=y)\n",
    "display(y_train.value_counts(normalize=False),y_test.value_counts(normalize=False))"
   ]
  },
  {
   "cell_type": "code",
   "execution_count": 96,
   "metadata": {},
   "outputs": [],
   "source": [
    "#!pip3 install xgboost\n",
    "import xgboost as xbg\n",
    "from xgboost import XGBRFClassifier,XGBClassifier"
   ]
  },
  {
   "cell_type": "code",
   "execution_count": 97,
   "metadata": {},
   "outputs": [],
   "source": [
    "from sklearn.metrics import accuracy_score\n",
    "from sklearn.metrics import confusion_matrix\n",
    "from sklearn.metrics import classification_report\n",
    "from sklearn.metrics import roc_auc_score, roc_curve\n"
   ]
  },
  {
   "cell_type": "code",
   "execution_count": 100,
   "metadata": {},
   "outputs": [
    {
     "name": "stdout",
     "output_type": "stream",
     "text": [
      "Training score:  0.76\n",
      "Test score:  0.74\n"
     ]
    }
   ],
   "source": [
    "xgb_rf = XGBRFClassifier()\n",
    "xgb_rf.fit(X_train, y_train)\n",
    "print('Training score: ' ,round(xgb_rf.score(X_train,y_train),2))\n",
    "print('Test score: ',round(xgb_rf.score(X_test,y_test),2))\n",
    "\n",
    "y_hat_test = xgb_rf.predict(X_test)"
   ]
  },
  {
   "cell_type": "code",
   "execution_count": 131,
   "metadata": {},
   "outputs": [
    {
     "name": "stdout",
     "output_type": "stream",
     "text": [
      "Accuracy Score : 0.7405150702737834\n",
      "              precision    recall  f1-score   support\n",
      "\n",
      "Not Arrested       0.75      0.97      0.85      9012\n",
      "    Arrested       0.58      0.11      0.19      3297\n",
      "\n",
      "    accuracy                           0.74     12309\n",
      "   macro avg       0.66      0.54      0.52     12309\n",
      "weighted avg       0.70      0.74      0.67     12309\n",
      "\n"
     ]
    },
    {
     "data": {
      "image/png": "[encoded data removed]",
      "text/plain": [
       "<Figure size 720x288 with 3 Axes>"
      ]
     },
     "metadata": {
      "needs_background": "light"
     },
     "output_type": "display_data"
    },
    {
     "data": {
      "image/png": "[encoded data removed]",
      "text/plain": [
       "<Figure size 720x720 with 1 Axes>"
      ]
     },
     "metadata": {
      "needs_background": "light"
     },
     "output_type": "display_data"
    }
   ],
   "source": [
    "check = evaluate_model(y_test,y_hat_test, X_test, xgb_rf)"
   ]
  },
  {
   "cell_type": "code",
   "execution_count": 133,
   "metadata": {},
   "outputs": [
    {
     "data": {
      "text/plain": [
       "Subject Age Group        0.0\n",
       "Weapon Type              0.2\n",
       "Officer Gender           0.0\n",
       "Officer Race             0.0\n",
       "Subject Perceived Race   0.0\n",
       "dtype: float32"
      ]
     },
     "execution_count": 133,
     "metadata": {},
     "output_type": "execute_result"
    }
   ],
   "source": [
    "check.head()"
   ]
  },
  {
   "cell_type": "markdown",
   "metadata": {
    "code_folding": [
     0
    ]
   },
   "source": [
    "## 7 Initial Results and Next Steps\n",
    "\n",
    "* Results: \n",
    "    - [x] \"Initial Call Type\" is the most important feature, with \"Weapon\" and \"Officer Age\" as the 2nd and 3rd most important features, respectively. <br>\n",
    "    - [x] Training accuracy of 0.76, and testing accuracy of 0.74 <br>\n",
    "    - [x] However, the Confusion Matrix shows the main reason is that the \"Non-arrests\" are better classified than the arrests.  For arrests, the true negatives were well predicted (97%), and the true positives were poorly predicted (11%), while false positives were 89%.\n",
    "    - [x] This seems to make sense given the class imbalance (only 25% of the data were arrests) <br>\n",
    "    - [x] The AOC was well above random chance <br> <br>\n",
    "\n",
    "* **The Next Steps will be a set of experiments to look how the models can improve based on:**\n",
    "    - [1] Feature Selection:  Initial Call Type Versus Final Call Type \n",
    "    - [2] Model type:  XGBoost-RF  vs CatBoost\n",
    "    - [3] Balancing the dataset from best model of [1] and [2]\n",
    "    - [4] HyperParameter tuning for [3] <br><br>\n",
    "    \n",
    "* **The Next Experiment will be (bold type):**\n",
    "\n",
    "    - A = XBG + Initial Call Type\n",
    "    - **B = XBG + Final Call Type**\n",
    "    - C = Cat + Initial Call Type\n",
    "    - D = Cat + Final Call Type\n",
    "    - E = SMOTE + Best of (A,B,C,D))\n",
    "    - F = Gridsearch on E\n"
   ]
  },
  {
   "cell_type": "code",
   "execution_count": 136,
   "metadata": {},
   "outputs": [
    {
     "data": {
      "text/html": [
       "<div>\n",
       "<style scoped>\n",
       "    .dataframe tbody tr th:only-of-type {\n",
       "        vertical-align: middle;\n",
       "    }\n",
       "\n",
       "    .dataframe tbody tr th {\n",
       "        vertical-align: top;\n",
       "    }\n",
       "\n",
       "    .dataframe thead th {\n",
       "        text-align: right;\n",
       "    }\n",
       "</style>\n",
       "<table border=\"1\" class=\"dataframe\">\n",
       "  <thead>\n",
       "    <tr style=\"text-align: right;\">\n",
       "      <th></th>\n",
       "      <th>Subject Age Group</th>\n",
       "      <th>Stop Resolution</th>\n",
       "      <th>Weapon Type</th>\n",
       "      <th>Officer Gender</th>\n",
       "      <th>Officer Race</th>\n",
       "      <th>Subject Perceived Race</th>\n",
       "      <th>Subject Perceived Gender</th>\n",
       "      <th>Officer Age</th>\n",
       "      <th>Weekday</th>\n",
       "      <th>Time of Month</th>\n",
       "      <th>Precinct</th>\n",
       "      <th>Watch</th>\n",
       "      <th>Final Call Re-map</th>\n",
       "    </tr>\n",
       "  </thead>\n",
       "  <tbody>\n",
       "    <tr>\n",
       "      <th>0</th>\n",
       "      <td>0</td>\n",
       "      <td>1</td>\n",
       "      <td>4</td>\n",
       "      <td>0</td>\n",
       "      <td>0</td>\n",
       "      <td>1</td>\n",
       "      <td>0</td>\n",
       "      <td>2</td>\n",
       "      <td>4</td>\n",
       "      <td>1</td>\n",
       "      <td>15</td>\n",
       "      <td>1</td>\n",
       "      <td>23</td>\n",
       "    </tr>\n",
       "    <tr>\n",
       "      <th>1</th>\n",
       "      <td>0</td>\n",
       "      <td>0</td>\n",
       "      <td>4</td>\n",
       "      <td>0</td>\n",
       "      <td>6</td>\n",
       "      <td>5</td>\n",
       "      <td>2</td>\n",
       "      <td>4</td>\n",
       "      <td>2</td>\n",
       "      <td>0</td>\n",
       "      <td>20</td>\n",
       "      <td>0</td>\n",
       "      <td>23</td>\n",
       "    </tr>\n",
       "    <tr>\n",
       "      <th>2</th>\n",
       "      <td>0</td>\n",
       "      <td>0</td>\n",
       "      <td>4</td>\n",
       "      <td>0</td>\n",
       "      <td>2</td>\n",
       "      <td>5</td>\n",
       "      <td>2</td>\n",
       "      <td>2</td>\n",
       "      <td>0</td>\n",
       "      <td>2</td>\n",
       "      <td>21</td>\n",
       "      <td>3</td>\n",
       "      <td>23</td>\n",
       "    </tr>\n",
       "    <tr>\n",
       "      <th>3</th>\n",
       "      <td>0</td>\n",
       "      <td>0</td>\n",
       "      <td>4</td>\n",
       "      <td>0</td>\n",
       "      <td>6</td>\n",
       "      <td>5</td>\n",
       "      <td>2</td>\n",
       "      <td>3</td>\n",
       "      <td>1</td>\n",
       "      <td>1</td>\n",
       "      <td>11</td>\n",
       "      <td>2</td>\n",
       "      <td>23</td>\n",
       "    </tr>\n",
       "    <tr>\n",
       "      <th>4</th>\n",
       "      <td>0</td>\n",
       "      <td>0</td>\n",
       "      <td>4</td>\n",
       "      <td>0</td>\n",
       "      <td>6</td>\n",
       "      <td>5</td>\n",
       "      <td>2</td>\n",
       "      <td>3</td>\n",
       "      <td>1</td>\n",
       "      <td>1</td>\n",
       "      <td>11</td>\n",
       "      <td>2</td>\n",
       "      <td>23</td>\n",
       "    </tr>\n",
       "  </tbody>\n",
       "</table>\n",
       "</div>"
      ],
      "text/plain": [
       "   Subject Age Group  Stop Resolution  ...  Watch  Final Call Re-map\n",
       "0                  0                1  ...      1                 23\n",
       "1                  0                0  ...      0                 23\n",
       "2                  0                0  ...      3                 23\n",
       "3                  0                0  ...      2                 23\n",
       "4                  0                0  ...      2                 23\n",
       "\n",
       "[5 rows x 13 columns]"
      ]
     },
     "execution_count": 136,
     "metadata": {},
     "output_type": "execute_result"
    }
   ],
   "source": [
    "# Change input to drop Initial Call Type and keep Final Call Type\n",
    "df_to_split = df.drop(columns = 'Initial Call Re-map')\n",
    "category_cols = df_to_split.columns\n",
    "target_col = ['Stop Resolution']\n",
    "df_to_split = pd.DataFrame()\n",
    "\n",
    "# Convert catogories to cat.codes\n",
    "\n",
    "for header in category_cols:\n",
    "    df_to_split[header] = df[header].astype('category').cat.codes\n",
    "    \n",
    "df_to_split.head()"
   ]
  },
  {
   "cell_type": "code",
   "execution_count": 137,
   "metadata": {},
   "outputs": [
    {
     "data": {
      "text/plain": [
       "0    21343\n",
       "1     7376\n",
       "Name: Stop Resolution, dtype: int64"
      ]
     },
     "metadata": {},
     "output_type": "display_data"
    },
    {
     "data": {
      "text/plain": [
       "0    9012\n",
       "1    3297\n",
       "Name: Stop Resolution, dtype: int64"
      ]
     },
     "metadata": {},
     "output_type": "display_data"
    },
    {
     "name": "stdout",
     "output_type": "stream",
     "text": [
      "Training score:  0.79\n",
      "Test score:  0.78\n",
      "Accuracy Score : 0.7805670647493704\n",
      "              precision    recall  f1-score   support\n",
      "\n",
      "Not Arrested       0.80      0.94      0.86      9012\n",
      "    Arrested       0.67      0.35      0.46      3297\n",
      "\n",
      "    accuracy                           0.78     12309\n",
      "   macro avg       0.74      0.65      0.66     12309\n",
      "weighted avg       0.76      0.78      0.76     12309\n",
      "\n"
     ]
    },
    {
     "data": {
      "image/png": "[encoded data removed]",
      "text/plain": [
       "<Figure size 720x288 with 3 Axes>"
      ]
     },
     "metadata": {
      "needs_background": "light"
     },
     "output_type": "display_data"
    },
    {
     "data": {
      "text/plain": [
       "Subject Age Group          0.0\n",
       "Weapon Type                0.1\n",
       "Officer Gender             0.0\n",
       "Officer Race               0.0\n",
       "Subject Perceived Race     0.0\n",
       "Subject Perceived Gender   0.0\n",
       "Officer Age                0.0\n",
       "Weekday                    0.0\n",
       "Time of Month              0.0\n",
       "Precinct                   0.0\n",
       "Watch                      0.0\n",
       "Final Call Re-map          0.8\n",
       "dtype: float32"
      ]
     },
     "execution_count": 137,
     "metadata": {},
     "output_type": "execute_result"
    },
    {
     "data": {
      "image/png": "[encoded data removed]",
      "text/plain": [
       "<Figure size 720x720 with 1 Axes>"
      ]
     },
     "metadata": {
      "needs_background": "light"
     },
     "output_type": "display_data"
    }
   ],
   "source": [
    "y = df_to_split['Stop Resolution']\n",
    "X = df_to_split.drop('Stop Resolution',axis=1)\n",
    "\n",
    "X_train, X_test, y_train,y_test  = train_test_split(X,y,test_size=.3,\n",
    "                                                    random_state=42,)#,stratify=y)\n",
    "display(y_train.value_counts(normalize=False),y_test.value_counts(normalize=False))\n",
    "\n",
    "xgb_rf = XGBRFClassifier()\n",
    "xgb_rf.fit(X_train, y_train)\n",
    "print('Training score: ' ,round(xgb_rf.score(X_train,y_train),2))\n",
    "print('Test score: ',round(xgb_rf.score(X_test,y_test),2))\n",
    "\n",
    "y_hat_test = xgb_rf.predict(X_test)\n",
    "\n",
    "evaluate_model(y_test,y_hat_test, X_test, xgb_rf)"
   ]
  },
  {
   "cell_type": "markdown",
   "metadata": {},
   "source": [
    "## 8. Try CatBoost with Final Call Type\n",
    "\n",
    "* **The Next Steps will be a set of experiments to look how the models can improve based on:**\n",
    "    - [1] Feature Selection:  Initial Call Type Versus Final Call Type \n",
    "    - [2] Model type:  XGBoost-RF  vs CatBoost\n",
    "    - [3] Balancing the dataset from best model of [1] and [2]\n",
    "    - [4] HyperParameter tuning for [3] <br><br>\n",
    "    \n",
    "* **The Next Experiment will be (Bold Type):**\n",
    "\n",
    "    - A = XBG + Initial Call Type\n",
    "    - B = XBG + Final Call Type\n",
    "    - C = Catboost + Initial Call Type\n",
    "    - **D = Catboost + Final Call Type**\n",
    "    - E = SMOTE + Best of (A,B,C,D))\n",
    "    - F = Gridsearch on E\n"
   ]
  },
  {
   "cell_type": "code",
   "execution_count": 140,
   "metadata": {},
   "outputs": [],
   "source": [
    "#!pip install -U catboost\n",
    "from catboost import CatBoostClassifier"
   ]
  },
  {
   "cell_type": "code",
   "execution_count": 141,
   "metadata": {},
   "outputs": [
    {
     "name": "stdout",
     "output_type": "stream",
     "text": [
      "Training score:  0.85\n",
      "Test score:  0.81\n",
      "Accuracy Score : 0.808107888536843\n",
      "              precision    recall  f1-score   support\n",
      "\n",
      "Not Arrested       0.85      0.89      0.87      9012\n",
      "    Arrested       0.66      0.57      0.62      3297\n",
      "\n",
      "    accuracy                           0.81     12309\n",
      "   macro avg       0.76      0.73      0.74     12309\n",
      "weighted avg       0.80      0.81      0.80     12309\n",
      "\n"
     ]
    },
    {
     "data": {
      "image/png": "[encoded data removed]",
      "text/plain": [
       "<Figure size 720x288 with 3 Axes>"
      ]
     },
     "metadata": {
      "needs_background": "light"
     },
     "output_type": "display_data"
    },
    {
     "data": {
      "text/plain": [
       "Subject Age Group           4.9\n",
       "Weapon Type                 4.4\n",
       "Officer Gender              1.4\n",
       "Officer Race                2.9\n",
       "Subject Perceived Race      4.0\n",
       "Subject Perceived Gender    1.5\n",
       "Officer Age                 3.7\n",
       "Weekday                     4.2\n",
       "Time of Month               2.1\n",
       "Precinct                    5.4\n",
       "Watch                       3.5\n",
       "Final Call Re-map          62.0\n",
       "dtype: float64"
      ]
     },
     "execution_count": 141,
     "metadata": {},
     "output_type": "execute_result"
    },
    {
     "data": {
      "image/png": "[encoded data removed]",
      "text/plain": [
       "<Figure size 720x720 with 1 Axes>"
      ]
     },
     "metadata": {
      "needs_background": "light"
     },
     "output_type": "display_data"
    }
   ],
   "source": [
    "clf = CatBoostClassifier()\n",
    "clf.fit(X_train,y_train,logging_level='Silent')\n",
    "print('Training score: ' ,round(clf.score(X_train,y_train),2))\n",
    "print('Test score: ',round(clf.score(X_test,y_test),2))\n",
    "\n",
    "y_hat_test = clf.predict(X_test)\n",
    "\n",
    "evaluate_model(y_test,y_hat_test,X_test,clf)"
   ]
  },
  {
   "cell_type": "markdown",
   "metadata": {},
   "source": [
    "## 9. Catboost with Initial Call Type\n",
    "\n",
    "* **The Next Steps will be a set of experiments to look how the models can improve based on:**\n",
    "    - [1] Feature Selection:  Initial Call Type Versus Final Call Type \n",
    "    - [2] Model type:  XGBoost-RF  vs CatBoost\n",
    "    - [3] Balancing the dataset from best model of [1] and [2]\n",
    "    - [4] HyperParameter tuning for [3] <br><br>\n",
    "    \n",
    "* **The Next Experiment will be (Bold Type):**\n",
    "\n",
    "    - A = XBG + Initial Call Type\n",
    "    - B = XBG + Final Call Type\n",
    "    - **C = Catboost + Initial Call Type**\n",
    "    - D = Catboost + Final Call Type\n",
    "    - E = SMOTE + Best of (A,B,C,D))\n",
    "    - F = Gridsearch on E\n"
   ]
  },
  {
   "cell_type": "code",
   "execution_count": 142,
   "metadata": {},
   "outputs": [],
   "source": [
    "df_to_split = df.drop(columns = 'Final Call Re-map')\n",
    "category_cols = df_to_split.columns\n",
    "target_col = ['Stop Resolution']\n",
    "df_to_split = pd.DataFrame()\n",
    "\n",
    "# Convert catogories to cat.codes\n",
    "\n",
    "for header in category_cols:\n",
    "    df_to_split[header] = df[header].astype('category').cat.codes\n",
    "    \n",
    "y = df_to_split['Stop Resolution']\n",
    "X = df_to_split.drop('Stop Resolution',axis=1)\n",
    "\n",
    "X_train, X_test, y_train,y_test  = train_test_split(X,y,test_size=.3,\n",
    "                                                    random_state=42,)#,stratify=y)"
   ]
  },
  {
   "cell_type": "code",
   "execution_count": 143,
   "metadata": {},
   "outputs": [
    {
     "name": "stdout",
     "output_type": "stream",
     "text": [
      "Training score:  0.8\n",
      "Test score:  0.75\n",
      "Accuracy Score : 0.7474205865626777\n",
      "              precision    recall  f1-score   support\n",
      "\n",
      "Not Arrested       0.77      0.94      0.84      9012\n",
      "    Arrested       0.57      0.22      0.32      3297\n",
      "\n",
      "    accuracy                           0.75     12309\n",
      "   macro avg       0.67      0.58      0.58     12309\n",
      "weighted avg       0.72      0.75      0.70     12309\n",
      "\n"
     ]
    },
    {
     "data": {
      "image/png": "[encoded data removed]",
      "text/plain": [
       "<Figure size 720x288 with 3 Axes>"
      ]
     },
     "metadata": {
      "needs_background": "light"
     },
     "output_type": "display_data"
    },
    {
     "data": {
      "text/plain": [
       "Subject Age Group           7.4\n",
       "Weapon Type                 8.1\n",
       "Officer Gender              1.9\n",
       "Officer Race                4.3\n",
       "Subject Perceived Race      6.4\n",
       "Subject Perceived Gender    2.0\n",
       "Officer Age                 6.1\n",
       "Weekday                     6.4\n",
       "Time of Month               3.2\n",
       "Precinct                    8.1\n",
       "Watch                       5.2\n",
       "Initial Call Re-map        40.9\n",
       "dtype: float64"
      ]
     },
     "execution_count": 143,
     "metadata": {},
     "output_type": "execute_result"
    },
    {
     "data": {
      "image/png": "[encoded data removed]",
      "text/plain": [
       "<Figure size 720x720 with 1 Axes>"
      ]
     },
     "metadata": {
      "needs_background": "light"
     },
     "output_type": "display_data"
    }
   ],
   "source": [
    "clf = CatBoostClassifier()\n",
    "clf.fit(X_train,y_train,logging_level='Silent')\n",
    "print('Training score: ' ,round(clf.score(X_train,y_train),2))\n",
    "print('Test score: ',round(clf.score(X_test,y_test),2))\n",
    "\n",
    "y_hat_test = clf.predict(X_test)\n",
    "\n",
    "evaluate_model(y_test,y_hat_test,X_test,clf)"
   ]
  },
  {
   "cell_type": "code",
   "execution_count": 178,
   "metadata": {},
   "outputs": [],
   "source": [
    "#fig, ax = plt.subplots(1, 1, figsize=(5, 3))\n",
    "\n",
    "#ax_arr = (ax1, ax2, ax3, ax4)\n",
    "#weights_arr = ((0.01, 0.01, 0.98), (0.01, 0.05, 0.94),\n",
    "#               (0.2, 0.1, 0.7), (0.33, 0.33, 0.33))\n",
    "#for ax, weights in zip(ax_arr, weights_arr):\n",
    "    #X, y = create_dataset(n_samples=1000, weights=weights)\n",
    "#    clf = CatBoostClassifier()\n",
    "#    clf.fit(X_train,y_train,logging_level='Silent')\n",
    "    #clf = LinearSVC().fit(X, y)\n",
    "#plot_decision_function(X_train, y_train, clf, ax)\n",
    "#ax.set_title('Catboost with Final Call Type')\n",
    "\n",
    "#fig.tight_layout()\n",
    "#y_train"
   ]
  },
  {
   "cell_type": "markdown",
   "metadata": {},
   "source": [
    "## 10. SMOTE + Catboost + Final Call\n",
    "\n",
    "* **The Next Steps will be a set of experiments to look how the models can improve based on:**\n",
    "    - [1] Feature Selection:  Initial Call Type Versus Final Call Type \n",
    "    - [2] Model type:  XGBoost-RF  vs CatBoost\n",
    "    - [3] Balancing the dataset from best model of [1] and [2]\n",
    "    - [4] HyperParameter tuning for [3] <br><br>\n",
    "    \n",
    "* **The Next Experiment will be (Bold Type):**\n",
    "\n",
    "    - A = XBG + Initial Call Type\n",
    "    - B = XBG + Final Call Type\n",
    "    - C = Catboost + Initial Call Type\n",
    "    - D = Catboost + Final Call Type\n",
    "    - **E = SMOTE + Best of (A,B,C,D))**\n",
    "    - F = Gridsearch on E\n"
   ]
  },
  {
   "cell_type": "code",
   "execution_count": 145,
   "metadata": {},
   "outputs": [
    {
     "name": "stdout",
     "output_type": "stream",
     "text": [
      "Collecting imbalanced-learn\n",
      "  Downloading https://files.pythonhosted.org/packages/c8/73/36a13185c2acff44d601dc6107b5347e075561a49e15ddd4e69988414c3e/imbalanced_learn-0.6.2-py3-none-any.whl (163kB)\n",
      "Requirement already satisfied, skipping upgrade: scipy>=0.17 in c:\\users\\zachmih\\anaconda3\\lib\\site-packages (from imbalanced-learn) (1.1.0)\n",
      "Requirement already satisfied, skipping upgrade: joblib>=0.11 in c:\\users\\zachmih\\anaconda3\\lib\\site-packages (from imbalanced-learn) (0.14.1)\n",
      "Requirement already satisfied, skipping upgrade: scikit-learn>=0.22 in c:\\users\\zachmih\\anaconda3\\lib\\site-packages (from imbalanced-learn) (0.22.2.post1)\n",
      "Requirement already satisfied, skipping upgrade: numpy>=1.11 in c:\\users\\zachmih\\anaconda3\\lib\\site-packages (from imbalanced-learn) (1.18.3)\n",
      "Installing collected packages: imbalanced-learn\n",
      "Successfully installed imbalanced-learn-0.6.2\n"
     ]
    },
    {
     "name": "stderr",
     "output_type": "stream",
     "text": [
      "You are using pip version 19.0.3, however version 20.1 is available.\n",
      "You should consider upgrading via the 'python -m pip install --upgrade pip' command.\n"
     ]
    }
   ],
   "source": [
    "#!pip install -U imbalanced-learn\n"
   ]
  },
  {
   "cell_type": "code",
   "execution_count": 150,
   "metadata": {},
   "outputs": [],
   "source": [
    "from imblearn.over_sampling import SMOTE\n",
    "smote = SMOTE()\n",
    "\n",
    "df_to_split = df.drop(columns = 'Initial Call Re-map')\n",
    "category_cols = df_to_split.columns\n",
    "target_col = ['Stop Resolution']\n",
    "df_to_split = pd.DataFrame()\n",
    "\n",
    "# Convert catogories to cat.codes\n",
    "\n",
    "for header in category_cols:\n",
    "    df_to_split[header] = df[header].astype('category').cat.codes\n",
    "    \n",
    "y = df_to_split['Stop Resolution']\n",
    "X = df_to_split.drop('Stop Resolution',axis=1)\n",
    "\n",
    "X_train, X_test, y_train,y_test  = train_test_split(X,y,test_size=.3,\n",
    "                                                    random_state=42,stratify=y)"
   ]
  },
  {
   "cell_type": "code",
   "execution_count": 151,
   "metadata": {},
   "outputs": [
    {
     "data": {
      "text/plain": [
       "1    21248\n",
       "0    21248\n",
       "Name: Stop Resolution, dtype: int64"
      ]
     },
     "metadata": {},
     "output_type": "display_data"
    },
    {
     "data": {
      "text/plain": [
       "0    9107\n",
       "1    3202\n",
       "Name: Stop Resolution, dtype: int64"
      ]
     },
     "metadata": {},
     "output_type": "display_data"
    }
   ],
   "source": [
    "X_train, y_train = smote.fit_sample(X_train, y_train)\n",
    "display(y_train.value_counts(normalize=False),y_test.value_counts(normalize=False))"
   ]
  },
  {
   "cell_type": "code",
   "execution_count": 152,
   "metadata": {},
   "outputs": [
    {
     "name": "stdout",
     "output_type": "stream",
     "text": [
      "Training score:  0.85\n",
      "Test score:  0.79\n",
      "Accuracy Score : 0.7852790640994395\n",
      "              precision    recall  f1-score   support\n",
      "\n",
      "Not Arrested       0.90      0.80      0.85      9107\n",
      "    Arrested       0.57      0.74      0.64      3202\n",
      "\n",
      "    accuracy                           0.79     12309\n",
      "   macro avg       0.73      0.77      0.74     12309\n",
      "weighted avg       0.81      0.79      0.79     12309\n",
      "\n"
     ]
    },
    {
     "data": {
      "image/png": "[encoded data removed]",
      "text/plain": [
       "<Figure size 720x288 with 3 Axes>"
      ]
     },
     "metadata": {
      "needs_background": "light"
     },
     "output_type": "display_data"
    },
    {
     "data": {
      "text/plain": [
       "Subject Age Group           4.8\n",
       "Weapon Type                 7.8\n",
       "Officer Gender              1.6\n",
       "Officer Race                3.3\n",
       "Subject Perceived Race      3.8\n",
       "Subject Perceived Gender    2.2\n",
       "Officer Age                 5.0\n",
       "Weekday                     4.7\n",
       "Time of Month               2.8\n",
       "Precinct                    6.5\n",
       "Watch                       3.9\n",
       "Final Call Re-map          53.7\n",
       "dtype: float64"
      ]
     },
     "execution_count": 152,
     "metadata": {},
     "output_type": "execute_result"
    },
    {
     "data": {
      "image/png": "[encoded data removed]",
      "text/plain": [
       "<Figure size 720x720 with 1 Axes>"
      ]
     },
     "metadata": {
      "needs_background": "light"
     },
     "output_type": "display_data"
    }
   ],
   "source": [
    "clf = CatBoostClassifier()\n",
    "clf.fit(X_train,y_train,logging_level='Silent')\n",
    "print('Training score: ' ,round(clf.score(X_train,y_train),2))\n",
    "print('Test score: ',round(clf.score(X_test,y_test),2))\n",
    "\n",
    "y_hat_test = clf.predict(X_test)\n",
    "\n",
    "evaluate_model(y_test,y_hat_test,X_test,clf)"
   ]
  },
  {
   "cell_type": "code",
   "execution_count": 153,
   "metadata": {},
   "outputs": [
    {
     "name": "stdout",
     "output_type": "stream",
     "text": [
      "Training score:  0.79\n",
      "Test score:  0.74\n",
      "Accuracy Score : 0.7449021041514339\n",
      "              precision    recall  f1-score   support\n",
      "\n",
      "Not Arrested       0.92      0.72      0.81      9107\n",
      "    Arrested       0.51      0.81      0.62      3202\n",
      "\n",
      "    accuracy                           0.74     12309\n",
      "   macro avg       0.71      0.77      0.72     12309\n",
      "weighted avg       0.81      0.74      0.76     12309\n",
      "\n"
     ]
    },
    {
     "data": {
      "image/png": "[encoded data removed]",
      "text/plain": [
       "<Figure size 720x288 with 3 Axes>"
      ]
     },
     "metadata": {
      "needs_background": "light"
     },
     "output_type": "display_data"
    },
    {
     "data": {
      "text/plain": [
       "Subject Age Group          0.0\n",
       "Weapon Type                0.1\n",
       "Officer Gender             0.0\n",
       "Officer Race               0.0\n",
       "Subject Perceived Race     0.0\n",
       "Subject Perceived Gender   0.1\n",
       "Officer Age                0.1\n",
       "Weekday                    0.0\n",
       "Time of Month              0.0\n",
       "Precinct                   0.0\n",
       "Watch                      0.0\n",
       "Final Call Re-map          0.6\n",
       "dtype: float32"
      ]
     },
     "execution_count": 153,
     "metadata": {},
     "output_type": "execute_result"
    },
    {
     "data": {
      "image/png": "[encoded data removed]",
      "text/plain": [
       "<Figure size 720x720 with 1 Axes>"
      ]
     },
     "metadata": {
      "needs_background": "light"
     },
     "output_type": "display_data"
    }
   ],
   "source": [
    "# The SMOTED data on XBG-RF,  just for fun\n",
    "xgb_rf = XGBRFClassifier()\n",
    "xgb_rf.fit(X_train, y_train)\n",
    "print('Training score: ' ,round(xgb_rf.score(X_train,y_train),2))\n",
    "print('Test score: ',round(xgb_rf.score(X_test,y_test),2))\n",
    "\n",
    "y_hat_test = xgb_rf.predict(X_test)\n",
    "\n",
    "evaluate_model(y_test,y_hat_test, X_test, xgb_rf)"
   ]
  },
  {
   "cell_type": "code",
   "execution_count": null,
   "metadata": {},
   "outputs": [],
   "source": [
    "# Try a Support Vector Machine,  for the heck of it\n"
   ]
  },
  {
   "cell_type": "code",
   "execution_count": 154,
   "metadata": {},
   "outputs": [
    {
     "name": "stdout",
     "output_type": "stream",
     "text": [
      "Accuracy Score : 0.6219839142091153\n",
      "              precision    recall  f1-score   support\n",
      "\n",
      "Not Arrested       0.81      0.65      0.72      9107\n",
      "    Arrested       0.36      0.56      0.43      3202\n",
      "\n",
      "    accuracy                           0.62     12309\n",
      "   macro avg       0.58      0.60      0.57     12309\n",
      "weighted avg       0.69      0.62      0.64     12309\n",
      "\n"
     ]
    },
    {
     "data": {
      "image/png": "[encoded data removed]",
      "text/plain": [
       "<Figure size 720x288 with 3 Axes>"
      ]
     },
     "metadata": {
      "needs_background": "light"
     },
     "output_type": "display_data"
    }
   ],
   "source": [
    "from sklearn.svm import SVC,LinearSVC,NuSVC\n",
    "clf = SVC()\n",
    "clf.fit(X_train,y_train)\n",
    "y_hat_test = clf.predict(X_test)\n",
    "evaluate_model(y_test,y_hat_test,X_test,clf)"
   ]
  },
  {
   "cell_type": "code",
   "execution_count": 161,
   "metadata": {},
   "outputs": [],
   "source": [
    "# Try Categorical SMOTE\n",
    "\n",
    "from imblearn.over_sampling import SMOTENC\n",
    "smote_nc = SMOTENC(categorical_features = [0,11])\n"
   ]
  },
  {
   "cell_type": "code",
   "execution_count": 162,
   "metadata": {},
   "outputs": [
    {
     "data": {
      "text/plain": [
       "1    21248\n",
       "0    21248\n",
       "Name: Stop Resolution, dtype: int64"
      ]
     },
     "metadata": {},
     "output_type": "display_data"
    },
    {
     "data": {
      "text/plain": [
       "0    9107\n",
       "1    3202\n",
       "Name: Stop Resolution, dtype: int64"
      ]
     },
     "metadata": {},
     "output_type": "display_data"
    }
   ],
   "source": [
    "\n",
    "df_to_split = df.drop(columns = 'Initial Call Re-map')\n",
    "category_cols = df_to_split.columns\n",
    "target_col = ['Stop Resolution']\n",
    "df_to_split = pd.DataFrame()\n",
    "\n",
    "# Convert catogories to cat.codes\n",
    "\n",
    "for header in category_cols:\n",
    "    df_to_split[header] = df[header].astype('category').cat.codes\n",
    "    \n",
    "y = df_to_split['Stop Resolution']\n",
    "X = df_to_split.drop('Stop Resolution',axis=1)\n",
    "\n",
    "X_train, X_test, y_train,y_test  = train_test_split(X,y,test_size=.3,\n",
    "                                                    random_state=42,stratify=y)\n",
    "#X.info()\n",
    "X_train, y_train = smote_nc.fit_sample(X_train, y_train)\n",
    "display(y_train.value_counts(normalize=False),y_test.value_counts(normalize=False))\n"
   ]
  },
  {
   "cell_type": "code",
   "execution_count": 163,
   "metadata": {},
   "outputs": [
    {
     "name": "stdout",
     "output_type": "stream",
     "text": [
      "Training score:  0.86\n",
      "Test score:  0.79\n",
      "Accuracy Score : 0.7869851328296369\n",
      "              precision    recall  f1-score   support\n",
      "\n",
      "Not Arrested       0.90      0.80      0.85      9107\n",
      "    Arrested       0.57      0.75      0.65      3202\n",
      "\n",
      "    accuracy                           0.79     12309\n",
      "   macro avg       0.74      0.78      0.75     12309\n",
      "weighted avg       0.82      0.79      0.80     12309\n",
      "\n"
     ]
    },
    {
     "data": {
      "image/png": "[encoded data removed]",
      "text/plain": [
       "<Figure size 720x288 with 3 Axes>"
      ]
     },
     "metadata": {
      "needs_background": "light"
     },
     "output_type": "display_data"
    },
    {
     "data": {
      "text/plain": [
       "Subject Age Group           5.0\n",
       "Weapon Type                 4.2\n",
       "Officer Gender              1.3\n",
       "Officer Race                2.8\n",
       "Subject Perceived Race      3.9\n",
       "Subject Perceived Gender    1.5\n",
       "Officer Age                 4.1\n",
       "Weekday                     4.8\n",
       "Time of Month               2.6\n",
       "Precinct                    6.2\n",
       "Watch                       3.7\n",
       "Final Call Re-map          59.9\n",
       "dtype: float64"
      ]
     },
     "execution_count": 163,
     "metadata": {},
     "output_type": "execute_result"
    },
    {
     "data": {
      "image/png": "[encoded data removed]",
      "text/plain": [
       "<Figure size 720x720 with 1 Axes>"
      ]
     },
     "metadata": {
      "needs_background": "light"
     },
     "output_type": "display_data"
    }
   ],
   "source": [
    "\n",
    "clf = CatBoostClassifier()\n",
    "clf.fit(X_train,y_train,logging_level='Silent')\n",
    "print('Training score: ' ,round(clf.score(X_train,y_train),2))\n",
    "print('Test score: ',round(clf.score(X_test,y_test),2))\n",
    "\n",
    "y_hat_test = clf.predict(X_test)\n",
    "\n",
    "evaluate_model(y_test,y_hat_test,X_test,clf)"
   ]
  },
  {
   "cell_type": "code",
   "execution_count": 165,
   "metadata": {},
   "outputs": [],
   "source": [
    "# https://imbalanced-learn.readthedocs.io/en/stable/auto_examples/over-sampling/plot_comparison_over_sampling.html#sphx-glr-auto-examples-over-sampling-plot-comparison-over-sampling-py\n",
    "# Interesting plotting and decision analyses to understanding different sampling algorithms\n",
    "\n",
    "def plot_resampling(X, y, sampling, ax):\n",
    "    X_res, y_res = sampling.fit_resample(X, y)\n",
    "    ax.scatter(X_res[:, 0], X_res[:, 1], c=y_res, alpha=0.8, edgecolor='k')\n",
    "    # make nice plotting\n",
    "    ax.spines['top'].set_visible(False)\n",
    "    ax.spines['right'].set_visible(False)\n",
    "    ax.get_xaxis().tick_bottom()\n",
    "    ax.get_yaxis().tick_left()\n",
    "    ax.spines['left'].set_position(('outward', 10))\n",
    "    ax.spines['bottom'].set_position(('outward', 10))\n",
    "    return Counter(y_res)\n",
    "\n"
   ]
  },
  {
   "cell_type": "code",
   "execution_count": 164,
   "metadata": {},
   "outputs": [],
   "source": [
    "def plot_decision_function(X, y, clf, ax):\n",
    "    plot_step = 0.02\n",
    "    x_min, x_max = X[:, 0].min() - 1, X[:, 0].max() + 1\n",
    "    y_min, y_max = X[:, 1].min() - 1, X[:, 1].max() + 1\n",
    "    xx, yy = np.meshgrid(np.arange(x_min, x_max, plot_step),\n",
    "                         np.arange(y_min, y_max, plot_step))\n",
    "\n",
    "    Z = clf.predict(np.c_[xx.ravel(), yy.ravel()])\n",
    "    Z = Z.reshape(xx.shape)\n",
    "    ax.contourf(xx, yy, Z, alpha=0.4)\n",
    "    ax.scatter(X[:, 0], X[:, 1], alpha=0.8, c=y, edgecolor='k')"
   ]
  },
  {
   "cell_type": "code",
   "execution_count": null,
   "metadata": {},
   "outputs": [],
   "source": []
  },
  {
   "cell_type": "code",
   "execution_count": null,
   "metadata": {},
   "outputs": [],
   "source": []
  },
  {
   "cell_type": "code",
   "execution_count": null,
   "metadata": {},
   "outputs": [],
   "source": []
  },
  {
   "cell_type": "code",
   "execution_count": null,
   "metadata": {},
   "outputs": [],
   "source": []
  },
  {
   "cell_type": "markdown",
   "metadata": {},
   "source": [
    "## 11. Gridsearch on Best Model\n",
    "\n",
    "* **The Next Steps will be a set of experiments to look how the models can improve based on:**\n",
    "    - [1] Feature Selection:  Initial Call Type Versus Final Call Type \n",
    "    - [2] Model type:  XGBoost-RF  vs CatBoost\n",
    "    - [3] Balancing the dataset from best model of [1] and [2]\n",
    "    - [4] HyperParameter tuning for [3] <br><br>\n",
    "    \n",
    "* **The Next Experiment will be (Bold Type):**\n",
    "\n",
    "    - A = XBG + Initial Call Type\n",
    "    - B = XBG + Final Call Type\n",
    "    - C = Catboost + Initial Call Type\n",
    "    - D = Catboost + Final Call Type\n",
    "    - E = SMOTE + Best of (A,B,C,D))\n",
    "    - **F = Gridsearch on E**\n"
   ]
  },
  {
   "cell_type": "code",
   "execution_count": null,
   "metadata": {},
   "outputs": [],
   "source": []
  },
  {
   "cell_type": "code",
   "execution_count": null,
   "metadata": {},
   "outputs": [],
   "source": []
  },
  {
   "cell_type": "code",
   "execution_count": null,
   "metadata": {},
   "outputs": [],
   "source": []
  },
  {
   "cell_type": "code",
   "execution_count": null,
   "metadata": {},
   "outputs": [],
   "source": []
  },
  {
   "cell_type": "code",
   "execution_count": null,
   "metadata": {},
   "outputs": [],
   "source": []
  },
  {
   "cell_type": "code",
   "execution_count": null,
   "metadata": {},
   "outputs": [],
   "source": []
  },
  {
   "cell_type": "code",
   "execution_count": null,
   "metadata": {},
   "outputs": [],
   "source": []
  },
  {
   "cell_type": "code",
   "execution_count": null,
   "metadata": {},
   "outputs": [],
   "source": []
  },
  {
   "cell_type": "markdown",
   "metadata": {},
   "source": [
    "Seattle Police Deparment Section 6.220 of the Police Manual\n",
    "\n",
    "http://www.seattle.gov/police-manual/title-6---arrests-search-and-seizure/6220---voluntary-contacts-terry-stops-and-detentions\n",
    "\n",
    "http://www.seattle.gov/police/information-and-data/terry-stops/terry-stops-dashboard\n",
    "\n",
    "Effective Date: 01/01/2020\n",
    "\n",
    "This policy applies to all sworn employees conducting voluntary contacts and/or stops/detentions based upon reasonable suspicion (Terry).\n",
    "\n",
    "This policy does not apply to detentions based upon probable cause and community caretaking functions pursuant to RCW 71.05.153.\n",
    "\n",
    "6.220 - POL – 1 Definitions\n",
    "\n",
    "Seizure: A seizure occurs any time an officer, by means of physical force or show of authority, restricts the liberty of a person.  A seizure may also occur if an officer uses words, actions, or demeanor that would make a reasonable person believe that they are not free to leave.\n",
    "\n",
    "Voluntary Contacts: During voluntary contacts, officers will not use any words, actions, demeanor, or other show of authority that would indicate that a person is not free to leave; voluntary contacts are not seizures.\n",
    "\n",
    "Voluntary Contacts fall under two categories:\n",
    "\n",
    "Social Contact: A voluntary and consensual encounter between the police and a subject with the intent of engaging in casual and/or non-investigative conversation. The subject is free to leave and/or decline any of the officer’s requests at any point; social contacts are not seizures.\n",
    "\n",
    "Non-Custodial Interview: A voluntary and consensual investigatory interview that an officer conducts with a subject during which the subject is free to leave and/or decline any of the officer’s requests at any point; non-custodial interviews are not seizures.\n",
    "\n",
    "Terry Stop: A brief, minimally intrusive seizure of a subject based upon articulable reasonable suspicion in order to investigate possible criminal activity. The stop can apply to people as well as vehicles. The subject of a Terry stop is not free to leave. A Terry stop is a seizure under both the state and federal constitutions.\n",
    "\n",
    "- A Terry stop is a detention, based on reasonable suspicion, during which an officer may develop facts to establish probable cause or dispel suspicion.\n",
    "\n",
    "- Stops and detentions initiated under probable cause will be made pursuant to Manual Sections:\n",
    "\n",
    "- 6.010- Arrests;\n",
    "\n",
    "- 6.280-Warrant Arrests;\n",
    "\n",
    "- 16.230-Issuing Tickets and Traffic Contact Reports;\n",
    "\n",
    "- 16.110-Crisis Intervention or;\n",
    "\n",
    "- 15.020 - Charge-By-Officer\n",
    "\n",
    "Reasonable Suspicion: Specific, objective, articulable facts, which, taken together with rational inferences, would create a well-founded suspicion that there is a substantial possibility that a subject has engaged, is engaging or is about to engage in criminal conduct.\n",
    "\n",
    "-The reasonableness of a Terry stop is considered in view of the totality of the circumstances, the officer’s training and experience, and what the officer knew before the stop.\n",
    "\n",
    "- During a stop, an officer may learn new information that can lead to additional reasonable suspicion or probable cause that a crime has occurred, but that new information cannot provide the justification for the original stop.\n",
    "\n",
    "6.220 - POL – 2 Conducting a Terry Stop\n",
    "\n",
    "1. Terry Stops are Seizures Based Upon Reasonable Suspicion\n",
    "\n",
    "This policy prohibits Terry stops when an officer lacks reasonable suspicion that a subject has been, is, or is about to engage in the commission of a crime.\n",
    "\n",
    "Searches and seizures by officers are lawful to the extent they meet the requirements of the 4th Amendment (see Terry v. Ohio, 392 U.S. 1 (1968), and Washington Constitution Art. 1, Section 7.\n",
    "\n",
    "2. During a Terry Stop, Officers Will Limit the Seizure to a Reasonable Scope\n",
    "\n",
    "Officers will articulate in their Report, the justification for the initiation, scope and duration of a Terry stop.\n",
    "\n",
    "Actions that would indicate to a reasonable person that they are under arrest or indefinitely detained may convert a Terry stop to an arrest; however, taking any of these actions does not necessarily turn a Terry stop into an arrest.\n",
    "\n",
    "Unless justified by the articulable reasons for the original stop, officers must have additional articulable justification for further limiting a person’s freedom during a Terry stop, such as:\n",
    "\n",
    "- Taking a subject’s identification or driver license away from the immediate vicinity\n",
    "\n",
    "- Ordering a motorist to exit a vehicle\n",
    "\n",
    "- Putting a pedestrian up against a wall\n",
    "\n",
    "- Directing a person to stand or remain standing, or to sit on a patrol car bumper or any other place not of their choosing\n",
    "\n",
    "- Directing a person to lie or sit on the ground\n",
    "\n",
    "- Applying handcuffs\n",
    "\n",
    "- Transporting any distance away from the scene of the initial stop, including for the purpose of witness identification\n",
    "\n",
    "- Placing a subject into a police vehicle\n",
    "\n",
    "- Pointing a firearm at a person or occupied vehicle\n",
    "\n",
    "- Frisking for weapons\n",
    "\n",
    "- De minimis force\n",
    "\n",
    "3. During a Terry Stop, Officers Will Limit the Seizure to a Reasonable Amount of Time\n",
    "\n",
    "Subjects may be seized for only that period of time necessary to effect the purpose of the stop. Any delays in completing the necessary actions will be objectively reasonable.\n",
    "\n",
    "Officers may not extend a detention solely to await the arrival of a supervisor.\n",
    "\n",
    "4. During all Terry Stops, Officers Will Take Reasonable Steps to Be Courteous and Professional\n",
    "\n",
    "When reasonable, as early in the contact as safety permits, the officer making contact with the subject (contact officer) will inform the suspect of the following:\n",
    "\n",
    "- The officer’s name;\n",
    "\n",
    "- The officer’s rank or title;\n",
    "\n",
    "- The fact that the officer is a Seattle Police Officer;\n",
    "\n",
    "- The reason for the stop; and\n",
    "\n",
    "- That the stop is being recorded, if applicable (See 16.090 – In-Car and Body Worn Video).\n",
    "\n",
    "When releasing a person at the end of a Terry stop, officers will advise the person that they are free to leave, offer an explanation of the circumstances and reasons for the Terry stop, and provide the person a business card with the event number as a receipt. Officers will not extend a detention to explain the Terry stop or provide a receipt.\n",
    "\n",
    "5. Officers Cannot Require Subjects to Identify Themselves or Answer Questions on a Terry Stop\n",
    "\n",
    "During a Terry stop, officers may request identification; however, subjects are not obligated to provide identification or information upon request.\n",
    "\n",
    "Exceptions: As listed in 6.220—POL-3 Conducting a Detention to Issue a Notice of Infraction, Issue a Citation, and Other Exceptions.\n",
    "\n",
    "6. Officers May Conduct a Frisk of Stopped Subject(s) Only if They Have an Articulable and Reasonable Safety Concern that the Person is Armed and Presently Dangerous\n",
    "\n",
    "The purpose and scope of a frisk is to discover weapons or other items which pose a danger to the officer or those nearby. It is not a generalized search of the entire person. The decision to conduct a frisk is based upon the totality of the circumstances and the reasonable conclusions drawn from the officer’s training and experience.  Generally, the frisk will be limited to a pat-down of outer clothing.  Once the officer ascertains that no weapon is present after the frisk is completed, the officer’s limited authority to frisk is completed (i.e. the frisk will stop).\n",
    "\n",
    "- A weapons frisk is a limited search determined by the state and federal constitutions.\n",
    "\n",
    "- All consent searches will be conducted and memorialized via body-worn video, in-car video or signed consent form pursuant to Manual Section 6.180.\n",
    "\n",
    "- Officers will not frisk for weapons on a social contact or noncustodial interview.\n",
    "\n",
    "- A frisk will not be used as a pretext to search for incriminating evidence.\n",
    "\n",
    "- The fact that a Terry stop occurs in a high-crime area is not by itself sufficient to justify a frisk.\n",
    "\n",
    "Frisk factors may include, but are not limited to:\n",
    "\n",
    "- Prior knowledge that the subject carries a weapon;\n",
    "\n",
    "- Suspicious behavior, such as failure to comply with instructions to keep hands in sight; and\n",
    "\n",
    "- Observations, such as suspicious bulges, consistent with carrying a concealed weapon.\n",
    "\n",
    "7. Under Washington State Law, Traffic Violations Will Not Be Used as a Pretext to Investigate Unrelated Crimes\n",
    "\n",
    "- Pretext is stopping a suspect for an infraction to investigate criminal activity for which the officer has neither reasonable suspicion nor probable cause.\n",
    "\n",
    "- The Washington State Constitution forbids use of pretext as a justification for a warrantless search or seizure.\n",
    "\n",
    "- Officers will consciously, and independently determine that a traffic stop is reasonably necessary in order to address a suspected traffic infraction.\n",
    "\n",
    "8. Supervisors Will Screen All Incidents In-Person When an Officer Places Handcuffs on a Subject\n",
    "\n",
    "Officers will not extend a detention solely to await the arrival of a supervisor.\n",
    "\n",
    "When un-handcuffing a subject for release, the officer will immediately notify a supervisor, inform the subject that they are free to leave and inform them that a sergeant is en route to the scene.\n",
    "\n",
    "- If the subject declines to speak with a supervisor or wishes to leave before the supervisor arrives, the officer will attempt to offer the subject the supervisor's contact information.\n",
    "\n",
    "- If the subject decides to wait for the supervisor, the officer will wait at the location for the supervisor to arrive.\n",
    "\n",
    "- If the subject does not wish to remain on-scene to speak with the supervisor, the officer may arrange to meet the supervisor at another location to screen the incident.\n",
    "\n",
    "9. When Making an Arrest, Officers May Seize Non-Arrested Companions for Articulable and Reasonable Officer Safety Concerns\n",
    "\n",
    "Officers will only maintain the seizure of non-arrested companions based on safety concerns for as long as the objective rationale for the seizure continues to exist.  The scope and nature of the seizure must be objectively reasonable based on the factors justifying the detention.\n",
    "\n",
    "Officers will articulate objective safety concerns for the officers, the arrestee, their companions, or other persons when seizing non-arrested companions.\n",
    "\n",
    "Factors to consider when seizing non-arrested companions include (but are not limited to):\n",
    "\n",
    "- The type of arrest;\n",
    "\n",
    "- The number of officers;\n",
    "\n",
    "- The number of people present at the scene of the arrest;\n",
    "\n",
    "- The time of day;\n",
    "\n",
    "- The behavior of those present at the scene;\n",
    "\n",
    "- The location of the arrest;\n",
    "\n",
    "- The presence or suspected presence of a weapon;\n",
    "\n",
    "- Officer knowledge of the arrestee or the companions; and/or\n",
    "\n",
    "- Potentially affected persons\n",
    "\n",
    "This is not an exhaustive list. Justification to detain non-arrested companions will be made based upon the totality of the circumstances.\n",
    "\n",
    "6.220 - POL – 3 Conducting a Detention to Issue a Notice of Infraction, Issue a Citation, and Other Exceptions\n",
    "\n",
    "1. Certain Statutory Exceptions Require the Subject to Provide Identification:\n",
    "\n",
    "- When the subject is a driver stopped for a traffic infraction investigation (RCW 46.61.021) failure to provide identification is a misdemeanor.\n",
    "\n",
    "- When the subject is attempting to purchase liquor (RCW 66.20.180).\n",
    "\n",
    "- When the subject is carrying a concealed pistol (RCW 9.41.050) failure to provide CPL is a civil infraction.\n",
    "\n",
    "Officers may not transport a person to any police facility or jail for the sole purpose of identifying them unless they have probable cause for arrest.\n",
    "\n",
    "While investigating a crime or possible crime, executing a search or arrest warrant, or issuing a citation or parks exclusion notice, officers may arrest subjects for false reporting SMC 12A.16.040(D) when subjects provide false written or oral identification.\n",
    "\n",
    "2. Officers Can Detain Subjects to Identify Them in Order to Issue a Notice of Infraction\n",
    "\n",
    "Under SMC 12A.02.140 and RCW 7.80.060, when an officer has probable cause to issue a Notice of Infraction for any City ordinance violation, the officer may detain the subject for a reasonable period of time to identify the subject.\n",
    "\n",
    "When officers have probable cause to issue a Notice of Infraction, and the subject refuses to identify themselves, the officer may request that a fingerprinting kit or Mobile ID be delivered to the scene and detain the subject for a reasonable amount of time to facilitate the fingerprinting.\n",
    "\n",
    "6.220 - POL – 4 Documenting a Terry Stop\n",
    "\n",
    "1. Officers Will Document All Terry Stops\n",
    "\n",
    "The documentation should contain all information requested in the Field Contact, but at a minimum will contain at least the following elements:\n",
    "\n",
    "- The original, objective facts justifying the reasonable suspicion for the stop or detention;\n",
    "\n",
    "- Any subsequent, objective facts that lengthen the original detention;\n",
    "\n",
    "- The scope and duration of the stop or detention;\n",
    "\n",
    "- The disposition of the stop or detention, including whether an arrest resulted;\n",
    "\n",
    "- Whether a frisk or consensual search was conducted;\n",
    "\n",
    "- The facts justifying the frisk or consensual search; and\n",
    "\n",
    "- The results of the frisk or consensual search\n",
    "\n",
    "- Demographic information pertaining to the subject, including perceived race, perceived age, and perceived gender; and\n",
    "\n",
    "- Any complications or delays that contributed to an inability to fill out all information on the Field Contact.\n",
    "\n",
    "Officers will clearly articulate the objective facts they rely upon in determining reasonable suspicion and probable cause.\n",
    "\n",
    "Officers will document all Terry stops on a Field Contact. Officers will use a separate Field Contact for each person seized during a Terry stop.\n",
    "\n",
    "- Officers are required to complete a Field Contact regardless of the outcome of the Terry stop.\n",
    "\n",
    "- Where an officer develops probable cause for arrest during the course of the stop, a Field Contact is still required.\n",
    "\n",
    "2. Officers Will Submit all Field Contacts Before They Leave at the End of their Shift\n",
    "\n",
    "Exception: Field Contacts documenting Off-Duty Terry Stops that do not lead to an arrest will be submitted by the completion of the next Department work shift.\n",
    "\n",
    "3. Officers Will Document All Other Detentions\n",
    "\n",
    "- Social contacts are not detentions and do not require documentation per this policy.\n",
    "\n",
    "- If the scope of the social contact evolves into a Terry stop, the officer will document the detention via a Field Contact.\n",
    "\n",
    "- Detentions based on probable cause do not require a Field Contact but require the officer to document the stop via a Report, Infraction/Citation, Traffic Contact Report, Trespass Warning, or Parks Trespass Warning/Exclusion.\n",
    "\n",
    "Supervisors will ensure the correct documentation of all detentions.\n",
    "\n",
    "4. Supervisors Will Review the Documentation of Terry Stops\n",
    "\n",
    "Absent extenuating circumstances, by the end of each shift, supervisors will review their officers’ Reports and Field Contacts that document the Terry stops made during the shift to determine if they were supported by reasonable suspicion and are consistent with SPD policy, federal, and state law.\n",
    "\n",
    "If a supervisor concludes that a Terry stop appears to be inconsistent with SPD policy, the supervisor, in consultation with their chain of command, shall address the concern and make the appropriate referral pursuant to Section 5.002. Such action may include PAS documentation and/or referral to OPA.  The supervisor shall document these concerns and any actions taken on a Supplement when approving the Report or Field Contact.\n",
    "\n",
    "- If a supervisor finds the documentation of the detention insufficient, the supervisor will return the documentation to the officer for corrections before the end of that shift.\n",
    "\n"
   ]
  }
 ],
 "metadata": {
  "kernelspec": {
   "display_name": "Python 3",
   "language": "python",
   "name": "python3"
  },
  "language_info": {
   "codemirror_mode": {
    "name": "ipython",
    "version": 3
   },
   "file_extension": ".py",
   "mimetype": "text/x-python",
   "name": "python",
   "nbconvert_exporter": "python",
   "pygments_lexer": "ipython3",
   "version": "3.7.0"
  },
  "toc": {
   "base_numbering": 1,
   "nav_menu": {},
   "number_sections": false,
   "sideBar": true,
   "skip_h1_title": false,
   "title_cell": "Table of Contents",
   "title_sidebar": "Contents",
   "toc_cell": false,
   "toc_position": {
    "height": "calc(100% - 180px)",
    "left": "10px",
    "top": "150px",
    "width": "261.75px"
   },
   "toc_section_display": true,
   "toc_window_display": true
  },
  "varInspector": {
   "cols": {
    "lenName": 16,
    "lenType": 16,
    "lenVar": 40
   },
   "kernels_config": {
    "python": {
     "delete_cmd_postfix": "",
     "delete_cmd_prefix": "del ",
     "library": "var_list.py",
     "varRefreshCmd": "print(var_dic_list())"
    },
    "r": {
     "delete_cmd_postfix": ") ",
     "delete_cmd_prefix": "rm(",
     "library": "var_list.r",
     "varRefreshCmd": "cat(var_dic_list()) "
    }
   },
   "types_to_exclude": [
    "module",
    "function",
    "builtin_function_or_method",
    "instance",
    "_Feature"
   ],
   "window_display": false
  }
 },
 "nbformat": 4,
 "nbformat_minor": 2
}
